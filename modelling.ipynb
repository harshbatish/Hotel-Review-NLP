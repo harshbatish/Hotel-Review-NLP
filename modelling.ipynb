{
 "cells": [
  {
   "cell_type": "markdown",
   "id": "67703adb",
   "metadata": {},
   "source": [
    "# Harsh Sharma"
   ]
  },
  {
   "cell_type": "markdown",
   "id": "adc4c2db",
   "metadata": {},
   "source": [
    "## NLP With Hotel Review Part 2"
   ]
  },
  {
   "cell_type": "markdown",
   "id": "8b7f7ee0",
   "metadata": {},
   "source": [
    "---"
   ]
  },
  {
   "cell_type": "markdown",
   "id": "00150454",
   "metadata": {},
   "source": [
    "## Table of contents"
   ]
  },
  {
   "cell_type": "markdown",
   "id": "de5117ca",
   "metadata": {},
   "source": [
    "[__Context to the problem__](#context)<br>\n",
    "\n",
    "[__EDA__](#part0)<br>\n",
    "\n",
    "\n",
    "[__Modeling__](#part1)<br>\n",
    "\n",
    "\n",
    "[__Question 1: Running a logistic regression model__](#Que1)<br>\n",
    "   *   [1.a: Accuracy of the model](#Que1.a)<br>\n",
    "   *  [1.b: Top 20 predictive words for the positive and negative review](#Que1.b)<br>\n",
    "   *   [1.c: Reducing dimensionality by PCA](#Que1.c)<br>\n",
    "   *  [1.d: Advantages and disadvantages of dimensionality reduction](#Que1.d)<br>\n",
    "   \n",
    "[__Question 2: Running a KNN model__](#Que2)<br>\n",
    "   *   [2.a: Accuracy of the model](#Que2.a)<br>\n",
    "   *  [2.b: Number of observations v/s run-time for KNN](#Que2.b)<br>\n",
    "   *   [2.c: Advantage and disadvantage of reducung number of observations](#Que2.c)<br>\n",
    "   *  [2.d: Optimal value of K](#Que2.d)<br>\n",
    "   *  [2.e: Issue of splitting into train-validation sets after vectorization](#Que2.e)<br>\n",
    "\n",
    "\n",
    "[__Question 3: Running a Decision Tree Model__](#Que3)<br>\n",
    "   *   [3.a: Accuracy of the model](#Que3.a)<br>\n",
    "   *  [3.b: Optimal max_depth](#Que3.b)<br>\n",
    "   *   [3.c: Strengths and weeknesses of DT model](#Que3.c)<br>\n",
    "\n",
    "[__Question 4: Validation set v/s Test set__](#Que4)<br>\n",
    "\n",
    "[__Question 5: Cross-validation of DT model__](#Que5)<br>\n",
    "   *   [5.a: 5-fold validation and optimizing hyperparameter](#Que5.a)<br>\n",
    "   *  [5.b: Confusion matrix of the best model](#Que5.b)<br>\n",
    "   \n",
    "[__Question 6__](#Que6)<br>\n",
    "   *   [6.a: Improving accuracy by feature engineering](#Que6.a)<br>\n",
    "   *  [6.b: Optimizing hyperparameter and checking final accuracy](#Que6.b)<br>\n",
    "   \n",
    "[__Summary__](#summary)<br>"
   ]
  },
  {
   "cell_type": "markdown",
   "id": "051bf92c",
   "metadata": {},
   "source": [
    "---"
   ]
  },
  {
   "cell_type": "markdown",
   "id": "3878e9f8",
   "metadata": {},
   "source": [
    "### Context to the problem:\n",
    "<a class ='anchor' id = 'context' ></a>"
   ]
  },
  {
   "cell_type": "markdown",
   "id": "32b03ca8",
   "metadata": {},
   "source": [
    "We have been given a cleaned dataset for the ratings of different hotels in 6 countries in Europe. There are more than 100 hotels and people from all around the world visit here. The data we have is from 3 years and is mostly about details of the specific trip, hotel names and postive and negative reviews given by the customers. Our goal is to some analysis on this data and see what are the factors which affected the rating of the particular trip and the hotel."
   ]
  },
  {
   "cell_type": "markdown",
   "id": "25fef07f",
   "metadata": {},
   "source": [
    "---"
   ]
  },
  {
   "cell_type": "markdown",
   "id": "fea6a1dd",
   "metadata": {},
   "source": [
    "__Loading all the libraries.__"
   ]
  },
  {
   "cell_type": "code",
   "execution_count": 1093,
   "id": "94d6a82b",
   "metadata": {},
   "outputs": [],
   "source": [
    "# Importing everything we need \n",
    "# The usual packages\n",
    "import numpy as np \n",
    "import pandas as pd \n",
    "import matplotlib.pyplot as plt \n",
    "%matplotlib inline\n",
    "import seaborn as sns\n",
    "\n",
    "# Splitting data\n",
    "from sklearn.model_selection import train_test_split \n",
    "\n",
    "# Scalers\n",
    "from sklearn.preprocessing import StandardScaler, MinMaxScaler \n",
    "\n",
    "# Classifiers \n",
    "from sklearn.linear_model import LogisticRegression\n",
    "from sklearn.neighbors import KNeighborsClassifier\n",
    "from sklearn.tree import DecisionTreeClassifier\n",
    "from sklearn.svm import SVC\n",
    "\n",
    "import time"
   ]
  },
  {
   "cell_type": "markdown",
   "id": "dfa3148c",
   "metadata": {},
   "source": [
    "#### Load the dataset"
   ]
  },
  {
   "cell_type": "code",
   "execution_count": 1094,
   "id": "144e49bf",
   "metadata": {},
   "outputs": [],
   "source": [
    "# loading the dataset\n",
    "hotel_df = pd.read_csv('clean_train_dataframe.csv')"
   ]
  },
  {
   "cell_type": "code",
   "execution_count": 1095,
   "id": "29ac3f80",
   "metadata": {},
   "outputs": [
    {
     "data": {
      "text/html": [
       "<div>\n",
       "<style scoped>\n",
       "    .dataframe tbody tr th:only-of-type {\n",
       "        vertical-align: middle;\n",
       "    }\n",
       "\n",
       "    .dataframe tbody tr th {\n",
       "        vertical-align: top;\n",
       "    }\n",
       "\n",
       "    .dataframe thead th {\n",
       "        text-align: right;\n",
       "    }\n",
       "</style>\n",
       "<table border=\"1\" class=\"dataframe\">\n",
       "  <thead>\n",
       "    <tr style=\"text-align: right;\">\n",
       "      <th></th>\n",
       "      <th>Additional_Number_of_Scoring</th>\n",
       "      <th>Average_Score</th>\n",
       "      <th>Review_Total_Negative_Word_Counts</th>\n",
       "      <th>Total_Number_of_Reviews</th>\n",
       "      <th>Review_Total_Positive_Word_Counts</th>\n",
       "      <th>Total_Number_of_Reviews_Reviewer_Has_Given</th>\n",
       "      <th>days_since_review</th>\n",
       "      <th>lat</th>\n",
       "      <th>lng</th>\n",
       "      <th>weekday_of_review</th>\n",
       "      <th>...</th>\n",
       "      <th>n_worry</th>\n",
       "      <th>n_worth</th>\n",
       "      <th>n_would</th>\n",
       "      <th>n_write</th>\n",
       "      <th>n_wrong</th>\n",
       "      <th>n_year</th>\n",
       "      <th>n_yes</th>\n",
       "      <th>n_yet</th>\n",
       "      <th>n_young</th>\n",
       "      <th>rating</th>\n",
       "    </tr>\n",
       "  </thead>\n",
       "  <tbody>\n",
       "    <tr>\n",
       "      <th>0</th>\n",
       "      <td>1005</td>\n",
       "      <td>8.3</td>\n",
       "      <td>0</td>\n",
       "      <td>3469</td>\n",
       "      <td>6</td>\n",
       "      <td>2</td>\n",
       "      <td>297</td>\n",
       "      <td>51.559096</td>\n",
       "      <td>-0.284704</td>\n",
       "      <td>0</td>\n",
       "      <td>...</td>\n",
       "      <td>0</td>\n",
       "      <td>0</td>\n",
       "      <td>0</td>\n",
       "      <td>0</td>\n",
       "      <td>0</td>\n",
       "      <td>0</td>\n",
       "      <td>0</td>\n",
       "      <td>0</td>\n",
       "      <td>0</td>\n",
       "      <td>0</td>\n",
       "    </tr>\n",
       "    <tr>\n",
       "      <th>1</th>\n",
       "      <td>487</td>\n",
       "      <td>8.8</td>\n",
       "      <td>46</td>\n",
       "      <td>1805</td>\n",
       "      <td>121</td>\n",
       "      <td>1</td>\n",
       "      <td>4</td>\n",
       "      <td>51.474469</td>\n",
       "      <td>-0.019428</td>\n",
       "      <td>6</td>\n",
       "      <td>...</td>\n",
       "      <td>0</td>\n",
       "      <td>0</td>\n",
       "      <td>0</td>\n",
       "      <td>0</td>\n",
       "      <td>0</td>\n",
       "      <td>0</td>\n",
       "      <td>0</td>\n",
       "      <td>0</td>\n",
       "      <td>0</td>\n",
       "      <td>1</td>\n",
       "    </tr>\n",
       "    <tr>\n",
       "      <th>2</th>\n",
       "      <td>570</td>\n",
       "      <td>9.3</td>\n",
       "      <td>0</td>\n",
       "      <td>2319</td>\n",
       "      <td>9</td>\n",
       "      <td>1</td>\n",
       "      <td>590</td>\n",
       "      <td>51.505696</td>\n",
       "      <td>-0.101525</td>\n",
       "      <td>1</td>\n",
       "      <td>...</td>\n",
       "      <td>0</td>\n",
       "      <td>0</td>\n",
       "      <td>0</td>\n",
       "      <td>0</td>\n",
       "      <td>0</td>\n",
       "      <td>0</td>\n",
       "      <td>0</td>\n",
       "      <td>0</td>\n",
       "      <td>0</td>\n",
       "      <td>1</td>\n",
       "    </tr>\n",
       "    <tr>\n",
       "      <th>3</th>\n",
       "      <td>2623</td>\n",
       "      <td>8.7</td>\n",
       "      <td>19</td>\n",
       "      <td>12158</td>\n",
       "      <td>0</td>\n",
       "      <td>2</td>\n",
       "      <td>269</td>\n",
       "      <td>51.500961</td>\n",
       "      <td>-0.116591</td>\n",
       "      <td>0</td>\n",
       "      <td>...</td>\n",
       "      <td>0</td>\n",
       "      <td>0</td>\n",
       "      <td>0</td>\n",
       "      <td>0</td>\n",
       "      <td>0</td>\n",
       "      <td>0</td>\n",
       "      <td>0</td>\n",
       "      <td>0</td>\n",
       "      <td>0</td>\n",
       "      <td>0</td>\n",
       "    </tr>\n",
       "    <tr>\n",
       "      <th>4</th>\n",
       "      <td>365</td>\n",
       "      <td>8.1</td>\n",
       "      <td>13</td>\n",
       "      <td>1567</td>\n",
       "      <td>0</td>\n",
       "      <td>2</td>\n",
       "      <td>373</td>\n",
       "      <td>51.515125</td>\n",
       "      <td>-0.160066</td>\n",
       "      <td>1</td>\n",
       "      <td>...</td>\n",
       "      <td>0</td>\n",
       "      <td>0</td>\n",
       "      <td>0</td>\n",
       "      <td>0</td>\n",
       "      <td>0</td>\n",
       "      <td>0</td>\n",
       "      <td>0</td>\n",
       "      <td>0</td>\n",
       "      <td>0</td>\n",
       "      <td>0</td>\n",
       "    </tr>\n",
       "  </tbody>\n",
       "</table>\n",
       "<p>5 rows × 2744 columns</p>\n",
       "</div>"
      ],
      "text/plain": [
       "   Additional_Number_of_Scoring  Average_Score  \\\n",
       "0                          1005            8.3   \n",
       "1                           487            8.8   \n",
       "2                           570            9.3   \n",
       "3                          2623            8.7   \n",
       "4                           365            8.1   \n",
       "\n",
       "   Review_Total_Negative_Word_Counts  Total_Number_of_Reviews  \\\n",
       "0                                  0                     3469   \n",
       "1                                 46                     1805   \n",
       "2                                  0                     2319   \n",
       "3                                 19                    12158   \n",
       "4                                 13                     1567   \n",
       "\n",
       "   Review_Total_Positive_Word_Counts  \\\n",
       "0                                  6   \n",
       "1                                121   \n",
       "2                                  9   \n",
       "3                                  0   \n",
       "4                                  0   \n",
       "\n",
       "   Total_Number_of_Reviews_Reviewer_Has_Given  days_since_review        lat  \\\n",
       "0                                           2                297  51.559096   \n",
       "1                                           1                  4  51.474469   \n",
       "2                                           1                590  51.505696   \n",
       "3                                           2                269  51.500961   \n",
       "4                                           2                373  51.515125   \n",
       "\n",
       "        lng  weekday_of_review  ...  n_worry  n_worth  n_would  n_write  \\\n",
       "0 -0.284704                  0  ...        0        0        0        0   \n",
       "1 -0.019428                  6  ...        0        0        0        0   \n",
       "2 -0.101525                  1  ...        0        0        0        0   \n",
       "3 -0.116591                  0  ...        0        0        0        0   \n",
       "4 -0.160066                  1  ...        0        0        0        0   \n",
       "\n",
       "   n_wrong  n_year  n_yes  n_yet  n_young  rating  \n",
       "0        0       0      0      0        0       0  \n",
       "1        0       0      0      0        0       1  \n",
       "2        0       0      0      0        0       1  \n",
       "3        0       0      0      0        0       0  \n",
       "4        0       0      0      0        0       0  \n",
       "\n",
       "[5 rows x 2744 columns]"
      ]
     },
     "execution_count": 1095,
     "metadata": {},
     "output_type": "execute_result"
    }
   ],
   "source": [
    "# loading the dataset\n",
    "test_df = pd.read_csv('clean_test_dataframe.csv')\n",
    "test_df.head()"
   ]
  },
  {
   "cell_type": "code",
   "execution_count": 1096,
   "id": "d371658f",
   "metadata": {},
   "outputs": [
    {
     "data": {
      "text/plain": [
       "(4267, 2744)"
      ]
     },
     "execution_count": 1096,
     "metadata": {},
     "output_type": "execute_result"
    }
   ],
   "source": [
    "# check shape\n",
    "test_df.shape"
   ]
  },
  {
   "cell_type": "code",
   "execution_count": 1097,
   "id": "ad94f367",
   "metadata": {},
   "outputs": [
    {
     "data": {
      "text/html": [
       "<div>\n",
       "<style scoped>\n",
       "    .dataframe tbody tr th:only-of-type {\n",
       "        vertical-align: middle;\n",
       "    }\n",
       "\n",
       "    .dataframe tbody tr th {\n",
       "        vertical-align: top;\n",
       "    }\n",
       "\n",
       "    .dataframe thead th {\n",
       "        text-align: right;\n",
       "    }\n",
       "</style>\n",
       "<table border=\"1\" class=\"dataframe\">\n",
       "  <thead>\n",
       "    <tr style=\"text-align: right;\">\n",
       "      <th></th>\n",
       "      <th>Additional_Number_of_Scoring</th>\n",
       "      <th>Average_Score</th>\n",
       "      <th>Review_Total_Negative_Word_Counts</th>\n",
       "      <th>Total_Number_of_Reviews</th>\n",
       "      <th>Review_Total_Positive_Word_Counts</th>\n",
       "      <th>Total_Number_of_Reviews_Reviewer_Has_Given</th>\n",
       "      <th>days_since_review</th>\n",
       "      <th>lat</th>\n",
       "      <th>lng</th>\n",
       "      <th>weekday_of_review</th>\n",
       "      <th>...</th>\n",
       "      <th>n_worry</th>\n",
       "      <th>n_worth</th>\n",
       "      <th>n_would</th>\n",
       "      <th>n_write</th>\n",
       "      <th>n_wrong</th>\n",
       "      <th>n_year</th>\n",
       "      <th>n_yes</th>\n",
       "      <th>n_yet</th>\n",
       "      <th>n_young</th>\n",
       "      <th>rating</th>\n",
       "    </tr>\n",
       "  </thead>\n",
       "  <tbody>\n",
       "    <tr>\n",
       "      <th>0</th>\n",
       "      <td>620</td>\n",
       "      <td>9.0</td>\n",
       "      <td>0</td>\n",
       "      <td>1974</td>\n",
       "      <td>164</td>\n",
       "      <td>1</td>\n",
       "      <td>562</td>\n",
       "      <td>51.506558</td>\n",
       "      <td>-0.004514</td>\n",
       "      <td>1</td>\n",
       "      <td>...</td>\n",
       "      <td>0</td>\n",
       "      <td>0</td>\n",
       "      <td>0</td>\n",
       "      <td>0</td>\n",
       "      <td>0</td>\n",
       "      <td>0</td>\n",
       "      <td>0</td>\n",
       "      <td>0</td>\n",
       "      <td>0</td>\n",
       "      <td>1</td>\n",
       "    </tr>\n",
       "    <tr>\n",
       "      <th>1</th>\n",
       "      <td>1258</td>\n",
       "      <td>9.4</td>\n",
       "      <td>6</td>\n",
       "      <td>4204</td>\n",
       "      <td>4</td>\n",
       "      <td>5</td>\n",
       "      <td>276</td>\n",
       "      <td>51.502435</td>\n",
       "      <td>-0.000250</td>\n",
       "      <td>0</td>\n",
       "      <td>...</td>\n",
       "      <td>0</td>\n",
       "      <td>0</td>\n",
       "      <td>0</td>\n",
       "      <td>0</td>\n",
       "      <td>0</td>\n",
       "      <td>0</td>\n",
       "      <td>0</td>\n",
       "      <td>0</td>\n",
       "      <td>0</td>\n",
       "      <td>1</td>\n",
       "    </tr>\n",
       "    <tr>\n",
       "      <th>2</th>\n",
       "      <td>995</td>\n",
       "      <td>8.1</td>\n",
       "      <td>2</td>\n",
       "      <td>3826</td>\n",
       "      <td>38</td>\n",
       "      <td>1</td>\n",
       "      <td>129</td>\n",
       "      <td>51.504348</td>\n",
       "      <td>-0.033444</td>\n",
       "      <td>0</td>\n",
       "      <td>...</td>\n",
       "      <td>0</td>\n",
       "      <td>0</td>\n",
       "      <td>0</td>\n",
       "      <td>0</td>\n",
       "      <td>0</td>\n",
       "      <td>0</td>\n",
       "      <td>0</td>\n",
       "      <td>0</td>\n",
       "      <td>0</td>\n",
       "      <td>1</td>\n",
       "    </tr>\n",
       "    <tr>\n",
       "      <th>3</th>\n",
       "      <td>853</td>\n",
       "      <td>8.4</td>\n",
       "      <td>7</td>\n",
       "      <td>2726</td>\n",
       "      <td>10</td>\n",
       "      <td>10</td>\n",
       "      <td>164</td>\n",
       "      <td>51.507377</td>\n",
       "      <td>0.038657</td>\n",
       "      <td>0</td>\n",
       "      <td>...</td>\n",
       "      <td>0</td>\n",
       "      <td>0</td>\n",
       "      <td>0</td>\n",
       "      <td>0</td>\n",
       "      <td>0</td>\n",
       "      <td>0</td>\n",
       "      <td>0</td>\n",
       "      <td>0</td>\n",
       "      <td>0</td>\n",
       "      <td>0</td>\n",
       "    </tr>\n",
       "    <tr>\n",
       "      <th>4</th>\n",
       "      <td>1243</td>\n",
       "      <td>8.1</td>\n",
       "      <td>11</td>\n",
       "      <td>6608</td>\n",
       "      <td>8</td>\n",
       "      <td>69</td>\n",
       "      <td>639</td>\n",
       "      <td>51.513556</td>\n",
       "      <td>-0.180002</td>\n",
       "      <td>1</td>\n",
       "      <td>...</td>\n",
       "      <td>0</td>\n",
       "      <td>0</td>\n",
       "      <td>0</td>\n",
       "      <td>0</td>\n",
       "      <td>0</td>\n",
       "      <td>0</td>\n",
       "      <td>0</td>\n",
       "      <td>0</td>\n",
       "      <td>0</td>\n",
       "      <td>0</td>\n",
       "    </tr>\n",
       "  </tbody>\n",
       "</table>\n",
       "<p>5 rows × 2744 columns</p>\n",
       "</div>"
      ],
      "text/plain": [
       "   Additional_Number_of_Scoring  Average_Score  \\\n",
       "0                           620            9.0   \n",
       "1                          1258            9.4   \n",
       "2                           995            8.1   \n",
       "3                           853            8.4   \n",
       "4                          1243            8.1   \n",
       "\n",
       "   Review_Total_Negative_Word_Counts  Total_Number_of_Reviews  \\\n",
       "0                                  0                     1974   \n",
       "1                                  6                     4204   \n",
       "2                                  2                     3826   \n",
       "3                                  7                     2726   \n",
       "4                                 11                     6608   \n",
       "\n",
       "   Review_Total_Positive_Word_Counts  \\\n",
       "0                                164   \n",
       "1                                  4   \n",
       "2                                 38   \n",
       "3                                 10   \n",
       "4                                  8   \n",
       "\n",
       "   Total_Number_of_Reviews_Reviewer_Has_Given  days_since_review        lat  \\\n",
       "0                                           1                562  51.506558   \n",
       "1                                           5                276  51.502435   \n",
       "2                                           1                129  51.504348   \n",
       "3                                          10                164  51.507377   \n",
       "4                                          69                639  51.513556   \n",
       "\n",
       "        lng  weekday_of_review  ...  n_worry  n_worth  n_would  n_write  \\\n",
       "0 -0.004514                  1  ...        0        0        0        0   \n",
       "1 -0.000250                  0  ...        0        0        0        0   \n",
       "2 -0.033444                  0  ...        0        0        0        0   \n",
       "3  0.038657                  0  ...        0        0        0        0   \n",
       "4 -0.180002                  1  ...        0        0        0        0   \n",
       "\n",
       "   n_wrong  n_year  n_yes  n_yet  n_young  rating  \n",
       "0        0       0      0      0        0       1  \n",
       "1        0       0      0      0        0       1  \n",
       "2        0       0      0      0        0       1  \n",
       "3        0       0      0      0        0       0  \n",
       "4        0       0      0      0        0       0  \n",
       "\n",
       "[5 rows x 2744 columns]"
      ]
     },
     "execution_count": 1097,
     "metadata": {},
     "output_type": "execute_result"
    }
   ],
   "source": [
    "# peeking into the dataset\n",
    "hotel_df.head()"
   ]
  },
  {
   "cell_type": "markdown",
   "id": "5d3aa493",
   "metadata": {},
   "source": [
    "First of all let's check the shape."
   ]
  },
  {
   "cell_type": "code",
   "execution_count": 1098,
   "id": "36be4bff",
   "metadata": {},
   "outputs": [
    {
     "data": {
      "text/plain": [
       "(12798, 2744)"
      ]
     },
     "execution_count": 1098,
     "metadata": {},
     "output_type": "execute_result"
    }
   ],
   "source": [
    "# check shape\n",
    "hotel_df.shape"
   ]
  },
  {
   "cell_type": "code",
   "execution_count": 1099,
   "id": "25ddd817",
   "metadata": {},
   "outputs": [
    {
     "name": "stdout",
     "output_type": "stream",
     "text": [
      "Our hotel dataframe has 12798 rows and 2744 columns.\n"
     ]
    }
   ],
   "source": [
    "print(f'Our hotel dataframe has {hotel_df.shape[0]} rows and {hotel_df.shape[1]} columns.')"
   ]
  },
  {
   "cell_type": "code",
   "execution_count": 1100,
   "id": "3586444b",
   "metadata": {},
   "outputs": [
    {
     "data": {
      "text/plain": [
       "[]"
      ]
     },
     "execution_count": 1100,
     "metadata": {},
     "output_type": "execute_result"
    }
   ],
   "source": [
    "# list of object columns\n",
    "list(hotel_df.select_dtypes(['object']).columns)"
   ]
  },
  {
   "cell_type": "markdown",
   "id": "c95e6195",
   "metadata": {},
   "source": [
    "So this is cleaned dataset in terms of any text data. All the columns are in the numeric format."
   ]
  },
  {
   "cell_type": "markdown",
   "id": "021521b4",
   "metadata": {},
   "source": [
    "### Basic EDA\n",
    "<a class ='anchor' id = 'part0' ></a>"
   ]
  },
  {
   "cell_type": "markdown",
   "id": "8b977226",
   "metadata": {},
   "source": [
    "#### Checking for the missing data"
   ]
  },
  {
   "cell_type": "code",
   "execution_count": 1101,
   "id": "a3aa308d",
   "metadata": {},
   "outputs": [
    {
     "data": {
      "text/plain": [
       "0"
      ]
     },
     "execution_count": 1101,
     "metadata": {},
     "output_type": "execute_result"
    }
   ],
   "source": [
    "# checking duplicated rows for train set\n",
    "hotel_df.duplicated().sum()"
   ]
  },
  {
   "cell_type": "code",
   "execution_count": 1102,
   "id": "4ad844e5",
   "metadata": {},
   "outputs": [
    {
     "data": {
      "text/plain": [
       "0"
      ]
     },
     "execution_count": 1102,
     "metadata": {},
     "output_type": "execute_result"
    }
   ],
   "source": [
    "# checking duplicated rows for test set\n",
    "test_df.duplicated().sum()"
   ]
  },
  {
   "cell_type": "markdown",
   "id": "d8e845eb",
   "metadata": {},
   "source": [
    "It's great that there are no rows that are duplicated in the dataset."
   ]
  },
  {
   "cell_type": "markdown",
   "id": "3334e06e",
   "metadata": {},
   "source": [
    "Knowing more about the columns present in the dataset as the dictionary is not present."
   ]
  },
  {
   "cell_type": "code",
   "execution_count": 1103,
   "id": "84423b48",
   "metadata": {},
   "outputs": [
    {
     "data": {
      "text/plain": [
       "['Additional_Number_of_Scoring',\n",
       " 'Average_Score',\n",
       " 'Review_Total_Negative_Word_Counts',\n",
       " 'Total_Number_of_Reviews',\n",
       " 'Review_Total_Positive_Word_Counts',\n",
       " 'Total_Number_of_Reviews_Reviewer_Has_Given',\n",
       " 'days_since_review',\n",
       " 'lat',\n",
       " 'lng',\n",
       " 'weekday_of_review',\n",
       " 'month_of_review',\n",
       " 'year_of_review',\n",
       " 'bed_single',\n",
       " 'bed_double',\n",
       " 'bed_queen',\n",
       " 'bed_king',\n",
       " 'trip_leisure',\n",
       " 'trip_biz',\n",
       " 'group_solo',\n",
       " 'group_couple',\n",
       " 'group_family',\n",
       " 'Hotel_Name_11 Cadogan Gardens',\n",
       " 'Hotel_Name_41',\n",
       " 'Hotel_Name_88 Studios',\n",
       " 'Hotel_Name_Ace Hotel London Shoreditch',\n",
       " 'Hotel_Name_Adria Boutique Hotel',\n",
       " 'Hotel_Name_Aloft London Excel',\n",
       " 'Hotel_Name_Amba Hotel Charing Cross',\n",
       " 'Hotel_Name_Amba Hotel Marble Arch',\n",
       " 'Hotel_Name_Ambassadors Bloomsbury',\n",
       " 'Hotel_Name_Andaz London Liverpool Street',\n",
       " 'Hotel_Name_Apex City Of London Hotel',\n",
       " 'Hotel_Name_Apex London Wall Hotel',\n",
       " 'Hotel_Name_Apex Temple Court Hotel',\n",
       " 'Hotel_Name_Arbor City',\n",
       " 'Hotel_Name_Arbor Hyde Park',\n",
       " 'Hotel_Name_Ashburn Hotel',\n",
       " 'Hotel_Name_Avo Hotel',\n",
       " 'Hotel_Name_BEST WESTERN Maitrise Hotel Maida Vale',\n",
       " 'Hotel_Name_Baglioni Hotel London The Leading Hotels of the World',\n",
       " 'Hotel_Name_Batty Langley s',\n",
       " 'Hotel_Name_Bentley London',\n",
       " 'Hotel_Name_Bermondsey Square Hotel A Bespoke Hotel',\n",
       " 'Hotel_Name_Best Western Maitrise Hotel Edgware Road',\n",
       " 'Hotel_Name_Best Western Mornington Hotel Hyde Park',\n",
       " 'Hotel_Name_Best Western PLUS Epping Forest',\n",
       " 'Hotel_Name_Best Western Palm Hotel',\n",
       " 'Hotel_Name_Best Western Plus Seraphine Hammersmith Hotel',\n",
       " 'Hotel_Name_Best Western Seraphine Kensington Olympia',\n",
       " 'Hotel_Name_Best Western The Boltons Hotel London Kensington',\n",
       " 'Hotel_Name_Blakemore Hyde Park',\n",
       " 'Hotel_Name_Blakes Hotel',\n",
       " 'Hotel_Name_Bloomsbury Palace Hotel',\n",
       " 'Hotel_Name_Britannia International Hotel Canary Wharf',\n",
       " 'Hotel_Name_Bulgari Hotel London',\n",
       " 'Hotel_Name_COMO Metropolitan London',\n",
       " 'Hotel_Name_COMO The Halkin',\n",
       " 'Hotel_Name_Caesar Hotel',\n",
       " 'Hotel_Name_Canary Riverside Plaza Hotel',\n",
       " 'Hotel_Name_Charlotte Street Hotel',\n",
       " 'Hotel_Name_Chiswick Rooms',\n",
       " 'Hotel_Name_Claridge s',\n",
       " 'Hotel_Name_Clayton Crown Hotel London',\n",
       " 'Hotel_Name_Clayton Hotel Chiswick',\n",
       " 'Hotel_Name_Club Quarters Hotel Gracechurch',\n",
       " 'Hotel_Name_Club Quarters Hotel Lincoln s Inn Fields',\n",
       " 'Hotel_Name_Club Quarters Hotel St Paul s',\n",
       " 'Hotel_Name_Club Quarters Hotel Trafalgar Square',\n",
       " 'Hotel_Name_Comfort Inn Suites Kings Cross St Pancras',\n",
       " 'Hotel_Name_Commodore Hotel',\n",
       " 'Hotel_Name_Conrad London St James',\n",
       " 'Hotel_Name_Copthorne Tara Hotel London Kensington',\n",
       " 'Hotel_Name_Corinthia Hotel London',\n",
       " 'Hotel_Name_Corus Hotel Hyde Park',\n",
       " 'Hotel_Name_Courthouse Hotel London',\n",
       " 'Hotel_Name_Courthouse Hotel Shoreditch',\n",
       " 'Hotel_Name_Covent Garden Hotel',\n",
       " 'Hotel_Name_Crowne Plaza London Battersea',\n",
       " 'Hotel_Name_Crowne Plaza London Docklands',\n",
       " 'Hotel_Name_Crowne Plaza London Ealing',\n",
       " 'Hotel_Name_Crowne Plaza London Kensington',\n",
       " 'Hotel_Name_Crowne Plaza London Kings Cross',\n",
       " 'Hotel_Name_Crowne Plaza London The City',\n",
       " 'Hotel_Name_Danubius Hotel Regents Park',\n",
       " 'Hotel_Name_De Vere Devonport House',\n",
       " 'Hotel_Name_Dorset Square Hotel',\n",
       " 'Hotel_Name_Dorsett Shepherds Bush',\n",
       " 'Hotel_Name_DoubleTree By Hilton London Excel',\n",
       " 'Hotel_Name_DoubleTree by Hilton Hotel London Marble Arch',\n",
       " 'Hotel_Name_DoubleTree by Hilton Hotel London Tower of London',\n",
       " 'Hotel_Name_DoubleTree by Hilton London Chelsea',\n",
       " 'Hotel_Name_DoubleTree by Hilton London Docklands Riverside',\n",
       " 'Hotel_Name_DoubleTree by Hilton London Ealing',\n",
       " 'Hotel_Name_DoubleTree by Hilton London Hyde Park',\n",
       " 'Hotel_Name_DoubleTree by Hilton London Islington',\n",
       " 'Hotel_Name_DoubleTree by Hilton London Victoria',\n",
       " 'Hotel_Name_DoubleTree by Hilton London West End',\n",
       " 'Hotel_Name_DoubleTree by Hilton London Westminster',\n",
       " 'Hotel_Name_Doubletree By Hilton London Greenwich',\n",
       " 'Hotel_Name_Doubletree by Hilton London Kensington',\n",
       " 'Hotel_Name_Draycott Hotel',\n",
       " 'Hotel_Name_Dukes Hotel',\n",
       " 'Hotel_Name_Durrants Hotel',\n",
       " 'Hotel_Name_Eccleston Square Hotel',\n",
       " 'Hotel_Name_Egerton House',\n",
       " 'Hotel_Name_Fielding Hotel',\n",
       " 'Hotel_Name_Fifty Four Boutique Hotel',\n",
       " 'Hotel_Name_Flemings Mayfair',\n",
       " 'Hotel_Name_Four Seasons Hotel London at Park Lane',\n",
       " 'Hotel_Name_Gainsborough Hotel',\n",
       " 'Hotel_Name_Georgian House Hotel',\n",
       " 'Hotel_Name_Good Hotel London',\n",
       " 'Hotel_Name_Goodenough Club',\n",
       " 'Hotel_Name_Grand Royale London Hyde Park',\n",
       " 'Hotel_Name_Grange Beauchamp Hotel',\n",
       " 'Hotel_Name_Grange Blooms Hotel',\n",
       " 'Hotel_Name_Grange Buckingham Hotel',\n",
       " 'Hotel_Name_Grange City Hotel',\n",
       " 'Hotel_Name_Grange Clarendon Hotel',\n",
       " 'Hotel_Name_Grange Fitzrovia Hotel',\n",
       " 'Hotel_Name_Grange Holborn Hotel',\n",
       " 'Hotel_Name_Grange Langham Court Hotel',\n",
       " 'Hotel_Name_Grange Rochester Hotel',\n",
       " 'Hotel_Name_Grange St Paul s Hotel',\n",
       " 'Hotel_Name_Grange Strathmore Hotel',\n",
       " 'Hotel_Name_Grange Tower Bridge Hotel',\n",
       " 'Hotel_Name_Grange Wellington Hotel',\n",
       " 'Hotel_Name_Grange White Hall Hotel',\n",
       " 'Hotel_Name_Great Northern Hotel A Tribute Portfolio Hotel London',\n",
       " 'Hotel_Name_Great St Helen Hotel',\n",
       " 'Hotel_Name_Grosvenor House A JW Marriott Hotel',\n",
       " 'Hotel_Name_Grosvenor House Suites by Jumeirah Living',\n",
       " 'Hotel_Name_H10 London Waterloo',\n",
       " 'Hotel_Name_Hallmark Hotel London Chigwell Prince Regent',\n",
       " 'Hotel_Name_Ham Yard Hotel',\n",
       " 'Hotel_Name_Haymarket Hotel',\n",
       " 'Hotel_Name_Hazlitt s',\n",
       " 'Hotel_Name_Henley House Hotel',\n",
       " 'Hotel_Name_Henry VIII',\n",
       " 'Hotel_Name_Hilton London Angel Islington',\n",
       " 'Hotel_Name_Hilton London Bankside',\n",
       " 'Hotel_Name_Hilton London Canary Wharf',\n",
       " 'Hotel_Name_Hilton London Euston',\n",
       " 'Hotel_Name_Hilton London Green Park',\n",
       " 'Hotel_Name_Hilton London Hyde Park',\n",
       " 'Hotel_Name_Hilton London Kensington Hotel',\n",
       " 'Hotel_Name_Hilton London Metropole',\n",
       " 'Hotel_Name_Hilton London Olympia',\n",
       " 'Hotel_Name_Hilton London Paddington',\n",
       " 'Hotel_Name_Hilton London Tower Bridge',\n",
       " 'Hotel_Name_Hilton London Wembley',\n",
       " 'Hotel_Name_Holiday Inn London Bloomsbury',\n",
       " 'Hotel_Name_Holiday Inn London Brent Cross',\n",
       " 'Hotel_Name_Holiday Inn London Camden Lock',\n",
       " 'Hotel_Name_Holiday Inn London Kensington',\n",
       " 'Hotel_Name_Holiday Inn London Kensington Forum',\n",
       " 'Hotel_Name_Holiday Inn London Mayfair',\n",
       " 'Hotel_Name_Holiday Inn London Oxford Circus',\n",
       " 'Hotel_Name_Holiday Inn London Regent s Park',\n",
       " 'Hotel_Name_Holiday Inn London Stratford City',\n",
       " 'Hotel_Name_Holiday Inn London Wembley',\n",
       " 'Hotel_Name_Holiday Inn London West',\n",
       " 'Hotel_Name_Holiday Inn London Whitechapel',\n",
       " 'Hotel_Name_Hotel 55',\n",
       " 'Hotel_Name_Hotel 82 London',\n",
       " 'Hotel_Name_Hotel Cafe Royal',\n",
       " 'Hotel_Name_Hotel Cavendish',\n",
       " 'Hotel_Name_Hotel Indigo London Kensington',\n",
       " 'Hotel_Name_Hotel Indigo London Paddington',\n",
       " 'Hotel_Name_Hotel Indigo London Tower Hill',\n",
       " 'Hotel_Name_Hotel La Place',\n",
       " 'Hotel_Name_Hotel Moonlight',\n",
       " 'Hotel_Name_Hotel Xanadu',\n",
       " 'Hotel_Name_Hotel Xenia Autograph Collection',\n",
       " 'Hotel_Name_Hotel du Vin Cannizaro House Wimbledon',\n",
       " 'Hotel_Name_Hyatt Regency London The Churchill',\n",
       " 'Hotel_Name_Innkeeper s Lodge London Greenwich',\n",
       " 'Hotel_Name_InterContinental London Park Lane',\n",
       " 'Hotel_Name_Intercontinental London The O2',\n",
       " 'Hotel_Name_Jumeirah Carlton Tower',\n",
       " 'Hotel_Name_Jumeirah Lowndes Hotel',\n",
       " 'Hotel_Name_K K Hotel George',\n",
       " 'Hotel_Name_K West Hotel Spa',\n",
       " 'Hotel_Name_Karma Sanctum Soho Hotel',\n",
       " 'Hotel_Name_Kensington House Hotel',\n",
       " 'Hotel_Name_Kingsway Hall Hotel',\n",
       " 'Hotel_Name_Knightsbridge Hotel',\n",
       " 'Hotel_Name_La Suite West Hyde Park',\n",
       " 'Hotel_Name_Lancaster London',\n",
       " 'Hotel_Name_Landmark London',\n",
       " 'Hotel_Name_Lansbury Heritage Hotel',\n",
       " 'Hotel_Name_Le Meridien Piccadilly',\n",
       " 'Hotel_Name_London Bridge Hotel',\n",
       " 'Hotel_Name_London City Suites',\n",
       " 'Hotel_Name_London Elizabeth Hotel',\n",
       " 'Hotel_Name_London Hilton on Park Lane',\n",
       " 'Hotel_Name_London Marriott Hotel County Hall',\n",
       " 'Hotel_Name_London Marriott Hotel Grosvenor Square',\n",
       " 'Hotel_Name_London Marriott Hotel Kensington',\n",
       " 'Hotel_Name_London Marriott Hotel Marble Arch',\n",
       " 'Hotel_Name_London Marriott Hotel Park Lane',\n",
       " 'Hotel_Name_London Marriott Hotel Regents Park',\n",
       " 'Hotel_Name_London Marriott Hotel West India Quay',\n",
       " 'Hotel_Name_London Marriott Maida Vale',\n",
       " 'Hotel_Name_London Suites',\n",
       " 'Hotel_Name_M by Montcalm Shoreditch London Tech City',\n",
       " 'Hotel_Name_ME London by Melia',\n",
       " 'Hotel_Name_Malmaison London',\n",
       " 'Hotel_Name_Mandarin Oriental Hyde Park London',\n",
       " 'Hotel_Name_Marlin Waterloo',\n",
       " 'Hotel_Name_Mayflower Hotel Apartments',\n",
       " 'Hotel_Name_Megaro Hotel',\n",
       " 'Hotel_Name_Melia White House Hotel',\n",
       " 'Hotel_Name_Mercure London Bloomsbury Hotel',\n",
       " 'Hotel_Name_Mercure London Bridge',\n",
       " 'Hotel_Name_Mercure London Hyde Park',\n",
       " 'Hotel_Name_Mercure London Kensington Hotel',\n",
       " 'Hotel_Name_Mercure London Paddington Hotel',\n",
       " 'Hotel_Name_Milestone Hotel Kensington',\n",
       " 'Hotel_Name_Millennium Copthorne Hotels at Chelsea Football Club',\n",
       " 'Hotel_Name_Millennium Gloucester Hotel London',\n",
       " 'Hotel_Name_Millennium Hotel London Knightsbridge',\n",
       " 'Hotel_Name_Millennium Hotel London Mayfair',\n",
       " 'Hotel_Name_Mimi s Hotel Soho',\n",
       " 'Hotel_Name_Mondrian London',\n",
       " 'Hotel_Name_Montagu Place Hotel',\n",
       " 'Hotel_Name_Montcalm Royal London House City of London',\n",
       " 'Hotel_Name_My Bloomsbury',\n",
       " 'Hotel_Name_My Chelsea',\n",
       " 'Hotel_Name_NH London Kensington',\n",
       " 'Hotel_Name_New Linden Hotel',\n",
       " 'Hotel_Name_Norfolk Towers Paddington',\n",
       " 'Hotel_Name_Nottingham Place Hotel',\n",
       " 'Hotel_Name_Novotel London Blackfriars',\n",
       " 'Hotel_Name_Novotel London Canary Wharf',\n",
       " 'Hotel_Name_Novotel London City South',\n",
       " 'Hotel_Name_Novotel London Excel',\n",
       " 'Hotel_Name_Novotel London Greenwich',\n",
       " 'Hotel_Name_Novotel London Paddington',\n",
       " 'Hotel_Name_Novotel London Tower Bridge',\n",
       " 'Hotel_Name_Novotel London Waterloo',\n",
       " 'Hotel_Name_Novotel London Wembley',\n",
       " 'Hotel_Name_Novotel London West',\n",
       " 'Hotel_Name_Number Sixteen',\n",
       " 'Hotel_Name_Old Ship Inn Hackney',\n",
       " 'Hotel_Name_One Aldwych',\n",
       " 'Hotel_Name_Paddington Court Executive Rooms',\n",
       " 'Hotel_Name_Park Avenue Baker Street',\n",
       " 'Hotel_Name_Park Grand London Hyde Park',\n",
       " 'Hotel_Name_Park Grand London Kensington',\n",
       " 'Hotel_Name_Park Grand London Lancaster Gate',\n",
       " 'Hotel_Name_Park Grand Paddington Court',\n",
       " 'Hotel_Name_Park International Hotel',\n",
       " 'Hotel_Name_Park Lane Mews Hotel',\n",
       " 'Hotel_Name_Park Plaza County Hall London',\n",
       " 'Hotel_Name_Park Plaza London Park Royal',\n",
       " 'Hotel_Name_Park Plaza London Riverbank',\n",
       " 'Hotel_Name_Park Plaza London Waterloo',\n",
       " 'Hotel_Name_Park Plaza Sherlock Holmes London',\n",
       " 'Hotel_Name_Park Plaza Victoria London',\n",
       " 'Hotel_Name_Park Plaza Westminster Bridge London',\n",
       " 'Hotel_Name_Pestana Chelsea Bridge Hotel Spa',\n",
       " 'Hotel_Name_Portobello House',\n",
       " 'Hotel_Name_Pullman London St Pancras',\n",
       " 'Hotel_Name_Radisson Blu Edwardian Berkshire',\n",
       " 'Hotel_Name_Radisson Blu Edwardian Bloomsbury Street',\n",
       " 'Hotel_Name_Radisson Blu Edwardian Grafton',\n",
       " 'Hotel_Name_Radisson Blu Edwardian Hampshire',\n",
       " 'Hotel_Name_Radisson Blu Edwardian Kenilworth',\n",
       " 'Hotel_Name_Radisson Blu Edwardian Mercer Street',\n",
       " 'Hotel_Name_Radisson Blu Edwardian New Providence Wharf',\n",
       " 'Hotel_Name_Radisson Blu Edwardian Sussex',\n",
       " 'Hotel_Name_Radisson Blu Edwardian Vanderbilt',\n",
       " 'Hotel_Name_Radisson Blu Portman Hotel London',\n",
       " 'Hotel_Name_Rafayel Hotel Spa',\n",
       " 'Hotel_Name_Rathbone',\n",
       " 'Hotel_Name_Rocco Forte Brown s Hotel',\n",
       " 'Hotel_Name_Rosewood London',\n",
       " 'Hotel_Name_Royal Garden Hotel',\n",
       " 'Hotel_Name_Rubens At The Palace',\n",
       " 'Hotel_Name_Rydges Kensington Hotel',\n",
       " 'Hotel_Name_Saint Georges Hotel',\n",
       " 'Hotel_Name_San Domenico House',\n",
       " 'Hotel_Name_Sanderson A Morgans Hotel',\n",
       " 'Hotel_Name_Seraphine Kensington Gardens Hotel',\n",
       " 'Hotel_Name_Shaftesbury Hyde Park International',\n",
       " 'Hotel_Name_Shaftesbury Metropolis London Hyde Park',\n",
       " 'Hotel_Name_Shaftesbury Premier London Paddington',\n",
       " 'Hotel_Name_Shaftesbury Suites London Marble Arch',\n",
       " 'Hotel_Name_Shangri La Hotel at The Shard London',\n",
       " 'Hotel_Name_Shepherd s Bush Boutique Hotel',\n",
       " 'Hotel_Name_Sheraton Grand London Park Lane',\n",
       " 'Hotel_Name_Simply Rooms Suites',\n",
       " 'Hotel_Name_Sloane Square Hotel',\n",
       " 'Hotel_Name_Sofitel London St James',\n",
       " 'Hotel_Name_South Place Hotel',\n",
       " 'Hotel_Name_St Ermin s Hotel Autograph Collection',\n",
       " 'Hotel_Name_St George Hotel',\n",
       " 'Hotel_Name_St George s Hotel Wembley',\n",
       " 'Hotel_Name_St James Court A Taj Hotel London',\n",
       " 'Hotel_Name_St James Hotel Club Mayfair',\n",
       " 'Hotel_Name_St Martins Lane A Morgans Original',\n",
       " 'Hotel_Name_St Pancras Renaissance Hotel London',\n",
       " 'Hotel_Name_St Paul s Hotel',\n",
       " 'Hotel_Name_Staunton Hotel B B',\n",
       " 'Hotel_Name_Staybridge Suites London Stratford',\n",
       " 'Hotel_Name_Staybridge Suites London Vauxhall',\n",
       " 'Hotel_Name_Strand Palace Hotel',\n",
       " 'Hotel_Name_Sydney House Chelsea',\n",
       " 'Hotel_Name_Taj 51 Buckingham Gate Suites and Residences',\n",
       " 'Hotel_Name_Ten Manchester Street Hotel',\n",
       " 'Hotel_Name_The Abbey Court Notting Hill',\n",
       " 'Hotel_Name_The Academy',\n",
       " 'Hotel_Name_The Ampersand Hotel',\n",
       " 'Hotel_Name_The Arch London',\n",
       " 'Hotel_Name_The Athenaeum',\n",
       " 'Hotel_Name_The Bailey s Hotel London',\n",
       " 'Hotel_Name_The Beaufort',\n",
       " 'Hotel_Name_The Beaumont Hotel',\n",
       " 'Hotel_Name_The Belgrave Hotel',\n",
       " 'Hotel_Name_The Bloomsbury Hotel',\n",
       " 'Hotel_Name_The Bryson Hotel',\n",
       " 'Hotel_Name_The Capital',\n",
       " 'Hotel_Name_The Cavendish London',\n",
       " 'Hotel_Name_The Chamberlain',\n",
       " 'Hotel_Name_The Chelsea Harbour Hotel',\n",
       " 'Hotel_Name_The Chesterfield Mayfair',\n",
       " 'Hotel_Name_The Cleveland',\n",
       " 'Hotel_Name_The Colonnade',\n",
       " 'Hotel_Name_The Connaught',\n",
       " 'Hotel_Name_The Cranley Hotel',\n",
       " 'Hotel_Name_The Cumberland A Guoman Hotel',\n",
       " 'Hotel_Name_The Curtain',\n",
       " 'Hotel_Name_The Dorchester Dorchester Collection',\n",
       " 'Hotel_Name_The Drayton Court Hotel',\n",
       " 'Hotel_Name_The Exhibitionist Hotel',\n",
       " 'Hotel_Name_The Gore Hotel Starhotels Collezione',\n",
       " 'Hotel_Name_The Goring',\n",
       " 'Hotel_Name_The Grand at Trafalgar Square',\n",
       " 'Hotel_Name_The Grosvenor',\n",
       " 'Hotel_Name_The Hari London',\n",
       " 'Hotel_Name_The Henrietta Hotel',\n",
       " 'Hotel_Name_The Hoxton Holborn',\n",
       " 'Hotel_Name_The Hoxton Shoreditch',\n",
       " 'Hotel_Name_The Justin James Hotel',\n",
       " 'Hotel_Name_The Kensington Hotel',\n",
       " 'Hotel_Name_The Kings Head Hotel',\n",
       " 'Hotel_Name_The LaLit London',\n",
       " 'Hotel_Name_The Lanesborough',\n",
       " 'Hotel_Name_The Langham London',\n",
       " 'Hotel_Name_The Laslett',\n",
       " 'Hotel_Name_The Leonard Hotel',\n",
       " 'Hotel_Name_The Levin Hotel',\n",
       " 'Hotel_Name_The Lodge Hotel Putney',\n",
       " 'Hotel_Name_The London EDITION',\n",
       " 'Hotel_Name_The Mandeville Hotel',\n",
       " 'Hotel_Name_The Marble Arch London',\n",
       " 'Hotel_Name_The Marylebone Hotel',\n",
       " 'Hotel_Name_The May Fair Hotel',\n",
       " 'Hotel_Name_The Montague On The Gardens',\n",
       " 'Hotel_Name_The Montcalm At Brewery London City',\n",
       " 'Hotel_Name_The Montcalm Marble Arch',\n",
       " 'Hotel_Name_The Nadler Kensington',\n",
       " 'Hotel_Name_The Nadler Soho',\n",
       " 'Hotel_Name_The Nadler Victoria',\n",
       " 'Hotel_Name_The Ned',\n",
       " 'Hotel_Name_The Park City Grand Plaza Kensington Hotel',\n",
       " 'Hotel_Name_The Park Grand London Paddington',\n",
       " 'Hotel_Name_The Park Tower Knightsbridge a Luxury Collection Hotel',\n",
       " 'Hotel_Name_The Pelham Starhotels Collezione',\n",
       " 'Hotel_Name_The Piccadilly London West End',\n",
       " 'Hotel_Name_The Pillar Hotel',\n",
       " 'Hotel_Name_The Portobello Hotel',\n",
       " 'Hotel_Name_The Premier Notting Hill',\n",
       " 'Hotel_Name_The Principal London',\n",
       " 'Hotel_Name_The Queens Gate Hotel',\n",
       " 'Hotel_Name_The RE London Shoreditch',\n",
       " 'Hotel_Name_The Rembrandt',\n",
       " 'Hotel_Name_The Ritz London',\n",
       " 'Hotel_Name_The Rockwell',\n",
       " 'Hotel_Name_The Rookery',\n",
       " 'Hotel_Name_The Royal Horseguards',\n",
       " 'Hotel_Name_The Royal Park Hotel',\n",
       " 'Hotel_Name_The Savoy',\n",
       " 'Hotel_Name_The Soho Hotel',\n",
       " 'Hotel_Name_The Stafford London',\n",
       " 'Hotel_Name_The Sumner Hotel',\n",
       " 'Hotel_Name_The Tophams Hotel',\n",
       " 'Hotel_Name_The Tower A Guoman Hotel',\n",
       " 'Hotel_Name_The Trafalgar Hilton',\n",
       " 'Hotel_Name_The Victoria',\n",
       " 'Hotel_Name_The Waldorf Hilton',\n",
       " 'Hotel_Name_The Wellesley Knightsbridge a Luxury Collection Hotel London',\n",
       " 'Hotel_Name_The Westbourne Hyde Park',\n",
       " 'Hotel_Name_The Westbridge Hotel',\n",
       " 'Hotel_Name_The Westbury A Luxury Collection Hotel Mayfair London',\n",
       " 'Hotel_Name_The Whitechapel',\n",
       " 'Hotel_Name_The Zetter Hotel',\n",
       " 'Hotel_Name_The Zetter Townhouse Clerkenwell',\n",
       " 'Hotel_Name_The Zetter Townhouse Marylebone',\n",
       " 'Hotel_Name_TheWesley',\n",
       " 'Hotel_Name_Thistle Euston',\n",
       " 'Hotel_Name_Thistle Holborn The Kingsley',\n",
       " 'Hotel_Name_Thistle Hyde Park',\n",
       " 'Hotel_Name_Thistle Kensington Gardens',\n",
       " 'Hotel_Name_Thistle Trafalgar Square The Royal Trafalgar',\n",
       " 'Hotel_Name_Threadneedles Autograph Collection',\n",
       " 'Hotel_Name_Twenty Nevern Square Hotel',\n",
       " 'Hotel_Name_United Lodge Hotel and Apartments',\n",
       " 'Hotel_Name_W London Leicester Square',\n",
       " 'Hotel_Name_W12 Rooms',\n",
       " 'Hotel_Name_Washington Mayfair Hotel',\n",
       " 'Hotel_Name_Windermere Hotel',\n",
       " 'Hotel_Name_citizenM London Bankside',\n",
       " 'Hotel_Name_citizenM London Shoreditch',\n",
       " 'Hotel_Name_citizenM Tower of London',\n",
       " 'Hotel_Name_every hotel Piccadilly',\n",
       " 'p_',\n",
       " 'p_02',\n",
       " 'p_1',\n",
       " 'p_10',\n",
       " 'p_100',\n",
       " 'p_11',\n",
       " 'p_12',\n",
       " 'p_15',\n",
       " 'p_1st',\n",
       " 'p_2',\n",
       " 'p_20',\n",
       " 'p_24',\n",
       " 'p_2nd',\n",
       " 'p_3',\n",
       " 'p_30',\n",
       " 'p_4',\n",
       " 'p_5',\n",
       " 'p_50',\n",
       " 'p_6',\n",
       " 'p_7',\n",
       " 'p_8',\n",
       " 'p_able',\n",
       " 'p_absolutely',\n",
       " 'p_access',\n",
       " 'p_accessible',\n",
       " 'p_accommodate',\n",
       " 'p_accommodation',\n",
       " 'p_across',\n",
       " 'p_actually',\n",
       " 'p_add',\n",
       " 'p_adequate',\n",
       " 'p_afternoon',\n",
       " 'p_air',\n",
       " 'p_aircon',\n",
       " 'p_airport',\n",
       " 'p_airy',\n",
       " 'p_albert',\n",
       " 'p_allocate',\n",
       " 'p_allow',\n",
       " 'p_almost',\n",
       " 'p_along',\n",
       " 'p_already',\n",
       " 'p_also',\n",
       " 'p_although',\n",
       " 'p_always',\n",
       " 'p_amaze',\n",
       " 'p_amazingly',\n",
       " 'p_ambiance',\n",
       " 'p_ambience',\n",
       " 'p_amenity',\n",
       " 'p_anniversary',\n",
       " 'p_another',\n",
       " 'p_anyone',\n",
       " 'p_anything',\n",
       " 'p_anywhere',\n",
       " 'p_apart',\n",
       " 'p_apartment',\n",
       " 'p_apollo',\n",
       " 'p_apologetic',\n",
       " 'p_appear',\n",
       " 'p_appoint',\n",
       " 'p_appreciate',\n",
       " 'p_approachable',\n",
       " 'p_area',\n",
       " 'p_arena',\n",
       " 'p_around',\n",
       " 'p_arrange',\n",
       " 'p_arrival',\n",
       " 'p_arrive',\n",
       " 'p_ask',\n",
       " 'p_aspect',\n",
       " 'p_atmosphere',\n",
       " 'p_attend',\n",
       " 'p_attention',\n",
       " 'p_attentive',\n",
       " 'p_attitude',\n",
       " 'p_attraction',\n",
       " 'p_attractive',\n",
       " 'p_available',\n",
       " 'p_away',\n",
       " 'p_awesome',\n",
       " 'p_awful',\n",
       " 'p_baby',\n",
       " 'p_back',\n",
       " 'p_bad',\n",
       " 'p_bag',\n",
       " 'p_balcony',\n",
       " 'p_balloon',\n",
       " 'p_bank',\n",
       " 'p_bar',\n",
       " 'p_barbican',\n",
       " 'p_base',\n",
       " 'p_basement',\n",
       " 'p_basic',\n",
       " 'p_bath',\n",
       " 'p_bathroom',\n",
       " 'p_beautiful',\n",
       " 'p_beautifully',\n",
       " 'p_bed',\n",
       " 'p_bedroom',\n",
       " 'p_behind',\n",
       " 'p_believe',\n",
       " 'p_ben',\n",
       " 'p_best',\n",
       " 'p_beyond',\n",
       " 'p_big',\n",
       " 'p_birthday',\n",
       " 'p_biscuit',\n",
       " 'p_bite',\n",
       " 'p_black',\n",
       " 'p_blind',\n",
       " 'p_board',\n",
       " 'p_boat',\n",
       " 'p_bonus',\n",
       " 'p_book',\n",
       " 'p_bottle',\n",
       " 'p_boutique',\n",
       " 'p_box',\n",
       " 'p_boyfriend',\n",
       " 'p_brand',\n",
       " 'p_break',\n",
       " 'p_breakfast',\n",
       " 'p_bridge',\n",
       " 'p_bright',\n",
       " 'p_brilliant',\n",
       " 'p_bring',\n",
       " 'p_british',\n",
       " 'p_buckingham',\n",
       " 'p_buffet',\n",
       " 'p_build',\n",
       " 'p_bus',\n",
       " 'p_business',\n",
       " 'p_busy',\n",
       " 'p_buy',\n",
       " 'p_cafe',\n",
       " 'p_cake',\n",
       " 'p_call',\n",
       " 'p_calm',\n",
       " 'p_camden',\n",
       " 'p_canary',\n",
       " 'p_cannot',\n",
       " 'p_car',\n",
       " 'p_card',\n",
       " 'p_care',\n",
       " 'p_case',\n",
       " 'p_cater',\n",
       " 'p_celebrate',\n",
       " 'p_celebration',\n",
       " 'p_central',\n",
       " 'p_centrally',\n",
       " 'p_centre',\n",
       " 'p_certainly',\n",
       " 'p_champagne',\n",
       " 'p_change',\n",
       " 'p_character',\n",
       " 'p_charge',\n",
       " 'p_charm',\n",
       " 'p_cheap',\n",
       " 'p_check',\n",
       " 'p_checkin',\n",
       " 'p_checkout',\n",
       " 'p_cheerful',\n",
       " 'p_chef',\n",
       " 'p_child',\n",
       " 'p_chill',\n",
       " 'p_chocolate',\n",
       " 'p_choice',\n",
       " 'p_choose',\n",
       " 'p_christmas',\n",
       " 'p_city',\n",
       " 'p_class',\n",
       " 'p_classy',\n",
       " 'p_clean',\n",
       " 'p_cleanliness',\n",
       " 'p_clear',\n",
       " 'p_close',\n",
       " 'p_closeness',\n",
       " 'p_club',\n",
       " 'p_cocktail',\n",
       " 'p_coffee',\n",
       " 'p_cold',\n",
       " 'p_com',\n",
       " 'p_come',\n",
       " 'p_comfort',\n",
       " 'p_comfortable',\n",
       " 'p_comfy',\n",
       " 'p_comment',\n",
       " 'p_common',\n",
       " 'p_communal',\n",
       " 'p_compact',\n",
       " 'p_company',\n",
       " 'p_compare',\n",
       " 'p_complain',\n",
       " 'p_complaint',\n",
       " 'p_complementary',\n",
       " 'p_complete',\n",
       " 'p_complimentary',\n",
       " 'p_con',\n",
       " 'p_concert',\n",
       " 'p_concierge',\n",
       " 'p_condition',\n",
       " 'p_connect',\n",
       " 'p_consider',\n",
       " 'p_contact',\n",
       " 'p_contemporary',\n",
       " 'p_continental',\n",
       " 'p_control',\n",
       " 'p_convenience',\n",
       " 'p_convenient',\n",
       " 'p_conveniently',\n",
       " 'p_cook',\n",
       " 'p_cookie',\n",
       " 'p_cooky',\n",
       " 'p_cool',\n",
       " 'p_cor',\n",
       " 'p_corner',\n",
       " 'p_corridor',\n",
       " 'p_cost',\n",
       " 'p_cosy',\n",
       " 'p_could',\n",
       " 'p_couldnt',\n",
       " 'p_couple',\n",
       " 'p_course',\n",
       " 'p_court',\n",
       " 'p_courteous',\n",
       " 'p_courtesy',\n",
       " 'p_courtyard',\n",
       " 'p_covent',\n",
       " 'p_credit',\n",
       " 'p_croissant',\n",
       " 'p_cross',\n",
       " 'p_curtain',\n",
       " 'p_customer',\n",
       " 'p_date',\n",
       " 'p_daughter',\n",
       " 'p_day',\n",
       " 'p_deal',\n",
       " 'p_decent',\n",
       " 'p_decor',\n",
       " 'p_decorate',\n",
       " 'p_decoration',\n",
       " 'p_definately',\n",
       " 'p_definitely',\n",
       " 'p_delicious',\n",
       " 'p_delight',\n",
       " 'p_delightful',\n",
       " 'p_deliver',\n",
       " 'p_deluxe',\n",
       " 'p_departure',\n",
       " 'p_design',\n",
       " 'p_desk',\n",
       " 'p_despite',\n",
       " 'p_detail',\n",
       " 'p_didnt',\n",
       " 'p_different',\n",
       " 'p_din',\n",
       " 'p_dinner',\n",
       " 'p_direct',\n",
       " 'p_direction',\n",
       " 'p_disable',\n",
       " 'p_disappoint',\n",
       " 'p_distance',\n",
       " 'p_dlr',\n",
       " 'p_do',\n",
       " 'p_dock',\n",
       " 'p_door',\n",
       " 'p_doorman',\n",
       " 'p_doorstep',\n",
       " 'p_double',\n",
       " 'p_downstairs',\n",
       " 'p_dress',\n",
       " 'p_drink',\n",
       " 'p_drop',\n",
       " 'p_dry',\n",
       " 'p_due',\n",
       " 'p_duty',\n",
       " 'p_duvet',\n",
       " 'p_e',\n",
       " 'p_earl',\n",
       " 'p_early',\n",
       " 'p_ease',\n",
       " 'p_easily',\n",
       " 'p_easy',\n",
       " 'p_eat',\n",
       " 'p_eatery',\n",
       " 'p_efficient',\n",
       " 'p_effort',\n",
       " 'p_egg',\n",
       " 'p_either',\n",
       " 'p_elemi',\n",
       " 'p_else',\n",
       " 'p_en',\n",
       " 'p_end',\n",
       " 'p_english',\n",
       " 'p_enjoy',\n",
       " 'p_enjoyable',\n",
       " 'p_enough',\n",
       " 'p_ensure',\n",
       " 'p_enter',\n",
       " 'p_entrance',\n",
       " 'p_environment',\n",
       " 'p_equip',\n",
       " 'p_especially',\n",
       " 'p_etc',\n",
       " 'p_eurostar',\n",
       " 'p_euston',\n",
       " 'p_even',\n",
       " 'p_event',\n",
       " 'p_ever',\n",
       " 'p_every',\n",
       " 'p_everyone',\n",
       " 'p_everything',\n",
       " 'p_everywhere',\n",
       " 'p_exactly',\n",
       " 'p_exceed',\n",
       " 'p_excel',\n",
       " 'p_excellent',\n",
       " 'p_except',\n",
       " 'p_exceptional',\n",
       " 'p_exceptionally',\n",
       " 'p_executive',\n",
       " 'p_expect',\n",
       " 'p_expectation',\n",
       " 'p_expensive',\n",
       " 'p_experience',\n",
       " 'p_explore',\n",
       " 'p_express',\n",
       " 'p_extra',\n",
       " 'p_extremely',\n",
       " 'p_eye',\n",
       " 'p_fab',\n",
       " 'p_fabulous',\n",
       " 'p_face',\n",
       " 'p_facility',\n",
       " 'p_fact',\n",
       " 'p_fairly',\n",
       " 'p_family',\n",
       " 'p_fan',\n",
       " 'p_fantastic',\n",
       " 'p_far',\n",
       " 'p_fast',\n",
       " 'p_fault',\n",
       " 'p_faultless',\n",
       " 'p_favourite',\n",
       " 'p_feature',\n",
       " 'p_feel',\n",
       " 'p_felt',\n",
       " 'p_ferry',\n",
       " 'p_fi',\n",
       " 'p_fill',\n",
       " 'p_find',\n",
       " 'p_fine',\n",
       " 'p_finish',\n",
       " 'p_fire',\n",
       " 'p_firm',\n",
       " 'p_first',\n",
       " 'p_fit',\n",
       " 'p_fitting',\n",
       " 'p_five',\n",
       " 'p_floor',\n",
       " 'p_flower',\n",
       " 'p_fluffy',\n",
       " 'p_follow',\n",
       " 'p_food',\n",
       " 'p_foot',\n",
       " 'p_forget',\n",
       " 'p_forward',\n",
       " 'p_four',\n",
       " 'p_foyer',\n",
       " 'p_free',\n",
       " 'p_fresh',\n",
       " 'p_freshly',\n",
       " 'p_fridge',\n",
       " 'p_friend',\n",
       " 'p_friendliness',\n",
       " 'p_friendly',\n",
       " 'p_front',\n",
       " 'p_fruit',\n",
       " 'p_full',\n",
       " 'p_fun',\n",
       " 'p_functional',\n",
       " 'p_funky',\n",
       " 'p_furnish',\n",
       " 'p_furniture',\n",
       " 'p_fuss',\n",
       " 'p_future',\n",
       " 'p_garden',\n",
       " 'p_gate',\n",
       " 'p_gem',\n",
       " 'p_general',\n",
       " 'p_generally',\n",
       " 'p_generous',\n",
       " 'p_gentleman',\n",
       " 'p_gesture',\n",
       " 'p_get',\n",
       " 'p_gift',\n",
       " 'p_girl',\n",
       " 'p_girlfriend',\n",
       " 'p_give',\n",
       " 'p_glass',\n",
       " 'p_gloucester',\n",
       " 'p_go',\n",
       " 'p_good',\n",
       " 'p_gorgeous',\n",
       " 'p_grand',\n",
       " 'p_great',\n",
       " 'p_greenwich',\n",
       " 'p_greet',\n",
       " 'p_grind',\n",
       " 'p_group',\n",
       " 'p_guest',\n",
       " 'p_gym',\n",
       " 'p_hair',\n",
       " 'p_hairdryer',\n",
       " 'p_half',\n",
       " 'p_hall',\n",
       " 'p_hammersmith',\n",
       " 'p_hand',\n",
       " 'p_handy',\n",
       " 'p_hang',\n",
       " 'p_happy',\n",
       " 'p_hard',\n",
       " 'p_head',\n",
       " 'p_hear',\n",
       " 'p_heart',\n",
       " 'p_heat',\n",
       " 'p_help',\n",
       " 'p_helpful',\n",
       " 'p_helpfull',\n",
       " 'p_helpfulness',\n",
       " 'p_hesitate',\n",
       " 'p_high',\n",
       " 'p_highly',\n",
       " 'p_hill',\n",
       " 'p_hilton',\n",
       " 'p_history',\n",
       " 'p_holborn',\n",
       " 'p_hold',\n",
       " 'p_holiday',\n",
       " 'p_home',\n",
       " 'p_hospitality',\n",
       " 'p_hot',\n",
       " 'p_hotel',\n",
       " 'p_hour',\n",
       " 'p_house',\n",
       " 'p_housekeep',\n",
       " 'p_however',\n",
       " 'p_huge',\n",
       " 'p_husband',\n",
       " 'p_hyde',\n",
       " 'p_ice',\n",
       " 'p_idea',\n",
       " 'p_ideal',\n",
       " 'p_ideally',\n",
       " 'p_immaculate',\n",
       " 'p_immaculately',\n",
       " 'p_immediately',\n",
       " 'p_impeccable',\n",
       " 'p_important',\n",
       " 'p_impress',\n",
       " 'p_impression',\n",
       " 'p_impressive',\n",
       " 'p_include',\n",
       " 'p_incredible',\n",
       " 'p_incredibly',\n",
       " 'p_indeed',\n",
       " 'p_information',\n",
       " 'p_informative',\n",
       " 'p_inn',\n",
       " 'p_inside',\n",
       " 'p_interest',\n",
       " 'p_interior',\n",
       " 'p_internet',\n",
       " 'p_ipad',\n",
       " 'p_iron',\n",
       " 'p_issue',\n",
       " 'p_item',\n",
       " 'p_jacuzzi',\n",
       " 'p_job',\n",
       " 'p_journey',\n",
       " 'p_juice',\n",
       " 'p_junior',\n",
       " 'p_keep',\n",
       " 'p_kensington',\n",
       " 'p_kettle',\n",
       " 'p_kid',\n",
       " 'p_kind',\n",
       " 'p_kindly',\n",
       " 'p_king',\n",
       " 'p_kitchen',\n",
       " 'p_kitchenette',\n",
       " 'p_know',\n",
       " 'p_knowledgeable',\n",
       " 'p_lack',\n",
       " 'p_lady',\n",
       " 'p_lancaster',\n",
       " 'p_large',\n",
       " 'p_last',\n",
       " 'p_late',\n",
       " 'p_lay',\n",
       " 'p_layout',\n",
       " 'p_le',\n",
       " 'p_leave',\n",
       " 'p_leicester',\n",
       " 'p_leisure',\n",
       " 'p_let',\n",
       " 'p_level',\n",
       " 'p_lift',\n",
       " 'p_light',\n",
       " 'p_like',\n",
       " 'p_limit',\n",
       " 'p_line',\n",
       " 'p_linen',\n",
       " 'p_link',\n",
       " 'p_literally',\n",
       " 'p_little',\n",
       " 'p_live',\n",
       " 'p_lively',\n",
       " 'p_load',\n",
       " 'p_lobby',\n",
       " 'p_local',\n",
       " 'p_locate',\n",
       " 'p_location',\n",
       " 'p_london',\n",
       " 'p_long',\n",
       " 'p_look',\n",
       " 'p_lot',\n",
       " 'p_lounge',\n",
       " 'p_love',\n",
       " 'p_lovely',\n",
       " 'p_low',\n",
       " 'p_luggage',\n",
       " 'p_lunch',\n",
       " 'p_luxurious',\n",
       " 'p_luxury',\n",
       " 'p_machine',\n",
       " 'p_main',\n",
       " 'p_maintain',\n",
       " 'p_major',\n",
       " 'p_make',\n",
       " 'p_man',\n",
       " 'p_manage',\n",
       " 'p_management',\n",
       " 'p_manager',\n",
       " 'p_many',\n",
       " 'p_marathon',\n",
       " 'p_marble',\n",
       " 'p_mark',\n",
       " 'p_market',\n",
       " 'p_marylebone',\n",
       " 'p_massive',\n",
       " 'p_mattress',\n",
       " 'p_may',\n",
       " 'p_maybe',\n",
       " 'p_meal',\n",
       " 'p_mean',\n",
       " 'p_meet',\n",
       " 'p_member',\n",
       " 'p_memorable',\n",
       " 'p_mention',\n",
       " 'p_menu',\n",
       " 'p_microwave',\n",
       " 'p_middle',\n",
       " 'p_mile',\n",
       " 'p_milk',\n",
       " 'p_min',\n",
       " 'p_mini',\n",
       " 'p_minibar',\n",
       " 'p_minute',\n",
       " 'p_mirror',\n",
       " 'p_miss',\n",
       " 'p_mobile',\n",
       " 'p_modern',\n",
       " 'p_moment',\n",
       " 'p_money',\n",
       " 'p_mood',\n",
       " 'p_morning',\n",
       " 'p_mostly',\n",
       " 'p_move',\n",
       " 'p_movie',\n",
       " 'p_much',\n",
       " 'p_mum',\n",
       " 'p_museum',\n",
       " ...]"
      ]
     },
     "execution_count": 1103,
     "metadata": {},
     "output_type": "execute_result"
    }
   ],
   "source": [
    "# getting a list of all the columns\n",
    "list(hotel_df.columns)"
   ]
  },
  {
   "cell_type": "markdown",
   "id": "3d0dd711",
   "metadata": {},
   "source": [
    "Now let's filter out the columns starting with `p_`"
   ]
  },
  {
   "cell_type": "code",
   "execution_count": 1104,
   "id": "60fcc85d",
   "metadata": {},
   "outputs": [],
   "source": [
    "# assigning a name for the list of columns\n",
    "filter_col = [col for col in hotel_df if col.startswith('p_')]"
   ]
  },
  {
   "cell_type": "code",
   "execution_count": 1105,
   "id": "81becbaf",
   "metadata": {},
   "outputs": [
    {
     "data": {
      "text/html": [
       "<div>\n",
       "<style scoped>\n",
       "    .dataframe tbody tr th:only-of-type {\n",
       "        vertical-align: middle;\n",
       "    }\n",
       "\n",
       "    .dataframe tbody tr th {\n",
       "        vertical-align: top;\n",
       "    }\n",
       "\n",
       "    .dataframe thead th {\n",
       "        text-align: right;\n",
       "    }\n",
       "</style>\n",
       "<table border=\"1\" class=\"dataframe\">\n",
       "  <thead>\n",
       "    <tr style=\"text-align: right;\">\n",
       "      <th></th>\n",
       "      <th>p_</th>\n",
       "      <th>p_02</th>\n",
       "      <th>p_1</th>\n",
       "      <th>p_10</th>\n",
       "      <th>p_100</th>\n",
       "      <th>p_11</th>\n",
       "      <th>p_12</th>\n",
       "      <th>p_15</th>\n",
       "      <th>p_1st</th>\n",
       "      <th>p_2</th>\n",
       "      <th>...</th>\n",
       "      <th>p_worth</th>\n",
       "      <th>p_would</th>\n",
       "      <th>p_wow</th>\n",
       "      <th>p_x</th>\n",
       "      <th>p_yard</th>\n",
       "      <th>p_year</th>\n",
       "      <th>p_yes</th>\n",
       "      <th>p_yet</th>\n",
       "      <th>p_young</th>\n",
       "      <th>p_yummy</th>\n",
       "    </tr>\n",
       "  </thead>\n",
       "  <tbody>\n",
       "    <tr>\n",
       "      <th>0</th>\n",
       "      <td>2</td>\n",
       "      <td>0</td>\n",
       "      <td>0</td>\n",
       "      <td>0</td>\n",
       "      <td>0</td>\n",
       "      <td>0</td>\n",
       "      <td>0</td>\n",
       "      <td>0</td>\n",
       "      <td>0</td>\n",
       "      <td>0</td>\n",
       "      <td>...</td>\n",
       "      <td>0</td>\n",
       "      <td>1</td>\n",
       "      <td>0</td>\n",
       "      <td>0</td>\n",
       "      <td>0</td>\n",
       "      <td>0</td>\n",
       "      <td>0</td>\n",
       "      <td>0</td>\n",
       "      <td>0</td>\n",
       "      <td>0</td>\n",
       "    </tr>\n",
       "    <tr>\n",
       "      <th>1</th>\n",
       "      <td>1</td>\n",
       "      <td>0</td>\n",
       "      <td>0</td>\n",
       "      <td>0</td>\n",
       "      <td>0</td>\n",
       "      <td>0</td>\n",
       "      <td>0</td>\n",
       "      <td>0</td>\n",
       "      <td>0</td>\n",
       "      <td>0</td>\n",
       "      <td>...</td>\n",
       "      <td>0</td>\n",
       "      <td>0</td>\n",
       "      <td>0</td>\n",
       "      <td>0</td>\n",
       "      <td>0</td>\n",
       "      <td>0</td>\n",
       "      <td>0</td>\n",
       "      <td>0</td>\n",
       "      <td>0</td>\n",
       "      <td>0</td>\n",
       "    </tr>\n",
       "    <tr>\n",
       "      <th>2</th>\n",
       "      <td>2</td>\n",
       "      <td>0</td>\n",
       "      <td>0</td>\n",
       "      <td>0</td>\n",
       "      <td>0</td>\n",
       "      <td>0</td>\n",
       "      <td>0</td>\n",
       "      <td>0</td>\n",
       "      <td>0</td>\n",
       "      <td>0</td>\n",
       "      <td>...</td>\n",
       "      <td>0</td>\n",
       "      <td>0</td>\n",
       "      <td>0</td>\n",
       "      <td>0</td>\n",
       "      <td>0</td>\n",
       "      <td>0</td>\n",
       "      <td>0</td>\n",
       "      <td>0</td>\n",
       "      <td>0</td>\n",
       "      <td>0</td>\n",
       "    </tr>\n",
       "    <tr>\n",
       "      <th>3</th>\n",
       "      <td>1</td>\n",
       "      <td>0</td>\n",
       "      <td>0</td>\n",
       "      <td>0</td>\n",
       "      <td>0</td>\n",
       "      <td>0</td>\n",
       "      <td>0</td>\n",
       "      <td>0</td>\n",
       "      <td>0</td>\n",
       "      <td>0</td>\n",
       "      <td>...</td>\n",
       "      <td>0</td>\n",
       "      <td>0</td>\n",
       "      <td>0</td>\n",
       "      <td>0</td>\n",
       "      <td>0</td>\n",
       "      <td>0</td>\n",
       "      <td>0</td>\n",
       "      <td>0</td>\n",
       "      <td>0</td>\n",
       "      <td>0</td>\n",
       "    </tr>\n",
       "    <tr>\n",
       "      <th>4</th>\n",
       "      <td>2</td>\n",
       "      <td>0</td>\n",
       "      <td>0</td>\n",
       "      <td>0</td>\n",
       "      <td>0</td>\n",
       "      <td>0</td>\n",
       "      <td>0</td>\n",
       "      <td>0</td>\n",
       "      <td>0</td>\n",
       "      <td>0</td>\n",
       "      <td>...</td>\n",
       "      <td>0</td>\n",
       "      <td>0</td>\n",
       "      <td>0</td>\n",
       "      <td>0</td>\n",
       "      <td>0</td>\n",
       "      <td>0</td>\n",
       "      <td>0</td>\n",
       "      <td>0</td>\n",
       "      <td>0</td>\n",
       "      <td>0</td>\n",
       "    </tr>\n",
       "  </tbody>\n",
       "</table>\n",
       "<p>5 rows × 983 columns</p>\n",
       "</div>"
      ],
      "text/plain": [
       "   p_  p_02  p_1  p_10  p_100  p_11  p_12  p_15  p_1st  p_2  ...  p_worth  \\\n",
       "0   2     0    0     0      0     0     0     0      0    0  ...        0   \n",
       "1   1     0    0     0      0     0     0     0      0    0  ...        0   \n",
       "2   2     0    0     0      0     0     0     0      0    0  ...        0   \n",
       "3   1     0    0     0      0     0     0     0      0    0  ...        0   \n",
       "4   2     0    0     0      0     0     0     0      0    0  ...        0   \n",
       "\n",
       "   p_would  p_wow  p_x  p_yard  p_year  p_yes  p_yet  p_young  p_yummy  \n",
       "0        1      0    0       0       0      0      0        0        0  \n",
       "1        0      0    0       0       0      0      0        0        0  \n",
       "2        0      0    0       0       0      0      0        0        0  \n",
       "3        0      0    0       0       0      0      0        0        0  \n",
       "4        0      0    0       0       0      0      0        0        0  \n",
       "\n",
       "[5 rows x 983 columns]"
      ]
     },
     "execution_count": 1105,
     "metadata": {},
     "output_type": "execute_result"
    }
   ],
   "source": [
    "# making a dataframe out of it\n",
    "p_df = hotel_df[filter_col]\n",
    "p_df.head()"
   ]
  },
  {
   "cell_type": "code",
   "execution_count": 1106,
   "id": "bd6f1bbb",
   "metadata": {},
   "outputs": [
    {
     "data": {
      "text/plain": [
       "(12798, 983)"
      ]
     },
     "execution_count": 1106,
     "metadata": {},
     "output_type": "execute_result"
    }
   ],
   "source": [
    "# checking shape\n",
    "p_df.shape"
   ]
  },
  {
   "cell_type": "markdown",
   "id": "3f77ab55",
   "metadata": {},
   "source": [
    "Now let's do it for the columns starting with `n_`"
   ]
  },
  {
   "cell_type": "code",
   "execution_count": 1107,
   "id": "15eb1554",
   "metadata": {},
   "outputs": [],
   "source": [
    "# assigning a name for the list of columns\n",
    "filter_col2 = [col for col in hotel_df if col.startswith('n_')]"
   ]
  },
  {
   "cell_type": "code",
   "execution_count": 1108,
   "id": "8ee2b9a4",
   "metadata": {},
   "outputs": [
    {
     "data": {
      "text/html": [
       "<div>\n",
       "<style scoped>\n",
       "    .dataframe tbody tr th:only-of-type {\n",
       "        vertical-align: middle;\n",
       "    }\n",
       "\n",
       "    .dataframe tbody tr th {\n",
       "        vertical-align: top;\n",
       "    }\n",
       "\n",
       "    .dataframe thead th {\n",
       "        text-align: right;\n",
       "    }\n",
       "</style>\n",
       "<table border=\"1\" class=\"dataframe\">\n",
       "  <thead>\n",
       "    <tr style=\"text-align: right;\">\n",
       "      <th></th>\n",
       "      <th>n_</th>\n",
       "      <th>n_00</th>\n",
       "      <th>n_02</th>\n",
       "      <th>n_1</th>\n",
       "      <th>n_10</th>\n",
       "      <th>n_100</th>\n",
       "      <th>n_11</th>\n",
       "      <th>n_11am</th>\n",
       "      <th>n_11pm</th>\n",
       "      <th>n_12</th>\n",
       "      <th>...</th>\n",
       "      <th>n_world</th>\n",
       "      <th>n_worry</th>\n",
       "      <th>n_worth</th>\n",
       "      <th>n_would</th>\n",
       "      <th>n_write</th>\n",
       "      <th>n_wrong</th>\n",
       "      <th>n_year</th>\n",
       "      <th>n_yes</th>\n",
       "      <th>n_yet</th>\n",
       "      <th>n_young</th>\n",
       "    </tr>\n",
       "  </thead>\n",
       "  <tbody>\n",
       "    <tr>\n",
       "      <th>0</th>\n",
       "      <td>0</td>\n",
       "      <td>0</td>\n",
       "      <td>0</td>\n",
       "      <td>0</td>\n",
       "      <td>0</td>\n",
       "      <td>0</td>\n",
       "      <td>0</td>\n",
       "      <td>0</td>\n",
       "      <td>0</td>\n",
       "      <td>0</td>\n",
       "      <td>...</td>\n",
       "      <td>0</td>\n",
       "      <td>0</td>\n",
       "      <td>0</td>\n",
       "      <td>0</td>\n",
       "      <td>0</td>\n",
       "      <td>0</td>\n",
       "      <td>0</td>\n",
       "      <td>0</td>\n",
       "      <td>0</td>\n",
       "      <td>0</td>\n",
       "    </tr>\n",
       "    <tr>\n",
       "      <th>1</th>\n",
       "      <td>1</td>\n",
       "      <td>0</td>\n",
       "      <td>0</td>\n",
       "      <td>0</td>\n",
       "      <td>0</td>\n",
       "      <td>0</td>\n",
       "      <td>0</td>\n",
       "      <td>0</td>\n",
       "      <td>0</td>\n",
       "      <td>0</td>\n",
       "      <td>...</td>\n",
       "      <td>0</td>\n",
       "      <td>0</td>\n",
       "      <td>0</td>\n",
       "      <td>0</td>\n",
       "      <td>0</td>\n",
       "      <td>0</td>\n",
       "      <td>0</td>\n",
       "      <td>0</td>\n",
       "      <td>0</td>\n",
       "      <td>0</td>\n",
       "    </tr>\n",
       "    <tr>\n",
       "      <th>2</th>\n",
       "      <td>1</td>\n",
       "      <td>0</td>\n",
       "      <td>0</td>\n",
       "      <td>0</td>\n",
       "      <td>0</td>\n",
       "      <td>0</td>\n",
       "      <td>0</td>\n",
       "      <td>0</td>\n",
       "      <td>0</td>\n",
       "      <td>0</td>\n",
       "      <td>...</td>\n",
       "      <td>0</td>\n",
       "      <td>0</td>\n",
       "      <td>0</td>\n",
       "      <td>0</td>\n",
       "      <td>0</td>\n",
       "      <td>0</td>\n",
       "      <td>0</td>\n",
       "      <td>0</td>\n",
       "      <td>0</td>\n",
       "      <td>0</td>\n",
       "    </tr>\n",
       "    <tr>\n",
       "      <th>3</th>\n",
       "      <td>1</td>\n",
       "      <td>0</td>\n",
       "      <td>0</td>\n",
       "      <td>0</td>\n",
       "      <td>0</td>\n",
       "      <td>0</td>\n",
       "      <td>0</td>\n",
       "      <td>0</td>\n",
       "      <td>0</td>\n",
       "      <td>0</td>\n",
       "      <td>...</td>\n",
       "      <td>0</td>\n",
       "      <td>0</td>\n",
       "      <td>0</td>\n",
       "      <td>0</td>\n",
       "      <td>0</td>\n",
       "      <td>0</td>\n",
       "      <td>0</td>\n",
       "      <td>0</td>\n",
       "      <td>0</td>\n",
       "      <td>0</td>\n",
       "    </tr>\n",
       "    <tr>\n",
       "      <th>4</th>\n",
       "      <td>2</td>\n",
       "      <td>0</td>\n",
       "      <td>0</td>\n",
       "      <td>0</td>\n",
       "      <td>0</td>\n",
       "      <td>0</td>\n",
       "      <td>0</td>\n",
       "      <td>0</td>\n",
       "      <td>0</td>\n",
       "      <td>0</td>\n",
       "      <td>...</td>\n",
       "      <td>0</td>\n",
       "      <td>0</td>\n",
       "      <td>0</td>\n",
       "      <td>0</td>\n",
       "      <td>0</td>\n",
       "      <td>0</td>\n",
       "      <td>0</td>\n",
       "      <td>0</td>\n",
       "      <td>0</td>\n",
       "      <td>0</td>\n",
       "    </tr>\n",
       "  </tbody>\n",
       "</table>\n",
       "<p>5 rows × 1343 columns</p>\n",
       "</div>"
      ],
      "text/plain": [
       "   n_  n_00  n_02  n_1  n_10  n_100  n_11  n_11am  n_11pm  n_12  ...  n_world  \\\n",
       "0   0     0     0    0     0      0     0       0       0     0  ...        0   \n",
       "1   1     0     0    0     0      0     0       0       0     0  ...        0   \n",
       "2   1     0     0    0     0      0     0       0       0     0  ...        0   \n",
       "3   1     0     0    0     0      0     0       0       0     0  ...        0   \n",
       "4   2     0     0    0     0      0     0       0       0     0  ...        0   \n",
       "\n",
       "   n_worry  n_worth  n_would  n_write  n_wrong  n_year  n_yes  n_yet  n_young  \n",
       "0        0        0        0        0        0       0      0      0        0  \n",
       "1        0        0        0        0        0       0      0      0        0  \n",
       "2        0        0        0        0        0       0      0      0        0  \n",
       "3        0        0        0        0        0       0      0      0        0  \n",
       "4        0        0        0        0        0       0      0      0        0  \n",
       "\n",
       "[5 rows x 1343 columns]"
      ]
     },
     "execution_count": 1108,
     "metadata": {},
     "output_type": "execute_result"
    }
   ],
   "source": [
    "# making a dataframe out of it\n",
    "n_df = hotel_df[filter_col2]\n",
    "n_df.head()"
   ]
  },
  {
   "cell_type": "code",
   "execution_count": 1109,
   "id": "cb3f4d3b",
   "metadata": {},
   "outputs": [
    {
     "data": {
      "text/plain": [
       "(12798, 1343)"
      ]
     },
     "execution_count": 1109,
     "metadata": {},
     "output_type": "execute_result"
    }
   ],
   "source": [
    "# checking shape\n",
    "n_df.shape"
   ]
  },
  {
   "cell_type": "markdown",
   "id": "2799a4e2",
   "metadata": {},
   "source": [
    "Now let's create different kind of dataframes and peek into them."
   ]
  },
  {
   "cell_type": "code",
   "execution_count": 1110,
   "id": "35085e36",
   "metadata": {},
   "outputs": [],
   "source": [
    "# dataset containing no positive words columns\n",
    "not_p = hotel_df.loc[:, ~hotel_df.columns.isin(filter_col)]"
   ]
  },
  {
   "cell_type": "code",
   "execution_count": 1111,
   "id": "29fca314",
   "metadata": {},
   "outputs": [],
   "source": [
    "# dataset containing neither positive or negative columns\n",
    "not_n_p = not_p.loc[:, ~not_p.columns.isin(filter_col2)]"
   ]
  },
  {
   "cell_type": "code",
   "execution_count": 1112,
   "id": "4208c280",
   "metadata": {},
   "outputs": [
    {
     "data": {
      "text/html": [
       "<div>\n",
       "<style scoped>\n",
       "    .dataframe tbody tr th:only-of-type {\n",
       "        vertical-align: middle;\n",
       "    }\n",
       "\n",
       "    .dataframe tbody tr th {\n",
       "        vertical-align: top;\n",
       "    }\n",
       "\n",
       "    .dataframe thead th {\n",
       "        text-align: right;\n",
       "    }\n",
       "</style>\n",
       "<table border=\"1\" class=\"dataframe\">\n",
       "  <thead>\n",
       "    <tr style=\"text-align: right;\">\n",
       "      <th></th>\n",
       "      <th>Additional_Number_of_Scoring</th>\n",
       "      <th>Average_Score</th>\n",
       "      <th>Review_Total_Negative_Word_Counts</th>\n",
       "      <th>Total_Number_of_Reviews</th>\n",
       "      <th>Review_Total_Positive_Word_Counts</th>\n",
       "      <th>Total_Number_of_Reviews_Reviewer_Has_Given</th>\n",
       "      <th>days_since_review</th>\n",
       "      <th>lat</th>\n",
       "      <th>lng</th>\n",
       "      <th>weekday_of_review</th>\n",
       "      <th>...</th>\n",
       "      <th>Hotel_Name_United Lodge Hotel and Apartments</th>\n",
       "      <th>Hotel_Name_W London Leicester Square</th>\n",
       "      <th>Hotel_Name_W12 Rooms</th>\n",
       "      <th>Hotel_Name_Washington Mayfair Hotel</th>\n",
       "      <th>Hotel_Name_Windermere Hotel</th>\n",
       "      <th>Hotel_Name_citizenM London Bankside</th>\n",
       "      <th>Hotel_Name_citizenM London Shoreditch</th>\n",
       "      <th>Hotel_Name_citizenM Tower of London</th>\n",
       "      <th>Hotel_Name_every hotel Piccadilly</th>\n",
       "      <th>rating</th>\n",
       "    </tr>\n",
       "  </thead>\n",
       "  <tbody>\n",
       "    <tr>\n",
       "      <th>0</th>\n",
       "      <td>620</td>\n",
       "      <td>9.0</td>\n",
       "      <td>0</td>\n",
       "      <td>1974</td>\n",
       "      <td>164</td>\n",
       "      <td>1</td>\n",
       "      <td>562</td>\n",
       "      <td>51.506558</td>\n",
       "      <td>-0.004514</td>\n",
       "      <td>1</td>\n",
       "      <td>...</td>\n",
       "      <td>0</td>\n",
       "      <td>0</td>\n",
       "      <td>0</td>\n",
       "      <td>0</td>\n",
       "      <td>0</td>\n",
       "      <td>0</td>\n",
       "      <td>0</td>\n",
       "      <td>0</td>\n",
       "      <td>0</td>\n",
       "      <td>1</td>\n",
       "    </tr>\n",
       "    <tr>\n",
       "      <th>1</th>\n",
       "      <td>1258</td>\n",
       "      <td>9.4</td>\n",
       "      <td>6</td>\n",
       "      <td>4204</td>\n",
       "      <td>4</td>\n",
       "      <td>5</td>\n",
       "      <td>276</td>\n",
       "      <td>51.502435</td>\n",
       "      <td>-0.000250</td>\n",
       "      <td>0</td>\n",
       "      <td>...</td>\n",
       "      <td>0</td>\n",
       "      <td>0</td>\n",
       "      <td>0</td>\n",
       "      <td>0</td>\n",
       "      <td>0</td>\n",
       "      <td>0</td>\n",
       "      <td>0</td>\n",
       "      <td>0</td>\n",
       "      <td>0</td>\n",
       "      <td>1</td>\n",
       "    </tr>\n",
       "    <tr>\n",
       "      <th>2</th>\n",
       "      <td>995</td>\n",
       "      <td>8.1</td>\n",
       "      <td>2</td>\n",
       "      <td>3826</td>\n",
       "      <td>38</td>\n",
       "      <td>1</td>\n",
       "      <td>129</td>\n",
       "      <td>51.504348</td>\n",
       "      <td>-0.033444</td>\n",
       "      <td>0</td>\n",
       "      <td>...</td>\n",
       "      <td>0</td>\n",
       "      <td>0</td>\n",
       "      <td>0</td>\n",
       "      <td>0</td>\n",
       "      <td>0</td>\n",
       "      <td>0</td>\n",
       "      <td>0</td>\n",
       "      <td>0</td>\n",
       "      <td>0</td>\n",
       "      <td>1</td>\n",
       "    </tr>\n",
       "    <tr>\n",
       "      <th>3</th>\n",
       "      <td>853</td>\n",
       "      <td>8.4</td>\n",
       "      <td>7</td>\n",
       "      <td>2726</td>\n",
       "      <td>10</td>\n",
       "      <td>10</td>\n",
       "      <td>164</td>\n",
       "      <td>51.507377</td>\n",
       "      <td>0.038657</td>\n",
       "      <td>0</td>\n",
       "      <td>...</td>\n",
       "      <td>0</td>\n",
       "      <td>0</td>\n",
       "      <td>0</td>\n",
       "      <td>0</td>\n",
       "      <td>0</td>\n",
       "      <td>0</td>\n",
       "      <td>0</td>\n",
       "      <td>0</td>\n",
       "      <td>0</td>\n",
       "      <td>0</td>\n",
       "    </tr>\n",
       "    <tr>\n",
       "      <th>4</th>\n",
       "      <td>1243</td>\n",
       "      <td>8.1</td>\n",
       "      <td>11</td>\n",
       "      <td>6608</td>\n",
       "      <td>8</td>\n",
       "      <td>69</td>\n",
       "      <td>639</td>\n",
       "      <td>51.513556</td>\n",
       "      <td>-0.180002</td>\n",
       "      <td>1</td>\n",
       "      <td>...</td>\n",
       "      <td>0</td>\n",
       "      <td>0</td>\n",
       "      <td>0</td>\n",
       "      <td>0</td>\n",
       "      <td>0</td>\n",
       "      <td>0</td>\n",
       "      <td>0</td>\n",
       "      <td>0</td>\n",
       "      <td>0</td>\n",
       "      <td>0</td>\n",
       "    </tr>\n",
       "  </tbody>\n",
       "</table>\n",
       "<p>5 rows × 418 columns</p>\n",
       "</div>"
      ],
      "text/plain": [
       "   Additional_Number_of_Scoring  Average_Score  \\\n",
       "0                           620            9.0   \n",
       "1                          1258            9.4   \n",
       "2                           995            8.1   \n",
       "3                           853            8.4   \n",
       "4                          1243            8.1   \n",
       "\n",
       "   Review_Total_Negative_Word_Counts  Total_Number_of_Reviews  \\\n",
       "0                                  0                     1974   \n",
       "1                                  6                     4204   \n",
       "2                                  2                     3826   \n",
       "3                                  7                     2726   \n",
       "4                                 11                     6608   \n",
       "\n",
       "   Review_Total_Positive_Word_Counts  \\\n",
       "0                                164   \n",
       "1                                  4   \n",
       "2                                 38   \n",
       "3                                 10   \n",
       "4                                  8   \n",
       "\n",
       "   Total_Number_of_Reviews_Reviewer_Has_Given  days_since_review        lat  \\\n",
       "0                                           1                562  51.506558   \n",
       "1                                           5                276  51.502435   \n",
       "2                                           1                129  51.504348   \n",
       "3                                          10                164  51.507377   \n",
       "4                                          69                639  51.513556   \n",
       "\n",
       "        lng  weekday_of_review  ...  \\\n",
       "0 -0.004514                  1  ...   \n",
       "1 -0.000250                  0  ...   \n",
       "2 -0.033444                  0  ...   \n",
       "3  0.038657                  0  ...   \n",
       "4 -0.180002                  1  ...   \n",
       "\n",
       "   Hotel_Name_United Lodge Hotel and Apartments  \\\n",
       "0                                             0   \n",
       "1                                             0   \n",
       "2                                             0   \n",
       "3                                             0   \n",
       "4                                             0   \n",
       "\n",
       "   Hotel_Name_W London Leicester Square  Hotel_Name_W12 Rooms  \\\n",
       "0                                     0                     0   \n",
       "1                                     0                     0   \n",
       "2                                     0                     0   \n",
       "3                                     0                     0   \n",
       "4                                     0                     0   \n",
       "\n",
       "   Hotel_Name_Washington Mayfair Hotel  Hotel_Name_Windermere Hotel  \\\n",
       "0                                    0                            0   \n",
       "1                                    0                            0   \n",
       "2                                    0                            0   \n",
       "3                                    0                            0   \n",
       "4                                    0                            0   \n",
       "\n",
       "   Hotel_Name_citizenM London Bankside  Hotel_Name_citizenM London Shoreditch  \\\n",
       "0                                    0                                      0   \n",
       "1                                    0                                      0   \n",
       "2                                    0                                      0   \n",
       "3                                    0                                      0   \n",
       "4                                    0                                      0   \n",
       "\n",
       "   Hotel_Name_citizenM Tower of London  Hotel_Name_every hotel Piccadilly  \\\n",
       "0                                    0                                  0   \n",
       "1                                    0                                  0   \n",
       "2                                    0                                  0   \n",
       "3                                    0                                  0   \n",
       "4                                    0                                  0   \n",
       "\n",
       "   rating  \n",
       "0       1  \n",
       "1       1  \n",
       "2       1  \n",
       "3       0  \n",
       "4       0  \n",
       "\n",
       "[5 rows x 418 columns]"
      ]
     },
     "execution_count": 1112,
     "metadata": {},
     "output_type": "execute_result"
    }
   ],
   "source": [
    "# peeking into the dataframe\n",
    "not_n_p.head()"
   ]
  },
  {
   "cell_type": "markdown",
   "id": "a2e743ee",
   "metadata": {},
   "source": [
    "Now let's what columns are left with us. Main motive to do this to see what columns are there in the dataset and what kind of information do they carry."
   ]
  },
  {
   "cell_type": "code",
   "execution_count": 1113,
   "id": "379c9752",
   "metadata": {},
   "outputs": [
    {
     "data": {
      "text/plain": [
       "['Additional_Number_of_Scoring',\n",
       " 'Average_Score',\n",
       " 'Review_Total_Negative_Word_Counts',\n",
       " 'Total_Number_of_Reviews',\n",
       " 'Review_Total_Positive_Word_Counts',\n",
       " 'Total_Number_of_Reviews_Reviewer_Has_Given',\n",
       " 'days_since_review',\n",
       " 'lat',\n",
       " 'lng',\n",
       " 'weekday_of_review',\n",
       " 'month_of_review',\n",
       " 'year_of_review',\n",
       " 'bed_single',\n",
       " 'bed_double',\n",
       " 'bed_queen',\n",
       " 'bed_king',\n",
       " 'trip_leisure',\n",
       " 'trip_biz',\n",
       " 'group_solo',\n",
       " 'group_couple',\n",
       " 'group_family',\n",
       " 'Hotel_Name_11 Cadogan Gardens',\n",
       " 'Hotel_Name_41',\n",
       " 'Hotel_Name_88 Studios',\n",
       " 'Hotel_Name_Ace Hotel London Shoreditch',\n",
       " 'Hotel_Name_Adria Boutique Hotel',\n",
       " 'Hotel_Name_Aloft London Excel',\n",
       " 'Hotel_Name_Amba Hotel Charing Cross',\n",
       " 'Hotel_Name_Amba Hotel Marble Arch',\n",
       " 'Hotel_Name_Ambassadors Bloomsbury',\n",
       " 'Hotel_Name_Andaz London Liverpool Street',\n",
       " 'Hotel_Name_Apex City Of London Hotel',\n",
       " 'Hotel_Name_Apex London Wall Hotel',\n",
       " 'Hotel_Name_Apex Temple Court Hotel',\n",
       " 'Hotel_Name_Arbor City',\n",
       " 'Hotel_Name_Arbor Hyde Park',\n",
       " 'Hotel_Name_Ashburn Hotel',\n",
       " 'Hotel_Name_Avo Hotel',\n",
       " 'Hotel_Name_BEST WESTERN Maitrise Hotel Maida Vale',\n",
       " 'Hotel_Name_Baglioni Hotel London The Leading Hotels of the World',\n",
       " 'Hotel_Name_Batty Langley s',\n",
       " 'Hotel_Name_Bentley London',\n",
       " 'Hotel_Name_Bermondsey Square Hotel A Bespoke Hotel',\n",
       " 'Hotel_Name_Best Western Maitrise Hotel Edgware Road',\n",
       " 'Hotel_Name_Best Western Mornington Hotel Hyde Park',\n",
       " 'Hotel_Name_Best Western PLUS Epping Forest',\n",
       " 'Hotel_Name_Best Western Palm Hotel',\n",
       " 'Hotel_Name_Best Western Plus Seraphine Hammersmith Hotel',\n",
       " 'Hotel_Name_Best Western Seraphine Kensington Olympia',\n",
       " 'Hotel_Name_Best Western The Boltons Hotel London Kensington',\n",
       " 'Hotel_Name_Blakemore Hyde Park',\n",
       " 'Hotel_Name_Blakes Hotel',\n",
       " 'Hotel_Name_Bloomsbury Palace Hotel',\n",
       " 'Hotel_Name_Britannia International Hotel Canary Wharf',\n",
       " 'Hotel_Name_Bulgari Hotel London',\n",
       " 'Hotel_Name_COMO Metropolitan London',\n",
       " 'Hotel_Name_COMO The Halkin',\n",
       " 'Hotel_Name_Caesar Hotel',\n",
       " 'Hotel_Name_Canary Riverside Plaza Hotel',\n",
       " 'Hotel_Name_Charlotte Street Hotel',\n",
       " 'Hotel_Name_Chiswick Rooms',\n",
       " 'Hotel_Name_Claridge s',\n",
       " 'Hotel_Name_Clayton Crown Hotel London',\n",
       " 'Hotel_Name_Clayton Hotel Chiswick',\n",
       " 'Hotel_Name_Club Quarters Hotel Gracechurch',\n",
       " 'Hotel_Name_Club Quarters Hotel Lincoln s Inn Fields',\n",
       " 'Hotel_Name_Club Quarters Hotel St Paul s',\n",
       " 'Hotel_Name_Club Quarters Hotel Trafalgar Square',\n",
       " 'Hotel_Name_Comfort Inn Suites Kings Cross St Pancras',\n",
       " 'Hotel_Name_Commodore Hotel',\n",
       " 'Hotel_Name_Conrad London St James',\n",
       " 'Hotel_Name_Copthorne Tara Hotel London Kensington',\n",
       " 'Hotel_Name_Corinthia Hotel London',\n",
       " 'Hotel_Name_Corus Hotel Hyde Park',\n",
       " 'Hotel_Name_Courthouse Hotel London',\n",
       " 'Hotel_Name_Courthouse Hotel Shoreditch',\n",
       " 'Hotel_Name_Covent Garden Hotel',\n",
       " 'Hotel_Name_Crowne Plaza London Battersea',\n",
       " 'Hotel_Name_Crowne Plaza London Docklands',\n",
       " 'Hotel_Name_Crowne Plaza London Ealing',\n",
       " 'Hotel_Name_Crowne Plaza London Kensington',\n",
       " 'Hotel_Name_Crowne Plaza London Kings Cross',\n",
       " 'Hotel_Name_Crowne Plaza London The City',\n",
       " 'Hotel_Name_Danubius Hotel Regents Park',\n",
       " 'Hotel_Name_De Vere Devonport House',\n",
       " 'Hotel_Name_Dorset Square Hotel',\n",
       " 'Hotel_Name_Dorsett Shepherds Bush',\n",
       " 'Hotel_Name_DoubleTree By Hilton London Excel',\n",
       " 'Hotel_Name_DoubleTree by Hilton Hotel London Marble Arch',\n",
       " 'Hotel_Name_DoubleTree by Hilton Hotel London Tower of London',\n",
       " 'Hotel_Name_DoubleTree by Hilton London Chelsea',\n",
       " 'Hotel_Name_DoubleTree by Hilton London Docklands Riverside',\n",
       " 'Hotel_Name_DoubleTree by Hilton London Ealing',\n",
       " 'Hotel_Name_DoubleTree by Hilton London Hyde Park',\n",
       " 'Hotel_Name_DoubleTree by Hilton London Islington',\n",
       " 'Hotel_Name_DoubleTree by Hilton London Victoria',\n",
       " 'Hotel_Name_DoubleTree by Hilton London West End',\n",
       " 'Hotel_Name_DoubleTree by Hilton London Westminster',\n",
       " 'Hotel_Name_Doubletree By Hilton London Greenwich',\n",
       " 'Hotel_Name_Doubletree by Hilton London Kensington',\n",
       " 'Hotel_Name_Draycott Hotel',\n",
       " 'Hotel_Name_Dukes Hotel',\n",
       " 'Hotel_Name_Durrants Hotel',\n",
       " 'Hotel_Name_Eccleston Square Hotel',\n",
       " 'Hotel_Name_Egerton House',\n",
       " 'Hotel_Name_Fielding Hotel',\n",
       " 'Hotel_Name_Fifty Four Boutique Hotel',\n",
       " 'Hotel_Name_Flemings Mayfair',\n",
       " 'Hotel_Name_Four Seasons Hotel London at Park Lane',\n",
       " 'Hotel_Name_Gainsborough Hotel',\n",
       " 'Hotel_Name_Georgian House Hotel',\n",
       " 'Hotel_Name_Good Hotel London',\n",
       " 'Hotel_Name_Goodenough Club',\n",
       " 'Hotel_Name_Grand Royale London Hyde Park',\n",
       " 'Hotel_Name_Grange Beauchamp Hotel',\n",
       " 'Hotel_Name_Grange Blooms Hotel',\n",
       " 'Hotel_Name_Grange Buckingham Hotel',\n",
       " 'Hotel_Name_Grange City Hotel',\n",
       " 'Hotel_Name_Grange Clarendon Hotel',\n",
       " 'Hotel_Name_Grange Fitzrovia Hotel',\n",
       " 'Hotel_Name_Grange Holborn Hotel',\n",
       " 'Hotel_Name_Grange Langham Court Hotel',\n",
       " 'Hotel_Name_Grange Rochester Hotel',\n",
       " 'Hotel_Name_Grange St Paul s Hotel',\n",
       " 'Hotel_Name_Grange Strathmore Hotel',\n",
       " 'Hotel_Name_Grange Tower Bridge Hotel',\n",
       " 'Hotel_Name_Grange Wellington Hotel',\n",
       " 'Hotel_Name_Grange White Hall Hotel',\n",
       " 'Hotel_Name_Great Northern Hotel A Tribute Portfolio Hotel London',\n",
       " 'Hotel_Name_Great St Helen Hotel',\n",
       " 'Hotel_Name_Grosvenor House A JW Marriott Hotel',\n",
       " 'Hotel_Name_Grosvenor House Suites by Jumeirah Living',\n",
       " 'Hotel_Name_H10 London Waterloo',\n",
       " 'Hotel_Name_Hallmark Hotel London Chigwell Prince Regent',\n",
       " 'Hotel_Name_Ham Yard Hotel',\n",
       " 'Hotel_Name_Haymarket Hotel',\n",
       " 'Hotel_Name_Hazlitt s',\n",
       " 'Hotel_Name_Henley House Hotel',\n",
       " 'Hotel_Name_Henry VIII',\n",
       " 'Hotel_Name_Hilton London Angel Islington',\n",
       " 'Hotel_Name_Hilton London Bankside',\n",
       " 'Hotel_Name_Hilton London Canary Wharf',\n",
       " 'Hotel_Name_Hilton London Euston',\n",
       " 'Hotel_Name_Hilton London Green Park',\n",
       " 'Hotel_Name_Hilton London Hyde Park',\n",
       " 'Hotel_Name_Hilton London Kensington Hotel',\n",
       " 'Hotel_Name_Hilton London Metropole',\n",
       " 'Hotel_Name_Hilton London Olympia',\n",
       " 'Hotel_Name_Hilton London Paddington',\n",
       " 'Hotel_Name_Hilton London Tower Bridge',\n",
       " 'Hotel_Name_Hilton London Wembley',\n",
       " 'Hotel_Name_Holiday Inn London Bloomsbury',\n",
       " 'Hotel_Name_Holiday Inn London Brent Cross',\n",
       " 'Hotel_Name_Holiday Inn London Camden Lock',\n",
       " 'Hotel_Name_Holiday Inn London Kensington',\n",
       " 'Hotel_Name_Holiday Inn London Kensington Forum',\n",
       " 'Hotel_Name_Holiday Inn London Mayfair',\n",
       " 'Hotel_Name_Holiday Inn London Oxford Circus',\n",
       " 'Hotel_Name_Holiday Inn London Regent s Park',\n",
       " 'Hotel_Name_Holiday Inn London Stratford City',\n",
       " 'Hotel_Name_Holiday Inn London Wembley',\n",
       " 'Hotel_Name_Holiday Inn London West',\n",
       " 'Hotel_Name_Holiday Inn London Whitechapel',\n",
       " 'Hotel_Name_Hotel 55',\n",
       " 'Hotel_Name_Hotel 82 London',\n",
       " 'Hotel_Name_Hotel Cafe Royal',\n",
       " 'Hotel_Name_Hotel Cavendish',\n",
       " 'Hotel_Name_Hotel Indigo London Kensington',\n",
       " 'Hotel_Name_Hotel Indigo London Paddington',\n",
       " 'Hotel_Name_Hotel Indigo London Tower Hill',\n",
       " 'Hotel_Name_Hotel La Place',\n",
       " 'Hotel_Name_Hotel Moonlight',\n",
       " 'Hotel_Name_Hotel Xanadu',\n",
       " 'Hotel_Name_Hotel Xenia Autograph Collection',\n",
       " 'Hotel_Name_Hotel du Vin Cannizaro House Wimbledon',\n",
       " 'Hotel_Name_Hyatt Regency London The Churchill',\n",
       " 'Hotel_Name_Innkeeper s Lodge London Greenwich',\n",
       " 'Hotel_Name_InterContinental London Park Lane',\n",
       " 'Hotel_Name_Intercontinental London The O2',\n",
       " 'Hotel_Name_Jumeirah Carlton Tower',\n",
       " 'Hotel_Name_Jumeirah Lowndes Hotel',\n",
       " 'Hotel_Name_K K Hotel George',\n",
       " 'Hotel_Name_K West Hotel Spa',\n",
       " 'Hotel_Name_Karma Sanctum Soho Hotel',\n",
       " 'Hotel_Name_Kensington House Hotel',\n",
       " 'Hotel_Name_Kingsway Hall Hotel',\n",
       " 'Hotel_Name_Knightsbridge Hotel',\n",
       " 'Hotel_Name_La Suite West Hyde Park',\n",
       " 'Hotel_Name_Lancaster London',\n",
       " 'Hotel_Name_Landmark London',\n",
       " 'Hotel_Name_Lansbury Heritage Hotel',\n",
       " 'Hotel_Name_Le Meridien Piccadilly',\n",
       " 'Hotel_Name_London Bridge Hotel',\n",
       " 'Hotel_Name_London City Suites',\n",
       " 'Hotel_Name_London Elizabeth Hotel',\n",
       " 'Hotel_Name_London Hilton on Park Lane',\n",
       " 'Hotel_Name_London Marriott Hotel County Hall',\n",
       " 'Hotel_Name_London Marriott Hotel Grosvenor Square',\n",
       " 'Hotel_Name_London Marriott Hotel Kensington',\n",
       " 'Hotel_Name_London Marriott Hotel Marble Arch',\n",
       " 'Hotel_Name_London Marriott Hotel Park Lane',\n",
       " 'Hotel_Name_London Marriott Hotel Regents Park',\n",
       " 'Hotel_Name_London Marriott Hotel West India Quay',\n",
       " 'Hotel_Name_London Marriott Maida Vale',\n",
       " 'Hotel_Name_London Suites',\n",
       " 'Hotel_Name_M by Montcalm Shoreditch London Tech City',\n",
       " 'Hotel_Name_ME London by Melia',\n",
       " 'Hotel_Name_Malmaison London',\n",
       " 'Hotel_Name_Mandarin Oriental Hyde Park London',\n",
       " 'Hotel_Name_Marlin Waterloo',\n",
       " 'Hotel_Name_Mayflower Hotel Apartments',\n",
       " 'Hotel_Name_Megaro Hotel',\n",
       " 'Hotel_Name_Melia White House Hotel',\n",
       " 'Hotel_Name_Mercure London Bloomsbury Hotel',\n",
       " 'Hotel_Name_Mercure London Bridge',\n",
       " 'Hotel_Name_Mercure London Hyde Park',\n",
       " 'Hotel_Name_Mercure London Kensington Hotel',\n",
       " 'Hotel_Name_Mercure London Paddington Hotel',\n",
       " 'Hotel_Name_Milestone Hotel Kensington',\n",
       " 'Hotel_Name_Millennium Copthorne Hotels at Chelsea Football Club',\n",
       " 'Hotel_Name_Millennium Gloucester Hotel London',\n",
       " 'Hotel_Name_Millennium Hotel London Knightsbridge',\n",
       " 'Hotel_Name_Millennium Hotel London Mayfair',\n",
       " 'Hotel_Name_Mimi s Hotel Soho',\n",
       " 'Hotel_Name_Mondrian London',\n",
       " 'Hotel_Name_Montagu Place Hotel',\n",
       " 'Hotel_Name_Montcalm Royal London House City of London',\n",
       " 'Hotel_Name_My Bloomsbury',\n",
       " 'Hotel_Name_My Chelsea',\n",
       " 'Hotel_Name_NH London Kensington',\n",
       " 'Hotel_Name_New Linden Hotel',\n",
       " 'Hotel_Name_Norfolk Towers Paddington',\n",
       " 'Hotel_Name_Nottingham Place Hotel',\n",
       " 'Hotel_Name_Novotel London Blackfriars',\n",
       " 'Hotel_Name_Novotel London Canary Wharf',\n",
       " 'Hotel_Name_Novotel London City South',\n",
       " 'Hotel_Name_Novotel London Excel',\n",
       " 'Hotel_Name_Novotel London Greenwich',\n",
       " 'Hotel_Name_Novotel London Paddington',\n",
       " 'Hotel_Name_Novotel London Tower Bridge',\n",
       " 'Hotel_Name_Novotel London Waterloo',\n",
       " 'Hotel_Name_Novotel London Wembley',\n",
       " 'Hotel_Name_Novotel London West',\n",
       " 'Hotel_Name_Number Sixteen',\n",
       " 'Hotel_Name_Old Ship Inn Hackney',\n",
       " 'Hotel_Name_One Aldwych',\n",
       " 'Hotel_Name_Paddington Court Executive Rooms',\n",
       " 'Hotel_Name_Park Avenue Baker Street',\n",
       " 'Hotel_Name_Park Grand London Hyde Park',\n",
       " 'Hotel_Name_Park Grand London Kensington',\n",
       " 'Hotel_Name_Park Grand London Lancaster Gate',\n",
       " 'Hotel_Name_Park Grand Paddington Court',\n",
       " 'Hotel_Name_Park International Hotel',\n",
       " 'Hotel_Name_Park Lane Mews Hotel',\n",
       " 'Hotel_Name_Park Plaza County Hall London',\n",
       " 'Hotel_Name_Park Plaza London Park Royal',\n",
       " 'Hotel_Name_Park Plaza London Riverbank',\n",
       " 'Hotel_Name_Park Plaza London Waterloo',\n",
       " 'Hotel_Name_Park Plaza Sherlock Holmes London',\n",
       " 'Hotel_Name_Park Plaza Victoria London',\n",
       " 'Hotel_Name_Park Plaza Westminster Bridge London',\n",
       " 'Hotel_Name_Pestana Chelsea Bridge Hotel Spa',\n",
       " 'Hotel_Name_Portobello House',\n",
       " 'Hotel_Name_Pullman London St Pancras',\n",
       " 'Hotel_Name_Radisson Blu Edwardian Berkshire',\n",
       " 'Hotel_Name_Radisson Blu Edwardian Bloomsbury Street',\n",
       " 'Hotel_Name_Radisson Blu Edwardian Grafton',\n",
       " 'Hotel_Name_Radisson Blu Edwardian Hampshire',\n",
       " 'Hotel_Name_Radisson Blu Edwardian Kenilworth',\n",
       " 'Hotel_Name_Radisson Blu Edwardian Mercer Street',\n",
       " 'Hotel_Name_Radisson Blu Edwardian New Providence Wharf',\n",
       " 'Hotel_Name_Radisson Blu Edwardian Sussex',\n",
       " 'Hotel_Name_Radisson Blu Edwardian Vanderbilt',\n",
       " 'Hotel_Name_Radisson Blu Portman Hotel London',\n",
       " 'Hotel_Name_Rafayel Hotel Spa',\n",
       " 'Hotel_Name_Rathbone',\n",
       " 'Hotel_Name_Rocco Forte Brown s Hotel',\n",
       " 'Hotel_Name_Rosewood London',\n",
       " 'Hotel_Name_Royal Garden Hotel',\n",
       " 'Hotel_Name_Rubens At The Palace',\n",
       " 'Hotel_Name_Rydges Kensington Hotel',\n",
       " 'Hotel_Name_Saint Georges Hotel',\n",
       " 'Hotel_Name_San Domenico House',\n",
       " 'Hotel_Name_Sanderson A Morgans Hotel',\n",
       " 'Hotel_Name_Seraphine Kensington Gardens Hotel',\n",
       " 'Hotel_Name_Shaftesbury Hyde Park International',\n",
       " 'Hotel_Name_Shaftesbury Metropolis London Hyde Park',\n",
       " 'Hotel_Name_Shaftesbury Premier London Paddington',\n",
       " 'Hotel_Name_Shaftesbury Suites London Marble Arch',\n",
       " 'Hotel_Name_Shangri La Hotel at The Shard London',\n",
       " 'Hotel_Name_Shepherd s Bush Boutique Hotel',\n",
       " 'Hotel_Name_Sheraton Grand London Park Lane',\n",
       " 'Hotel_Name_Simply Rooms Suites',\n",
       " 'Hotel_Name_Sloane Square Hotel',\n",
       " 'Hotel_Name_Sofitel London St James',\n",
       " 'Hotel_Name_South Place Hotel',\n",
       " 'Hotel_Name_St Ermin s Hotel Autograph Collection',\n",
       " 'Hotel_Name_St George Hotel',\n",
       " 'Hotel_Name_St George s Hotel Wembley',\n",
       " 'Hotel_Name_St James Court A Taj Hotel London',\n",
       " 'Hotel_Name_St James Hotel Club Mayfair',\n",
       " 'Hotel_Name_St Martins Lane A Morgans Original',\n",
       " 'Hotel_Name_St Pancras Renaissance Hotel London',\n",
       " 'Hotel_Name_St Paul s Hotel',\n",
       " 'Hotel_Name_Staunton Hotel B B',\n",
       " 'Hotel_Name_Staybridge Suites London Stratford',\n",
       " 'Hotel_Name_Staybridge Suites London Vauxhall',\n",
       " 'Hotel_Name_Strand Palace Hotel',\n",
       " 'Hotel_Name_Sydney House Chelsea',\n",
       " 'Hotel_Name_Taj 51 Buckingham Gate Suites and Residences',\n",
       " 'Hotel_Name_Ten Manchester Street Hotel',\n",
       " 'Hotel_Name_The Abbey Court Notting Hill',\n",
       " 'Hotel_Name_The Academy',\n",
       " 'Hotel_Name_The Ampersand Hotel',\n",
       " 'Hotel_Name_The Arch London',\n",
       " 'Hotel_Name_The Athenaeum',\n",
       " 'Hotel_Name_The Bailey s Hotel London',\n",
       " 'Hotel_Name_The Beaufort',\n",
       " 'Hotel_Name_The Beaumont Hotel',\n",
       " 'Hotel_Name_The Belgrave Hotel',\n",
       " 'Hotel_Name_The Bloomsbury Hotel',\n",
       " 'Hotel_Name_The Bryson Hotel',\n",
       " 'Hotel_Name_The Capital',\n",
       " 'Hotel_Name_The Cavendish London',\n",
       " 'Hotel_Name_The Chamberlain',\n",
       " 'Hotel_Name_The Chelsea Harbour Hotel',\n",
       " 'Hotel_Name_The Chesterfield Mayfair',\n",
       " 'Hotel_Name_The Cleveland',\n",
       " 'Hotel_Name_The Colonnade',\n",
       " 'Hotel_Name_The Connaught',\n",
       " 'Hotel_Name_The Cranley Hotel',\n",
       " 'Hotel_Name_The Cumberland A Guoman Hotel',\n",
       " 'Hotel_Name_The Curtain',\n",
       " 'Hotel_Name_The Dorchester Dorchester Collection',\n",
       " 'Hotel_Name_The Drayton Court Hotel',\n",
       " 'Hotel_Name_The Exhibitionist Hotel',\n",
       " 'Hotel_Name_The Gore Hotel Starhotels Collezione',\n",
       " 'Hotel_Name_The Goring',\n",
       " 'Hotel_Name_The Grand at Trafalgar Square',\n",
       " 'Hotel_Name_The Grosvenor',\n",
       " 'Hotel_Name_The Hari London',\n",
       " 'Hotel_Name_The Henrietta Hotel',\n",
       " 'Hotel_Name_The Hoxton Holborn',\n",
       " 'Hotel_Name_The Hoxton Shoreditch',\n",
       " 'Hotel_Name_The Justin James Hotel',\n",
       " 'Hotel_Name_The Kensington Hotel',\n",
       " 'Hotel_Name_The Kings Head Hotel',\n",
       " 'Hotel_Name_The LaLit London',\n",
       " 'Hotel_Name_The Lanesborough',\n",
       " 'Hotel_Name_The Langham London',\n",
       " 'Hotel_Name_The Laslett',\n",
       " 'Hotel_Name_The Leonard Hotel',\n",
       " 'Hotel_Name_The Levin Hotel',\n",
       " 'Hotel_Name_The Lodge Hotel Putney',\n",
       " 'Hotel_Name_The London EDITION',\n",
       " 'Hotel_Name_The Mandeville Hotel',\n",
       " 'Hotel_Name_The Marble Arch London',\n",
       " 'Hotel_Name_The Marylebone Hotel',\n",
       " 'Hotel_Name_The May Fair Hotel',\n",
       " 'Hotel_Name_The Montague On The Gardens',\n",
       " 'Hotel_Name_The Montcalm At Brewery London City',\n",
       " 'Hotel_Name_The Montcalm Marble Arch',\n",
       " 'Hotel_Name_The Nadler Kensington',\n",
       " 'Hotel_Name_The Nadler Soho',\n",
       " 'Hotel_Name_The Nadler Victoria',\n",
       " 'Hotel_Name_The Ned',\n",
       " 'Hotel_Name_The Park City Grand Plaza Kensington Hotel',\n",
       " 'Hotel_Name_The Park Grand London Paddington',\n",
       " 'Hotel_Name_The Park Tower Knightsbridge a Luxury Collection Hotel',\n",
       " 'Hotel_Name_The Pelham Starhotels Collezione',\n",
       " 'Hotel_Name_The Piccadilly London West End',\n",
       " 'Hotel_Name_The Pillar Hotel',\n",
       " 'Hotel_Name_The Portobello Hotel',\n",
       " 'Hotel_Name_The Premier Notting Hill',\n",
       " 'Hotel_Name_The Principal London',\n",
       " 'Hotel_Name_The Queens Gate Hotel',\n",
       " 'Hotel_Name_The RE London Shoreditch',\n",
       " 'Hotel_Name_The Rembrandt',\n",
       " 'Hotel_Name_The Ritz London',\n",
       " 'Hotel_Name_The Rockwell',\n",
       " 'Hotel_Name_The Rookery',\n",
       " 'Hotel_Name_The Royal Horseguards',\n",
       " 'Hotel_Name_The Royal Park Hotel',\n",
       " 'Hotel_Name_The Savoy',\n",
       " 'Hotel_Name_The Soho Hotel',\n",
       " 'Hotel_Name_The Stafford London',\n",
       " 'Hotel_Name_The Sumner Hotel',\n",
       " 'Hotel_Name_The Tophams Hotel',\n",
       " 'Hotel_Name_The Tower A Guoman Hotel',\n",
       " 'Hotel_Name_The Trafalgar Hilton',\n",
       " 'Hotel_Name_The Victoria',\n",
       " 'Hotel_Name_The Waldorf Hilton',\n",
       " 'Hotel_Name_The Wellesley Knightsbridge a Luxury Collection Hotel London',\n",
       " 'Hotel_Name_The Westbourne Hyde Park',\n",
       " 'Hotel_Name_The Westbridge Hotel',\n",
       " 'Hotel_Name_The Westbury A Luxury Collection Hotel Mayfair London',\n",
       " 'Hotel_Name_The Whitechapel',\n",
       " 'Hotel_Name_The Zetter Hotel',\n",
       " 'Hotel_Name_The Zetter Townhouse Clerkenwell',\n",
       " 'Hotel_Name_The Zetter Townhouse Marylebone',\n",
       " 'Hotel_Name_TheWesley',\n",
       " 'Hotel_Name_Thistle Euston',\n",
       " 'Hotel_Name_Thistle Holborn The Kingsley',\n",
       " 'Hotel_Name_Thistle Hyde Park',\n",
       " 'Hotel_Name_Thistle Kensington Gardens',\n",
       " 'Hotel_Name_Thistle Trafalgar Square The Royal Trafalgar',\n",
       " 'Hotel_Name_Threadneedles Autograph Collection',\n",
       " 'Hotel_Name_Twenty Nevern Square Hotel',\n",
       " 'Hotel_Name_United Lodge Hotel and Apartments',\n",
       " 'Hotel_Name_W London Leicester Square',\n",
       " 'Hotel_Name_W12 Rooms',\n",
       " 'Hotel_Name_Washington Mayfair Hotel',\n",
       " 'Hotel_Name_Windermere Hotel',\n",
       " 'Hotel_Name_citizenM London Bankside',\n",
       " 'Hotel_Name_citizenM London Shoreditch',\n",
       " 'Hotel_Name_citizenM Tower of London',\n",
       " 'Hotel_Name_every hotel Piccadilly',\n",
       " 'rating']"
      ]
     },
     "execution_count": 1113,
     "metadata": {},
     "output_type": "execute_result"
    }
   ],
   "source": [
    "# list of remaining columns\n",
    "list(not_n_p.columns)"
   ]
  },
  {
   "cell_type": "markdown",
   "id": "4bbf0ad3",
   "metadata": {},
   "source": [
    "Looks like we have one more multiple kinda columns which is Hote_Name_"
   ]
  },
  {
   "cell_type": "code",
   "execution_count": 1114,
   "id": "ecb6aeb6",
   "metadata": {},
   "outputs": [
    {
     "data": {
      "text/plain": [
       "418"
      ]
     },
     "execution_count": 1114,
     "metadata": {},
     "output_type": "execute_result"
    }
   ],
   "source": [
    "# sanity check for the required shape at the end\n",
    "hotel_df.shape[1] - (n_df.shape[1] + p_df.shape[1])"
   ]
  },
  {
   "cell_type": "code",
   "execution_count": 1115,
   "id": "9eada4ca",
   "metadata": {},
   "outputs": [
    {
     "data": {
      "text/plain": [
       "(12798, 418)"
      ]
     },
     "execution_count": 1115,
     "metadata": {},
     "output_type": "execute_result"
    }
   ],
   "source": [
    "not_n_p.shape"
   ]
  },
  {
   "cell_type": "markdown",
   "id": "e5738e5e",
   "metadata": {},
   "source": [
    "In the above list of columns, there are lot of columns which start with `Hotel_Name_`, basically names of different hotels. So finally let's take these also out and see the remaining columns in the list."
   ]
  },
  {
   "cell_type": "code",
   "execution_count": 1116,
   "id": "c29f6297",
   "metadata": {},
   "outputs": [],
   "source": [
    "# assigning a name for the list of columns\n",
    "filter_col3 = [col for col in hotel_df if col.startswith('Hotel_Name_')]"
   ]
  },
  {
   "cell_type": "code",
   "execution_count": 1117,
   "id": "832c6fd0",
   "metadata": {},
   "outputs": [],
   "source": [
    "# making a new dataframe with no postive words, no negative words and no hotel names\n",
    "not_new = not_n_p.loc[:, ~not_n_p.columns.isin(filter_col3)]"
   ]
  },
  {
   "cell_type": "code",
   "execution_count": 1118,
   "id": "84d8dc50",
   "metadata": {},
   "outputs": [
    {
     "data": {
      "text/plain": [
       "(12798, 22)"
      ]
     },
     "execution_count": 1118,
     "metadata": {},
     "output_type": "execute_result"
    }
   ],
   "source": [
    "# checking shape\n",
    "not_new.shape"
   ]
  },
  {
   "cell_type": "markdown",
   "id": "183fd7e3",
   "metadata": {},
   "source": [
    "Finally there are only 22 columns left. Let's have a look at them."
   ]
  },
  {
   "cell_type": "code",
   "execution_count": 1119,
   "id": "d981d7fd",
   "metadata": {},
   "outputs": [
    {
     "data": {
      "text/plain": [
       "['Additional_Number_of_Scoring',\n",
       " 'Average_Score',\n",
       " 'Review_Total_Negative_Word_Counts',\n",
       " 'Total_Number_of_Reviews',\n",
       " 'Review_Total_Positive_Word_Counts',\n",
       " 'Total_Number_of_Reviews_Reviewer_Has_Given',\n",
       " 'days_since_review',\n",
       " 'lat',\n",
       " 'lng',\n",
       " 'weekday_of_review',\n",
       " 'month_of_review',\n",
       " 'year_of_review',\n",
       " 'bed_single',\n",
       " 'bed_double',\n",
       " 'bed_queen',\n",
       " 'bed_king',\n",
       " 'trip_leisure',\n",
       " 'trip_biz',\n",
       " 'group_solo',\n",
       " 'group_couple',\n",
       " 'group_family',\n",
       " 'rating']"
      ]
     },
     "execution_count": 1119,
     "metadata": {},
     "output_type": "execute_result"
    }
   ],
   "source": [
    "# final list\n",
    "list(not_new.columns)"
   ]
  },
  {
   "cell_type": "code",
   "execution_count": 1120,
   "id": "4ab049bb",
   "metadata": {},
   "outputs": [
    {
     "data": {
      "text/html": [
       "<div>\n",
       "<style scoped>\n",
       "    .dataframe tbody tr th:only-of-type {\n",
       "        vertical-align: middle;\n",
       "    }\n",
       "\n",
       "    .dataframe tbody tr th {\n",
       "        vertical-align: top;\n",
       "    }\n",
       "\n",
       "    .dataframe thead th {\n",
       "        text-align: right;\n",
       "    }\n",
       "</style>\n",
       "<table border=\"1\" class=\"dataframe\">\n",
       "  <thead>\n",
       "    <tr style=\"text-align: right;\">\n",
       "      <th></th>\n",
       "      <th>Additional_Number_of_Scoring</th>\n",
       "      <th>Average_Score</th>\n",
       "      <th>Review_Total_Negative_Word_Counts</th>\n",
       "      <th>Total_Number_of_Reviews</th>\n",
       "      <th>Review_Total_Positive_Word_Counts</th>\n",
       "      <th>Total_Number_of_Reviews_Reviewer_Has_Given</th>\n",
       "      <th>days_since_review</th>\n",
       "      <th>lat</th>\n",
       "      <th>lng</th>\n",
       "      <th>weekday_of_review</th>\n",
       "      <th>...</th>\n",
       "      <th>bed_single</th>\n",
       "      <th>bed_double</th>\n",
       "      <th>bed_queen</th>\n",
       "      <th>bed_king</th>\n",
       "      <th>trip_leisure</th>\n",
       "      <th>trip_biz</th>\n",
       "      <th>group_solo</th>\n",
       "      <th>group_couple</th>\n",
       "      <th>group_family</th>\n",
       "      <th>rating</th>\n",
       "    </tr>\n",
       "  </thead>\n",
       "  <tbody>\n",
       "    <tr>\n",
       "      <th>0</th>\n",
       "      <td>620</td>\n",
       "      <td>9.0</td>\n",
       "      <td>0</td>\n",
       "      <td>1974</td>\n",
       "      <td>164</td>\n",
       "      <td>1</td>\n",
       "      <td>562</td>\n",
       "      <td>51.506558</td>\n",
       "      <td>-0.004514</td>\n",
       "      <td>1</td>\n",
       "      <td>...</td>\n",
       "      <td>0</td>\n",
       "      <td>0</td>\n",
       "      <td>0</td>\n",
       "      <td>0</td>\n",
       "      <td>1</td>\n",
       "      <td>0</td>\n",
       "      <td>0</td>\n",
       "      <td>1</td>\n",
       "      <td>0</td>\n",
       "      <td>1</td>\n",
       "    </tr>\n",
       "    <tr>\n",
       "      <th>1</th>\n",
       "      <td>1258</td>\n",
       "      <td>9.4</td>\n",
       "      <td>6</td>\n",
       "      <td>4204</td>\n",
       "      <td>4</td>\n",
       "      <td>5</td>\n",
       "      <td>276</td>\n",
       "      <td>51.502435</td>\n",
       "      <td>-0.000250</td>\n",
       "      <td>0</td>\n",
       "      <td>...</td>\n",
       "      <td>0</td>\n",
       "      <td>0</td>\n",
       "      <td>0</td>\n",
       "      <td>0</td>\n",
       "      <td>1</td>\n",
       "      <td>0</td>\n",
       "      <td>0</td>\n",
       "      <td>0</td>\n",
       "      <td>0</td>\n",
       "      <td>1</td>\n",
       "    </tr>\n",
       "    <tr>\n",
       "      <th>2</th>\n",
       "      <td>995</td>\n",
       "      <td>8.1</td>\n",
       "      <td>2</td>\n",
       "      <td>3826</td>\n",
       "      <td>38</td>\n",
       "      <td>1</td>\n",
       "      <td>129</td>\n",
       "      <td>51.504348</td>\n",
       "      <td>-0.033444</td>\n",
       "      <td>0</td>\n",
       "      <td>...</td>\n",
       "      <td>0</td>\n",
       "      <td>0</td>\n",
       "      <td>0</td>\n",
       "      <td>0</td>\n",
       "      <td>1</td>\n",
       "      <td>0</td>\n",
       "      <td>0</td>\n",
       "      <td>1</td>\n",
       "      <td>0</td>\n",
       "      <td>1</td>\n",
       "    </tr>\n",
       "    <tr>\n",
       "      <th>3</th>\n",
       "      <td>853</td>\n",
       "      <td>8.4</td>\n",
       "      <td>7</td>\n",
       "      <td>2726</td>\n",
       "      <td>10</td>\n",
       "      <td>10</td>\n",
       "      <td>164</td>\n",
       "      <td>51.507377</td>\n",
       "      <td>0.038657</td>\n",
       "      <td>0</td>\n",
       "      <td>...</td>\n",
       "      <td>0</td>\n",
       "      <td>0</td>\n",
       "      <td>0</td>\n",
       "      <td>0</td>\n",
       "      <td>1</td>\n",
       "      <td>0</td>\n",
       "      <td>0</td>\n",
       "      <td>1</td>\n",
       "      <td>0</td>\n",
       "      <td>0</td>\n",
       "    </tr>\n",
       "    <tr>\n",
       "      <th>4</th>\n",
       "      <td>1243</td>\n",
       "      <td>8.1</td>\n",
       "      <td>11</td>\n",
       "      <td>6608</td>\n",
       "      <td>8</td>\n",
       "      <td>69</td>\n",
       "      <td>639</td>\n",
       "      <td>51.513556</td>\n",
       "      <td>-0.180002</td>\n",
       "      <td>1</td>\n",
       "      <td>...</td>\n",
       "      <td>0</td>\n",
       "      <td>0</td>\n",
       "      <td>0</td>\n",
       "      <td>0</td>\n",
       "      <td>0</td>\n",
       "      <td>1</td>\n",
       "      <td>0</td>\n",
       "      <td>0</td>\n",
       "      <td>0</td>\n",
       "      <td>0</td>\n",
       "    </tr>\n",
       "  </tbody>\n",
       "</table>\n",
       "<p>5 rows × 22 columns</p>\n",
       "</div>"
      ],
      "text/plain": [
       "   Additional_Number_of_Scoring  Average_Score  \\\n",
       "0                           620            9.0   \n",
       "1                          1258            9.4   \n",
       "2                           995            8.1   \n",
       "3                           853            8.4   \n",
       "4                          1243            8.1   \n",
       "\n",
       "   Review_Total_Negative_Word_Counts  Total_Number_of_Reviews  \\\n",
       "0                                  0                     1974   \n",
       "1                                  6                     4204   \n",
       "2                                  2                     3826   \n",
       "3                                  7                     2726   \n",
       "4                                 11                     6608   \n",
       "\n",
       "   Review_Total_Positive_Word_Counts  \\\n",
       "0                                164   \n",
       "1                                  4   \n",
       "2                                 38   \n",
       "3                                 10   \n",
       "4                                  8   \n",
       "\n",
       "   Total_Number_of_Reviews_Reviewer_Has_Given  days_since_review        lat  \\\n",
       "0                                           1                562  51.506558   \n",
       "1                                           5                276  51.502435   \n",
       "2                                           1                129  51.504348   \n",
       "3                                          10                164  51.507377   \n",
       "4                                          69                639  51.513556   \n",
       "\n",
       "        lng  weekday_of_review  ...  bed_single  bed_double  bed_queen  \\\n",
       "0 -0.004514                  1  ...           0           0          0   \n",
       "1 -0.000250                  0  ...           0           0          0   \n",
       "2 -0.033444                  0  ...           0           0          0   \n",
       "3  0.038657                  0  ...           0           0          0   \n",
       "4 -0.180002                  1  ...           0           0          0   \n",
       "\n",
       "   bed_king  trip_leisure  trip_biz  group_solo  group_couple  group_family  \\\n",
       "0         0             1         0           0             1             0   \n",
       "1         0             1         0           0             0             0   \n",
       "2         0             1         0           0             1             0   \n",
       "3         0             1         0           0             1             0   \n",
       "4         0             0         1           0             0             0   \n",
       "\n",
       "   rating  \n",
       "0       1  \n",
       "1       1  \n",
       "2       1  \n",
       "3       0  \n",
       "4       0  \n",
       "\n",
       "[5 rows x 22 columns]"
      ]
     },
     "execution_count": 1120,
     "metadata": {},
     "output_type": "execute_result"
    }
   ],
   "source": [
    "# peeking into the dataframe\n",
    "not_new.head()"
   ]
  },
  {
   "cell_type": "markdown",
   "id": "61552367",
   "metadata": {},
   "source": [
    "Now we know what columns do we have in the dataset, and it makes much more sense now."
   ]
  },
  {
   "cell_type": "markdown",
   "id": "8d124884",
   "metadata": {},
   "source": [
    "__Let's make a dataset excluding target varibale and one with it.__"
   ]
  },
  {
   "cell_type": "code",
   "execution_count": 1121,
   "id": "2335acef",
   "metadata": {},
   "outputs": [],
   "source": [
    "# instantiating our independent and dependent variables \n",
    "X_train = hotel_df.drop(columns=\"rating\")\n",
    "y_train = hotel_df[\"rating\"]"
   ]
  },
  {
   "cell_type": "code",
   "execution_count": 1122,
   "id": "f9f0e0e4",
   "metadata": {},
   "outputs": [
    {
     "data": {
      "text/plain": [
       "(12798, 2743)"
      ]
     },
     "execution_count": 1122,
     "metadata": {},
     "output_type": "execute_result"
    }
   ],
   "source": [
    "X_train.shape"
   ]
  },
  {
   "cell_type": "code",
   "execution_count": 1123,
   "id": "76c0b7d2",
   "metadata": {},
   "outputs": [],
   "source": [
    "# instantiating our independent and dependent variables \n",
    "X_test = test_df.drop(columns=\"rating\")\n",
    "y_test = test_df[\"rating\"]"
   ]
  },
  {
   "cell_type": "markdown",
   "id": "8afa369b",
   "metadata": {},
   "source": [
    "Let' see what is the target variable present in the dataset."
   ]
  },
  {
   "cell_type": "code",
   "execution_count": 1124,
   "id": "30f65718",
   "metadata": {},
   "outputs": [
    {
     "data": {
      "text/html": [
       "<div>\n",
       "<style scoped>\n",
       "    .dataframe tbody tr th:only-of-type {\n",
       "        vertical-align: middle;\n",
       "    }\n",
       "\n",
       "    .dataframe tbody tr th {\n",
       "        vertical-align: top;\n",
       "    }\n",
       "\n",
       "    .dataframe thead th {\n",
       "        text-align: right;\n",
       "    }\n",
       "</style>\n",
       "<table border=\"1\" class=\"dataframe\">\n",
       "  <thead>\n",
       "    <tr style=\"text-align: right;\">\n",
       "      <th></th>\n",
       "      <th>rating</th>\n",
       "    </tr>\n",
       "  </thead>\n",
       "  <tbody>\n",
       "    <tr>\n",
       "      <th>0</th>\n",
       "      <td>1</td>\n",
       "    </tr>\n",
       "    <tr>\n",
       "      <th>1</th>\n",
       "      <td>1</td>\n",
       "    </tr>\n",
       "    <tr>\n",
       "      <th>2</th>\n",
       "      <td>1</td>\n",
       "    </tr>\n",
       "    <tr>\n",
       "      <th>3</th>\n",
       "      <td>0</td>\n",
       "    </tr>\n",
       "    <tr>\n",
       "      <th>4</th>\n",
       "      <td>0</td>\n",
       "    </tr>\n",
       "  </tbody>\n",
       "</table>\n",
       "</div>"
      ],
      "text/plain": [
       "   rating\n",
       "0       1\n",
       "1       1\n",
       "2       1\n",
       "3       0\n",
       "4       0"
      ]
     },
     "execution_count": 1124,
     "metadata": {},
     "output_type": "execute_result"
    }
   ],
   "source": [
    "# peeking into the target column\n",
    "hotel_df[['rating']].head()"
   ]
  },
  {
   "cell_type": "markdown",
   "id": "a560a3e2",
   "metadata": {},
   "source": [
    "1 means that we have a good rating, and 0 means we have a bad rating."
   ]
  },
  {
   "cell_type": "markdown",
   "id": "5e5b7129",
   "metadata": {},
   "source": [
    "Let's see the distribution of the target variable."
   ]
  },
  {
   "cell_type": "code",
   "execution_count": 1125,
   "id": "44592f78",
   "metadata": {},
   "outputs": [
    {
     "data": {
      "image/png": "[encoded data removed]",
      "text/plain": [
       "<Figure size 288x288 with 1 Axes>"
      ]
     },
     "metadata": {
      "needs_background": "light"
     },
     "output_type": "display_data"
    }
   ],
   "source": [
    "# plotting distribution\n",
    "plt.figure(figsize=(4,4))\n",
    "plt.bar(hotel_df['rating'].value_counts().index,\n",
    "        hotel_df['rating'].value_counts().values)\n",
    "plt.xlabel('Reviewer_Score')\n",
    "plt.ylabel('frequency')\n",
    "plt.title('Distribution of scores given by reviewers')\n",
    "plt.grid()\n",
    "plt.show()"
   ]
  },
  {
   "cell_type": "markdown",
   "id": "7b733a8a",
   "metadata": {},
   "source": [
    "Not that imbalanced, it's good, no assumptions need to made and no changes are required."
   ]
  },
  {
   "cell_type": "markdown",
   "id": "63f953db",
   "metadata": {},
   "source": [
    "There is procedure that needs to be followed before we start modelling. Like there needs to be scaling of the data and performing the test-train split. And most importantly, this has to be in order."
   ]
  },
  {
   "cell_type": "markdown",
   "id": "59b83f1c",
   "metadata": {},
   "source": [
    "We already have test and train set given differently, so let's scale it now."
   ]
  },
  {
   "cell_type": "markdown",
   "id": "1a84f1ec",
   "metadata": {},
   "source": [
    "#### Scale the data"
   ]
  },
  {
   "cell_type": "markdown",
   "id": "6023211e",
   "metadata": {},
   "source": [
    "Let's scale according to the standard scaler."
   ]
  },
  {
   "cell_type": "markdown",
   "id": "1db000c2",
   "metadata": {},
   "source": [
    "#### Standard Scaler"
   ]
  },
  {
   "cell_type": "code",
   "execution_count": 1126,
   "id": "a9f1c06c",
   "metadata": {},
   "outputs": [],
   "source": [
    "# Instantiate the scaler\n",
    "SS = StandardScaler()\n",
    "\n",
    "# Fit the scaler and transform both data subsets\n",
    "X_train_ss = SS.fit_transform(X_train)\n",
    "X_test_ss = SS.transform(X_test)"
   ]
  },
  {
   "cell_type": "markdown",
   "id": "a3c44409",
   "metadata": {},
   "source": [
    "All set let's start modeeling."
   ]
  },
  {
   "cell_type": "markdown",
   "id": "102be81a",
   "metadata": {},
   "source": [
    "### Modeling\n",
    "<a class ='anchor' id = 'part1' ></a>"
   ]
  },
  {
   "cell_type": "code",
   "execution_count": 1127,
   "id": "cb2ba9a8",
   "metadata": {},
   "outputs": [],
   "source": [
    "def PlotBoundaries(model, X, Y) :\n",
    "    '''\n",
    "    Helper function that plots the decision boundaries of a model and data (X,Y)\n",
    "    code modified from: https://scikit-learn.org/stable/auto_examples/neighbors/plot_classification.html\n",
    "    '''\n",
    "    \n",
    "    x_min, x_max = X[:, 0].min() - 1, X[:, 0].max() + 1\n",
    "    y_min, y_max = X[:, 1].min() - 1,X[:, 1].max() + 1\n",
    "    xx, yy = np.meshgrid(np.arange(x_min, x_max, 0.01), np.arange(y_min, y_max, 0.01))\n",
    "\n",
    "    Z = model.predict(np.c_[xx.ravel(), yy.ravel()])\n",
    "    Z = Z.reshape(xx.shape)\n",
    "\n",
    "    plt.contourf(xx, yy, Z, alpha=0.4)\n",
    "\n",
    "    # Plot\n",
    "    plt.scatter(X[:, 0], X[:, 1], c=Y,s=20, edgecolor='k')\n",
    "    plt.show()"
   ]
  },
  {
   "cell_type": "markdown",
   "id": "6dd6f13f",
   "metadata": {},
   "source": [
    "----"
   ]
  },
  {
   "cell_type": "markdown",
   "id": "cc8083e4",
   "metadata": {},
   "source": [
    "### Question1: Employ a linear classifier on this dataset:\n",
    "<a class ='anchor' id = 'Que1' ></a>"
   ]
  },
  {
   "cell_type": "markdown",
   "id": "54ad180a",
   "metadata": {},
   "source": [
    "#### Que1.a Fit a logisitic regression model to this data with the solver set to `lbfgs`. What is the accuracy score on the test set?\n",
    "<a class ='anchor' id = 'Que1.a' ></a>"
   ]
  },
  {
   "cell_type": "markdown",
   "id": "679d7f9e",
   "metadata": {},
   "source": [
    "Solver equal to `lbfgs` is by default in logistic regression model. `lbfgs` handles any loss of information of all the independent variables while making the model."
   ]
  },
  {
   "cell_type": "code",
   "execution_count": 1128,
   "id": "817678c5",
   "metadata": {},
   "outputs": [
    {
     "name": "stdout",
     "output_type": "stream",
     "text": [
      "Accuracy score of the TRAIN set: 0.885841537740272\n",
      "Accuracy score of the TEST set: 0.7328333723927818\n"
     ]
    }
   ],
   "source": [
    "# Fitting a model\n",
    "logreg = LogisticRegression(solver='lbfgs', max_iter=1000)\n",
    "logreg.fit(X_train_ss, y_train)\n",
    "\n",
    "# Training and test score\n",
    "print(f\"Accuracy score of the TRAIN set: {logreg.score(X_train_ss, y_train)}\")\n",
    "print(f\"Accuracy score of the TEST set: {logreg.score(X_test_ss, y_test)}\")"
   ]
  },
  {
   "cell_type": "markdown",
   "id": "0352ace3",
   "metadata": {},
   "source": [
    "The test score is very low relative to the train score. This is case when there is __overfitting.__"
   ]
  },
  {
   "cell_type": "markdown",
   "id": "a63fb65d",
   "metadata": {},
   "source": [
    "There can be many reasons why the model is overfiiting. First of all we did not check any of the assumptions before running the regression model, like checking if there is no multi-collinearity among the features present in the training set. \n",
    "\n",
    "\n",
    "So basically, these numbers are going to change when features are removed which have high multicollinearity or high variance towards the predicted results. "
   ]
  },
  {
   "cell_type": "markdown",
   "id": "4e1b092f",
   "metadata": {},
   "source": [
    "---"
   ]
  },
  {
   "cell_type": "markdown",
   "id": "03e6e491",
   "metadata": {},
   "source": [
    "#### Que1.b What are the 20 words most predictive of a good review (from the positive review column)? What are the 20 words most predictive with a bad review (from the negative review column)? Use the regression coefficients to answer this question\n",
    "<a class ='anchor' id = 'Que1.b' ></a>"
   ]
  },
  {
   "cell_type": "markdown",
   "id": "952a8e48",
   "metadata": {},
   "source": [
    "Let's first calculate the coefficients of all the `positive_review` columns and `negative_columns` to see their respectives influences in determining the target variable, i.e., `rating`.\n",
    "\n",
    "\n",
    "Also, as there are more columns which excluding the positive and the negative ones, so it's obvious that the sum of coeeficients would not be 1."
   ]
  },
  {
   "cell_type": "code",
   "execution_count": 1129,
   "id": "1a94ee62",
   "metadata": {},
   "outputs": [
    {
     "data": {
      "text/plain": [
       "array([[-0.02277657,  0.47911974,  0.29770842, ...,  0.1274375 ,\n",
       "        -0.02013651,  0.01217388]])"
      ]
     },
     "execution_count": 1129,
     "metadata": {},
     "output_type": "execute_result"
    }
   ],
   "source": [
    "# coefficients of all the dataset\n",
    "logreg.coef_"
   ]
  },
  {
   "cell_type": "markdown",
   "id": "5eaa7f8d",
   "metadata": {},
   "source": [
    "Let's first filter out the solumns which start from p_, which means that extract all the columns which were made during countvectorizing of the `Positive_Review` column."
   ]
  },
  {
   "cell_type": "code",
   "execution_count": 1130,
   "id": "a679315e",
   "metadata": {},
   "outputs": [],
   "source": [
    "# making coef dataframe\n",
    "coef_df = pd.DataFrame({'category':X_train.columns, 'coef':logreg.coef_[0]}).sort_values(by = 'coef', ascending = False).set_index('category')"
   ]
  },
  {
   "cell_type": "code",
   "execution_count": 1131,
   "id": "9a4198ae",
   "metadata": {},
   "outputs": [],
   "source": [
    "# taking transpose\n",
    "coef2_df = coef_df.T"
   ]
  },
  {
   "cell_type": "markdown",
   "id": "0e26fc0c",
   "metadata": {},
   "source": [
    "Now, we have take out the only columns which start with p_ and n_ antake the highest 20 coefficients for both of them."
   ]
  },
  {
   "cell_type": "code",
   "execution_count": 1132,
   "id": "3f99ebb5",
   "metadata": {},
   "outputs": [],
   "source": [
    "# assigning a name for the list of columns\n",
    "filter_col = [col for col in coef2_df if col.startswith('p_')]"
   ]
  },
  {
   "cell_type": "code",
   "execution_count": 1133,
   "id": "b80d3469",
   "metadata": {},
   "outputs": [],
   "source": [
    "# making positive words dataset against coeffiecients\n",
    "positive_df = coef2_df[filter_col].T"
   ]
  },
  {
   "cell_type": "code",
   "execution_count": 1134,
   "id": "f5fafd5b",
   "metadata": {},
   "outputs": [
    {
     "data": {
      "text/html": [
       "<div>\n",
       "<style scoped>\n",
       "    .dataframe tbody tr th:only-of-type {\n",
       "        vertical-align: middle;\n",
       "    }\n",
       "\n",
       "    .dataframe tbody tr th {\n",
       "        vertical-align: top;\n",
       "    }\n",
       "\n",
       "    .dataframe thead th {\n",
       "        text-align: right;\n",
       "    }\n",
       "</style>\n",
       "<table border=\"1\" class=\"dataframe\">\n",
       "  <thead>\n",
       "    <tr style=\"text-align: right;\">\n",
       "      <th></th>\n",
       "      <th>coef</th>\n",
       "    </tr>\n",
       "    <tr>\n",
       "      <th>category</th>\n",
       "      <th></th>\n",
       "    </tr>\n",
       "  </thead>\n",
       "  <tbody>\n",
       "    <tr>\n",
       "      <th>p_gift</th>\n",
       "      <td>0.544396</td>\n",
       "    </tr>\n",
       "    <tr>\n",
       "      <th>p_excellent</th>\n",
       "      <td>0.517329</td>\n",
       "    </tr>\n",
       "    <tr>\n",
       "      <th>p_incredible</th>\n",
       "      <td>0.450510</td>\n",
       "    </tr>\n",
       "    <tr>\n",
       "      <th>p_exceed</th>\n",
       "      <td>0.401123</td>\n",
       "    </tr>\n",
       "    <tr>\n",
       "      <th>p_impeccable</th>\n",
       "      <td>0.398893</td>\n",
       "    </tr>\n",
       "    <tr>\n",
       "      <th>p_everything</th>\n",
       "      <td>0.374332</td>\n",
       "    </tr>\n",
       "    <tr>\n",
       "      <th>p_hair</th>\n",
       "      <td>0.350055</td>\n",
       "    </tr>\n",
       "    <tr>\n",
       "      <th>p_great</th>\n",
       "      <td>0.348852</td>\n",
       "    </tr>\n",
       "    <tr>\n",
       "      <th>p_staff</th>\n",
       "      <td>0.348552</td>\n",
       "    </tr>\n",
       "    <tr>\n",
       "      <th>p_deluxe</th>\n",
       "      <td>0.337590</td>\n",
       "    </tr>\n",
       "    <tr>\n",
       "      <th>p_arrange</th>\n",
       "      <td>0.330844</td>\n",
       "    </tr>\n",
       "    <tr>\n",
       "      <th>p_special</th>\n",
       "      <td>0.328153</td>\n",
       "    </tr>\n",
       "    <tr>\n",
       "      <th>p_could</th>\n",
       "      <td>0.323876</td>\n",
       "    </tr>\n",
       "    <tr>\n",
       "      <th>p_exceptional</th>\n",
       "      <td>0.319147</td>\n",
       "    </tr>\n",
       "    <tr>\n",
       "      <th>p_amazingly</th>\n",
       "      <td>0.316178</td>\n",
       "    </tr>\n",
       "    <tr>\n",
       "      <th>p_already</th>\n",
       "      <td>0.307073</td>\n",
       "    </tr>\n",
       "    <tr>\n",
       "      <th>p_fantastic</th>\n",
       "      <td>0.303755</td>\n",
       "    </tr>\n",
       "    <tr>\n",
       "      <th>p_perfect</th>\n",
       "      <td>0.299886</td>\n",
       "    </tr>\n",
       "    <tr>\n",
       "      <th>p_amaze</th>\n",
       "      <td>0.296354</td>\n",
       "    </tr>\n",
       "    <tr>\n",
       "      <th>p_bridge</th>\n",
       "      <td>0.291958</td>\n",
       "    </tr>\n",
       "  </tbody>\n",
       "</table>\n",
       "</div>"
      ],
      "text/plain": [
       "                   coef\n",
       "category               \n",
       "p_gift         0.544396\n",
       "p_excellent    0.517329\n",
       "p_incredible   0.450510\n",
       "p_exceed       0.401123\n",
       "p_impeccable   0.398893\n",
       "p_everything   0.374332\n",
       "p_hair         0.350055\n",
       "p_great        0.348852\n",
       "p_staff        0.348552\n",
       "p_deluxe       0.337590\n",
       "p_arrange      0.330844\n",
       "p_special      0.328153\n",
       "p_could        0.323876\n",
       "p_exceptional  0.319147\n",
       "p_amazingly    0.316178\n",
       "p_already      0.307073\n",
       "p_fantastic    0.303755\n",
       "p_perfect      0.299886\n",
       "p_amaze        0.296354\n",
       "p_bridge       0.291958"
      ]
     },
     "execution_count": 1134,
     "metadata": {},
     "output_type": "execute_result"
    }
   ],
   "source": [
    "# peeking\n",
    "positive_df.head(20)"
   ]
  },
  {
   "cell_type": "markdown",
   "id": "9f89177a",
   "metadata": {},
   "source": [
    "Now let's make the graph with the highest coefficients."
   ]
  },
  {
   "cell_type": "code",
   "execution_count": 1135,
   "id": "1cbb6b47",
   "metadata": {
    "scrolled": false
   },
   "outputs": [
    {
     "data": {
      "image/png": "[encoded data removed]",
      "text/plain": [
       "<Figure size 1080x360 with 1 Axes>"
      ]
     },
     "metadata": {
      "needs_background": "light"
     },
     "output_type": "display_data"
    }
   ],
   "source": [
    "# bar graph showing top columns with with highest coefficients\n",
    "positive_df.head(20).plot(kind=\"bar\", figsize=(15, 5), legend=False)\n",
    "plt.title(\"The 20 highest model coefficients indicating positive sentiment\")\n",
    "plt.ylabel(\"Coefficients\")\n",
    "plt.xticks(rotation=90)\n",
    "plt.show()"
   ]
  },
  {
   "cell_type": "markdown",
   "id": "e0efaa00",
   "metadata": {},
   "source": [
    "From above it can be interpreted that is there are words like __\"gift\", \"excellent\", \"incredile\"__ and so on in the postive review column then there are more chances the review is GOOD or rating is 1."
   ]
  },
  {
   "cell_type": "markdown",
   "id": "58622a1c",
   "metadata": {},
   "source": [
    "Now let's do the same thing for the __columns of negative words__ "
   ]
  },
  {
   "cell_type": "code",
   "execution_count": 1136,
   "id": "9071d387",
   "metadata": {},
   "outputs": [],
   "source": [
    "# assigning a name for the list of columns\n",
    "filter_col = [col for col in coef2_df if col.startswith('n_')]"
   ]
  },
  {
   "cell_type": "code",
   "execution_count": 1137,
   "id": "2eaf8327",
   "metadata": {},
   "outputs": [],
   "source": [
    "# making a separate dataframe\n",
    "negative_df = coef2_df[filter_col].T"
   ]
  },
  {
   "cell_type": "code",
   "execution_count": 1139,
   "id": "3da4c148",
   "metadata": {},
   "outputs": [
    {
     "data": {
      "text/html": [
       "<div>\n",
       "<style scoped>\n",
       "    .dataframe tbody tr th:only-of-type {\n",
       "        vertical-align: middle;\n",
       "    }\n",
       "\n",
       "    .dataframe tbody tr th {\n",
       "        vertical-align: top;\n",
       "    }\n",
       "\n",
       "    .dataframe thead th {\n",
       "        text-align: right;\n",
       "    }\n",
       "</style>\n",
       "<table border=\"1\" class=\"dataframe\">\n",
       "  <thead>\n",
       "    <tr style=\"text-align: right;\">\n",
       "      <th></th>\n",
       "      <th>coef</th>\n",
       "    </tr>\n",
       "    <tr>\n",
       "      <th>category</th>\n",
       "      <th></th>\n",
       "    </tr>\n",
       "  </thead>\n",
       "  <tbody>\n",
       "    <tr>\n",
       "      <th>n_inn</th>\n",
       "      <td>0.706438</td>\n",
       "    </tr>\n",
       "    <tr>\n",
       "      <th>n_nothing</th>\n",
       "      <td>0.360514</td>\n",
       "    </tr>\n",
       "    <tr>\n",
       "      <th>n_height</th>\n",
       "      <td>0.351939</td>\n",
       "    </tr>\n",
       "    <tr>\n",
       "      <th>n_tricky</th>\n",
       "      <td>0.341887</td>\n",
       "    </tr>\n",
       "    <tr>\n",
       "      <th>n_criticism</th>\n",
       "      <td>0.326099</td>\n",
       "    </tr>\n",
       "    <tr>\n",
       "      <th>n_wonderful</th>\n",
       "      <td>0.315765</td>\n",
       "    </tr>\n",
       "    <tr>\n",
       "      <th>n_assume</th>\n",
       "      <td>0.249266</td>\n",
       "    </tr>\n",
       "    <tr>\n",
       "      <th>n_complain</th>\n",
       "      <td>0.241568</td>\n",
       "    </tr>\n",
       "    <tr>\n",
       "      <th>n_join</th>\n",
       "      <td>0.238275</td>\n",
       "    </tr>\n",
       "    <tr>\n",
       "      <th>n_drawer</th>\n",
       "      <td>0.220756</td>\n",
       "    </tr>\n",
       "    <tr>\n",
       "      <th>n_slight</th>\n",
       "      <td>0.217812</td>\n",
       "    </tr>\n",
       "    <tr>\n",
       "      <th>n_dislike</th>\n",
       "      <td>0.214581</td>\n",
       "    </tr>\n",
       "    <tr>\n",
       "      <th>n_pick</th>\n",
       "      <td>0.214153</td>\n",
       "    </tr>\n",
       "    <tr>\n",
       "      <th>n_half</th>\n",
       "      <td>0.213981</td>\n",
       "    </tr>\n",
       "    <tr>\n",
       "      <th>n_follow</th>\n",
       "      <td>0.210073</td>\n",
       "    </tr>\n",
       "    <tr>\n",
       "      <th>n_negative</th>\n",
       "      <td>0.207230</td>\n",
       "    </tr>\n",
       "    <tr>\n",
       "      <th>n_executive</th>\n",
       "      <td>0.193962</td>\n",
       "    </tr>\n",
       "    <tr>\n",
       "      <th>n_sachet</th>\n",
       "      <td>0.187805</td>\n",
       "    </tr>\n",
       "    <tr>\n",
       "      <th>n_little</th>\n",
       "      <td>0.187549</td>\n",
       "    </tr>\n",
       "    <tr>\n",
       "      <th>n_5th</th>\n",
       "      <td>0.187347</td>\n",
       "    </tr>\n",
       "  </tbody>\n",
       "</table>\n",
       "</div>"
      ],
      "text/plain": [
       "                 coef\n",
       "category             \n",
       "n_inn        0.706438\n",
       "n_nothing    0.360514\n",
       "n_height     0.351939\n",
       "n_tricky     0.341887\n",
       "n_criticism  0.326099\n",
       "n_wonderful  0.315765\n",
       "n_assume     0.249266\n",
       "n_complain   0.241568\n",
       "n_join       0.238275\n",
       "n_drawer     0.220756\n",
       "n_slight     0.217812\n",
       "n_dislike    0.214581\n",
       "n_pick       0.214153\n",
       "n_half       0.213981\n",
       "n_follow     0.210073\n",
       "n_negative   0.207230\n",
       "n_executive  0.193962\n",
       "n_sachet     0.187805\n",
       "n_little     0.187549\n",
       "n_5th        0.187347"
      ]
     },
     "execution_count": 1139,
     "metadata": {},
     "output_type": "execute_result"
    }
   ],
   "source": [
    "# peeking into top 20 rows\n",
    "negative_df.head(20)"
   ]
  },
  {
   "cell_type": "code",
   "execution_count": 1138,
   "id": "e6f7d5dd",
   "metadata": {},
   "outputs": [
    {
     "data": {
      "image/png": "[encoded data removed]",
      "text/plain": [
       "<Figure size 1080x360 with 1 Axes>"
      ]
     },
     "metadata": {
      "needs_background": "light"
     },
     "output_type": "display_data"
    }
   ],
   "source": [
    "# bar graph showing the top highest negative words predicting the review to be negative\n",
    "negative_df.head(20).plot(kind=\"bar\", figsize=(15, 5), legend=False)\n",
    "plt.title(\"The 20 highest model coefficients indicating positive sentiment\")\n",
    "plt.ylabel(\"Coefficients\")\n",
    "plt.xticks(rotation=90)\n",
    "plt.show()"
   ]
  },
  {
   "cell_type": "markdown",
   "id": "91e475e8",
   "metadata": {},
   "source": [
    "From above it can be seen that if the words like __\"inn\", \"nothing\", \"height\"__ and so on are present in the negative review column then there are more chances that the review is BAD or the rating is 0."
   ]
  },
  {
   "cell_type": "markdown",
   "id": "30f9c253",
   "metadata": {},
   "source": [
    "---"
   ]
  },
  {
   "cell_type": "markdown",
   "id": "31cfeca1",
   "metadata": {},
   "source": [
    "#### 1.c Reduce the dimensionality of the dataset using PCA, what is the relationship between the number of dimensions and run-time for a logistic regression?\n",
    "<a class ='anchor' id = 'Que1.c' ></a>"
   ]
  },
  {
   "cell_type": "markdown",
   "id": "dc878068",
   "metadata": {},
   "source": [
    "Here is the high level modelling process we will follow:\n",
    "\n",
    "   1. Load data and split into `X` (features) and `y` (target)\n",
    "   2. Train test split\n",
    "   3. Fit scaler to `X_train`, transform `X_train` and `X_test`\n",
    "   4. **Fit PCA object to _scaled_ `X_train`, transform _scaled_ `X_train` and `X_test`**\n",
    "   5. Fit model on PCA-transformed `X_train`, score on transformed `X_train` and `X_test`.\n",
    "   \n",
    "The process of fitting PCA on the data is very similar to that of scaling the data. You fit the PCA transformer on the **training set only** to prevent data leakage."
   ]
  },
  {
   "cell_type": "code",
   "execution_count": 1140,
   "id": "c6d30d7f",
   "metadata": {},
   "outputs": [],
   "source": [
    "# PCA import statement\n",
    "from sklearn.decomposition import PCA "
   ]
  },
  {
   "cell_type": "code",
   "execution_count": 1141,
   "id": "44f593f5",
   "metadata": {},
   "outputs": [],
   "source": [
    "# Instantiate & fit PCA model to the breast cancer data\n",
    "# Default n_components will generate the same number of PCs as you have features \n",
    "my_PCA = PCA()\n",
    "my_PCA.fit(X_train_ss)\n",
    "\n",
    "# transform data \n",
    "X_train_PCA = my_PCA.transform(X_train_ss)\n",
    "X_test_PCA = my_PCA.transform(X_test_ss)"
   ]
  },
  {
   "cell_type": "code",
   "execution_count": 1142,
   "id": "c7edd068",
   "metadata": {},
   "outputs": [
    {
     "name": "stdout",
     "output_type": "stream",
     "text": [
      "Variance captured by PC1:  20.884\n",
      "Variance captured by PC2:  12.925\n",
      "Proportion of variance captured by PC1:  0.008\n",
      "Proportion of variance captured by PC2:  0.005\n"
     ]
    }
   ],
   "source": [
    "# variance defined by first 2 PC's, just peeking into them\n",
    "print(f\"Variance captured by PC1: {my_PCA.explained_variance_[0]: 0.3f}\")\n",
    "print(f\"Variance captured by PC2: {my_PCA.explained_variance_[1]: 0.3f}\")\n",
    "\n",
    "print(f\"Proportion of variance captured by PC1: {my_PCA.explained_variance_ratio_[0]: 0.3f}\")\n",
    "print(f\"Proportion of variance captured by PC2: {my_PCA.explained_variance_ratio_[1]: 0.3f}\")"
   ]
  },
  {
   "cell_type": "code",
   "execution_count": 1143,
   "id": "90f6938f",
   "metadata": {},
   "outputs": [
    {
     "data": {
      "text/plain": [
       "array([7.63785922e-03, 4.72719774e-03, 2.18023902e-03, ...,\n",
       "       3.13263881e-36, 1.60938375e-36, 5.69116906e-37])"
      ]
     },
     "execution_count": 1143,
     "metadata": {},
     "output_type": "execute_result"
    }
   ],
   "source": [
    "# calculating variance RATIO of all PC's\n",
    "my_PCA.explained_variance_ratio_"
   ]
  },
  {
   "cell_type": "code",
   "execution_count": 1144,
   "id": "cc97cea6",
   "metadata": {},
   "outputs": [
    {
     "data": {
      "text/plain": [
       "array([2.08835389e+01, 1.29251686e+01, 5.96123926e+00, ...,\n",
       "       8.56530379e-33, 4.40039900e-33, 1.55608721e-33])"
      ]
     },
     "execution_count": 1144,
     "metadata": {},
     "output_type": "execute_result"
    }
   ],
   "source": [
    "# calculating variance of all PC's\n",
    "my_PCA.explained_variance_"
   ]
  },
  {
   "cell_type": "markdown",
   "id": "bde3bb11",
   "metadata": {},
   "source": [
    "The values given to us in `explained_variance_` are not very interpretable. But the values given in `explained_variance_ratio_` can be interpreted as the following:\n",
    "\n",
    "* 0.76% of the variation in the data is seen in the direction of the first PC\n",
    "* 0.47% of the variation in the data is seen in the direction of the second PC\n",
    "\n",
    "We can now follow one of two methods to pick our 'optimal' number of PCs."
   ]
  },
  {
   "cell_type": "markdown",
   "id": "b18dbd46",
   "metadata": {},
   "source": [
    "___And sum of all the variance ratios by all the PC's should be equal to 1, as it's basically a mere percentage of ratios.___"
   ]
  },
  {
   "cell_type": "code",
   "execution_count": 1145,
   "id": "6bdbe643",
   "metadata": {},
   "outputs": [],
   "source": [
    "# assigning name to ratio\n",
    "expl_var = my_PCA.explained_variance_ratio_"
   ]
  },
  {
   "cell_type": "code",
   "execution_count": 1146,
   "id": "67b93cc5",
   "metadata": {},
   "outputs": [
    {
     "data": {
      "image/png": "[encoded data removed]",
      "text/plain": [
       "<Figure size 1440x360 with 1 Axes>"
      ]
     },
     "metadata": {
      "needs_background": "light"
     },
     "output_type": "display_data"
    }
   ],
   "source": [
    "# plotting a graph for the PC and proportional variance\n",
    "plt.figure(figsize=(20,5))\n",
    "plt.plot(range(1,2744),expl_var,marker='.')\n",
    "plt.xticks(range(1,2744,100))\n",
    "plt.xlabel('Number of PCs')\n",
    "plt.ylabel('Proportion of Variance Explained')\n",
    "plt.title(\"Number of PC's vs Ratio of variance\")\n",
    "plt.show()"
   ]
  },
  {
   "cell_type": "markdown",
   "id": "33c5c0a0",
   "metadata": {},
   "source": [
    "The above graph definately makes a elbow but it's not clear how many PC's really cover most proportion of the variance. So let's try out by another method."
   ]
  },
  {
   "cell_type": "code",
   "execution_count": 1147,
   "id": "1a92d762",
   "metadata": {},
   "outputs": [
    {
     "data": {
      "text/plain": [
       "array([0.00763786, 0.01236506, 0.0145453 , ..., 1.        , 1.        ,\n",
       "       1.        ])"
      ]
     },
     "execution_count": 1147,
     "metadata": {},
     "output_type": "execute_result"
    }
   ],
   "source": [
    "# Pull out the explained variance ratio\n",
    "expl_var = my_PCA.explained_variance_ratio_\n",
    "\n",
    "# Calculate the cumulative sum of this array using the \n",
    "cumulative_sum = np.cumsum(expl_var)\n",
    "\n",
    "cumulative_sum"
   ]
  },
  {
   "cell_type": "markdown",
   "id": "d6a67586",
   "metadata": {},
   "source": [
    "As explained from above that the sum of all the proportions of all the variances should be equal to one, similar can be proved from above. `np.cumsum` keeps on adding elements in an array alomg the same axis one after the other. \n",
    "\n",
    "\n",
    "The target here is to take out the PC's which explain the most variance in the data and drop rest of them. This for sure will degrade the quality of data, but will help prevent overfitting on the model.\n"
   ]
  },
  {
   "cell_type": "code",
   "execution_count": 1148,
   "id": "c42536b6",
   "metadata": {},
   "outputs": [
    {
     "data": {
      "image/png": "[encoded data removed]",
      "text/plain": [
       "<Figure size 576x360 with 1 Axes>"
      ]
     },
     "metadata": {
      "needs_background": "light"
     },
     "output_type": "display_data"
    }
   ],
   "source": [
    "# Plot out the cumulative sum graph\n",
    "plt.figure(figsize=(8,5))\n",
    "plt.plot(range(1,2744), cumulative_sum, marker='.')\n",
    "plt.axhline(0.9, c='r', linestyle='--') #keeping 90% threshhold of the explained variance\n",
    "plt.xlabel('Number of PCs')\n",
    "plt.ylabel('Cumulative Sum of Explained Variance')\n",
    "plt.title('Cumulative Sum vs Number of PCs')\n",
    "plt.xticks(range(1,2744,250))\n",
    "plt.show()"
   ]
  },
  {
   "cell_type": "markdown",
   "id": "efd55acb",
   "metadata": {},
   "source": [
    "A bit unclear from the above graph about what should be the number of PC."
   ]
  },
  {
   "cell_type": "code",
   "execution_count": 1149,
   "id": "37fa0ab4",
   "metadata": {},
   "outputs": [
    {
     "data": {
      "text/plain": [
       "1890"
      ]
     },
     "execution_count": 1149,
     "metadata": {},
     "output_type": "execute_result"
    }
   ],
   "source": [
    "# function for calling the maximum PCs at the 90% threshhold\n",
    "np.argmax(cumulative_sum >= 0.90)"
   ]
  },
  {
   "cell_type": "markdown",
   "id": "6c56ecc8",
   "metadata": {},
   "source": [
    "So there are 1890 PC's which explain 90% of the variance in the data."
   ]
  },
  {
   "cell_type": "markdown",
   "id": "7e5b3fe1",
   "metadata": {},
   "source": [
    "Let's fit this into the model and then calculate the accuracy."
   ]
  },
  {
   "cell_type": "code",
   "execution_count": 1150,
   "id": "7408066e",
   "metadata": {},
   "outputs": [],
   "source": [
    "# Instantiate and fit\n",
    "my_PCA = PCA(n_components = np.argmax(cumulative_sum >= 0.90))\n",
    "my_PCA.fit(X_train_ss)\n",
    "\n",
    "# Transform train and test\n",
    "X_train_PCA = my_PCA.transform(X_train_ss)\n",
    "X_test_PCA = my_PCA.transform(X_test_ss)"
   ]
  },
  {
   "cell_type": "code",
   "execution_count": 1151,
   "id": "5c8f62d3",
   "metadata": {},
   "outputs": [
    {
     "name": "stdout",
     "output_type": "stream",
     "text": [
      "Original: (12798, 2743)\n",
      "PCA Transformed: (12798, 1890)\n"
     ]
    }
   ],
   "source": [
    "# let's check the shapes (sanity check)\n",
    "print(f'Original: {X_train_ss.shape}')\n",
    "print(f'PCA Transformed: {X_train_PCA.shape}')"
   ]
  },
  {
   "cell_type": "markdown",
   "id": "4d72098e",
   "metadata": {},
   "source": [
    "Now let's fit this into our logistic regression model."
   ]
  },
  {
   "cell_type": "code",
   "execution_count": 1152,
   "id": "97172476",
   "metadata": {},
   "outputs": [
    {
     "name": "stdout",
     "output_type": "stream",
     "text": [
      "Train Score: 0.8534927332395686\n",
      "Test Score: 0.7656433091164753\n"
     ]
    }
   ],
   "source": [
    "# Do the same but fit on the PCA transformed data\n",
    "my_logreg_PCA = LogisticRegression(solver='lbfgs', max_iter = 1000)\n",
    "\n",
    "# Fitting to PCA data\n",
    "my_logreg_PCA.fit(X_train_PCA,y_train)\n",
    "\n",
    "# Scoring on PCA train and test sets\n",
    "print(f'Train Score: {my_logreg_PCA.score(X_train_PCA, y_train)}')\n",
    "print(f'Test Score: {my_logreg_PCA.score(X_test_PCA, y_test)}')\n"
   ]
  },
  {
   "cell_type": "markdown",
   "id": "f2612b16",
   "metadata": {},
   "source": [
    "We can see there is still overfitting of the model on the data."
   ]
  },
  {
   "cell_type": "markdown",
   "id": "36b5d6bf",
   "metadata": {},
   "source": [
    "Let's decrease the threshhold of the explained variance and then measure the accuracy."
   ]
  },
  {
   "cell_type": "code",
   "execution_count": 1153,
   "id": "d24b14cb",
   "metadata": {},
   "outputs": [
    {
     "data": {
      "text/plain": [
       "1287"
      ]
     },
     "execution_count": 1153,
     "metadata": {},
     "output_type": "execute_result"
    }
   ],
   "source": [
    "# function for calling the maximum PCs at the 90% threshhold\n",
    "np.argmax(cumulative_sum >= 0.75)"
   ]
  },
  {
   "cell_type": "code",
   "execution_count": 1154,
   "id": "4e7eaebf",
   "metadata": {},
   "outputs": [],
   "source": [
    "# Instantiate and fit\n",
    "my_PCA = PCA(n_components = np.argmax(cumulative_sum >= 0.75))\n",
    "my_PCA.fit(X_train_ss)\n",
    "\n",
    "# Transform train and test\n",
    "X_train_PCA = my_PCA.transform(X_train_ss)\n",
    "X_test_PCA = my_PCA.transform(X_test_ss)"
   ]
  },
  {
   "cell_type": "markdown",
   "id": "20890a13",
   "metadata": {},
   "source": [
    "Now we have tranformed the sets according to PCA, let's run the model."
   ]
  },
  {
   "cell_type": "code",
   "execution_count": 1155,
   "id": "2ca9c538",
   "metadata": {},
   "outputs": [
    {
     "name": "stdout",
     "output_type": "stream",
     "text": [
      "Train Score: 0.831301765900922\n",
      "Test Score: 0.7733770799156315\n"
     ]
    }
   ],
   "source": [
    "# Do the same but fit on the PCA transformed data\n",
    "my_logreg_PCA = LogisticRegression(solver='lbfgs', max_iter = 1000)\n",
    "\n",
    "# Fitting to PCA data\n",
    "my_logreg_PCA.fit(X_train_PCA,y_train)\n",
    "\n",
    "# Scoring on PCA train and test sets\n",
    "print(f'Train Score: {my_logreg_PCA.score(X_train_PCA, y_train)}')\n",
    "print(f'Test Score: {my_logreg_PCA.score(X_test_PCA, y_test)}')"
   ]
  },
  {
   "cell_type": "markdown",
   "id": "3ecdf6bd",
   "metadata": {},
   "source": [
    "From above it can be seen that with decresing number of PCs to 1287, it has fairly decreased the overfitting of the model. Now let's compare it with the model where all variances were present of all features."
   ]
  },
  {
   "cell_type": "code",
   "execution_count": 1156,
   "id": "fa068717",
   "metadata": {},
   "outputs": [
    {
     "name": "stdout",
     "output_type": "stream",
     "text": [
      "Accuracy score of the TRAIN set: 0.885841537740272\n",
      "Accuracy score of the TEST set: 0.7328333723927818\n"
     ]
    }
   ],
   "source": [
    "# Fitting a model\n",
    "logreg = LogisticRegression(solver='lbfgs', max_iter = 1000)\n",
    "logreg.fit(X_train_ss, y_train)\n",
    "\n",
    "# Training and test score\n",
    "print(f\"Accuracy score of the TRAIN set: {logreg.score(X_train_ss, y_train)}\")\n",
    "print(f\"Accuracy score of the TEST set: {logreg.score(X_test_ss, y_test)}\")"
   ]
  },
  {
   "cell_type": "markdown",
   "id": "d4f9a99a",
   "metadata": {},
   "source": [
    "Congrats, we have increased the accuracy of the model by reducing features using PCs!!"
   ]
  },
  {
   "cell_type": "markdown",
   "id": "6e2458a9",
   "metadata": {},
   "source": [
    "#### Relationship between runtime for a logistic regression and number of dimensions."
   ]
  },
  {
   "cell_type": "code",
   "execution_count": 1157,
   "id": "daec3543",
   "metadata": {},
   "outputs": [
    {
     "name": "stdout",
     "output_type": "stream",
     "text": [
      "3.1 s ± 189 ms per loop (mean ± std. dev. of 7 runs, 1 loop each)\n"
     ]
    }
   ],
   "source": [
    "%%timeit\n",
    "my_logreg.fit(X_train_ss, y_train)"
   ]
  },
  {
   "cell_type": "code",
   "execution_count": 1158,
   "id": "d63e3ca4",
   "metadata": {},
   "outputs": [
    {
     "name": "stdout",
     "output_type": "stream",
     "text": [
      "560 ms ± 34.5 ms per loop (mean ± std. dev. of 7 runs, 1 loop each)\n"
     ]
    }
   ],
   "source": [
    "%%timeit\n",
    "my_logreg_PCA.fit(X_train_PCA,y_train)"
   ]
  },
  {
   "cell_type": "markdown",
   "id": "4c5c41d4",
   "metadata": {},
   "source": [
    "From above we can see that time of fitting the model has decreased by reducing the number of dimensions. Let's plot them and get a better understanding.\n"
   ]
  },
  {
   "cell_type": "markdown",
   "id": "c6798317",
   "metadata": {},
   "source": [
    "A function can be created to draw a graph between number of dimensions and runtime."
   ]
  },
  {
   "cell_type": "markdown",
   "id": "31238e90",
   "metadata": {},
   "source": [
    "---"
   ]
  },
  {
   "cell_type": "markdown",
   "id": "4a2364e8",
   "metadata": {},
   "source": [
    "Alterations need to be done in the following function. It takes size as the input but should take n_components as input ans=d iterate over a range of values."
   ]
  },
  {
   "cell_type": "code",
   "execution_count": 1228,
   "id": "cb258345",
   "metadata": {},
   "outputs": [],
   "source": [
    "from sklearn.utils import resample"
   ]
  },
  {
   "cell_type": "code",
   "execution_count": 1232,
   "id": "bde75164",
   "metadata": {},
   "outputs": [],
   "source": [
    "def data_size_scaling(my_logreg_PCA, X_train_PCA, sizes=[100, 200, 400, 800, 1600], n_runs=5):\n",
    "    result = []\n",
    "    for size in sizes:\n",
    "        for run in range(n_runs):\n",
    "            subsample = resample(X_train_PCA, n_samples=size)\n",
    "            start_time = time.time()\n",
    "            my_logreg_PCA.fit(subsample)\n",
    "            elapsed_time = time.time() - start_time\n",
    "            del subsample\n",
    "            result.append((size, elapsed_time))\n",
    "    return pd.DataFrame(result, columns=('dataset size', 'runtime (s)'))"
   ]
  },
  {
   "cell_type": "code",
   "execution_count": 1235,
   "id": "31e741ca",
   "metadata": {},
   "outputs": [],
   "source": [
    "all_algorithms = [\n",
    "    PCA(),\n",
    "]\n",
    "performance_data = {}\n",
    "for algorithm in all_algorithms:\n",
    "    alg_name = str(algorithm)\n",
    "    if 'MulticoreTSNE' in alg_name:\n",
    "        alg_name = 'MulticoreTSNE'\n",
    "    else:\n",
    "        alg_name = alg_name.split('(')[0]\n",
    "\n",
    "    performance_data[alg_name] = data_size_scaling(algorithm, X_train_PCA, n_runs=3)"
   ]
  },
  {
   "cell_type": "code",
   "execution_count": 1236,
   "id": "43ffcdc0",
   "metadata": {},
   "outputs": [
    {
     "data": {
      "image/png": "[encoded data removed]",
      "text/plain": [
       "<Figure size 432x288 with 1 Axes>"
      ]
     },
     "metadata": {
      "needs_background": "light"
     },
     "output_type": "display_data"
    }
   ],
   "source": [
    "for alg_name, perf_data in performance_data.items():\n",
    "    sns.regplot('dataset size', 'runtime (s)', perf_data, order=2, label=alg_name)\n",
    "plt.legend();"
   ]
  },
  {
   "cell_type": "markdown",
   "id": "fa8b63c9",
   "metadata": {},
   "source": [
    "Anyways, runtime should increase with the increase in number of dimensions in the train set."
   ]
  },
  {
   "cell_type": "markdown",
   "id": "5b36ab53",
   "metadata": {},
   "source": [
    "---"
   ]
  },
  {
   "cell_type": "markdown",
   "id": "8674a177",
   "metadata": {},
   "source": [
    "#### 1.d List one advantage and one disadvantage of dimensionality reduction\n",
    "<a class ='anchor' id = 'Que1.d' ></a>"
   ]
  },
  {
   "cell_type": "markdown",
   "id": "8eb8b1a2",
   "metadata": {},
   "source": [
    "* Advantage and disadvantage of dimensionality reduction:"
   ]
  },
  {
   "cell_type": "markdown",
   "id": "a3fc691d",
   "metadata": {},
   "source": [
    "__Advantage:__ As can be seen from the computation speed decreased when we use PCA to reduce dimensions which means it __reduces the time period a model needs to run.__ Secondly, it selects the features which have the almost the same variance as the original data, which means it helps to reduce the number of features and the concept of __multicollinearity is also prevented__. Not having multicollinearity is one of first assumptions while running regression models. Lastly, __it prevents overfitting__ of the model on the data."
   ]
  },
  {
   "cell_type": "markdown",
   "id": "618a0977",
   "metadata": {},
   "source": [
    "__Disadvantage:__ Reducing the number of dimensions which do not have much contribution to the performance or result of the model are undoubtedly dropped, but whatever __little information it was carrying with it is gone__ while reduction. This would make the result of the model slightly optimistic but at the same time reduce multi-collinearity also. However, if a dimension is dropped, which could have been made exactly same with other dimensions, then by dropping that dimension does not result in any information loss. But these kind of features are very rare. "
   ]
  },
  {
   "cell_type": "markdown",
   "id": "5947d4c2",
   "metadata": {},
   "source": [
    "---"
   ]
  },
  {
   "cell_type": "markdown",
   "id": "1c5fe918",
   "metadata": {},
   "source": [
    "---"
   ]
  },
  {
   "cell_type": "markdown",
   "id": "79453409",
   "metadata": {},
   "source": [
    "### Question 2: Employ a K-Nearest Neighbour classifier on this dataset:\n",
    "<a class ='anchor' id = 'Que2' ></a>"
   ]
  },
  {
   "cell_type": "code",
   "execution_count": 1159,
   "id": "fa79fe1c",
   "metadata": {},
   "outputs": [],
   "source": [
    "# loading the train dataset\n",
    "hotel_df = pd.read_csv('clean_train_dataframe.csv')"
   ]
  },
  {
   "cell_type": "code",
   "execution_count": 1160,
   "id": "93d18e61",
   "metadata": {},
   "outputs": [],
   "source": [
    "# loading the test dataset\n",
    "test_df = pd.read_csv('clean_test_dataframe.csv')"
   ]
  },
  {
   "cell_type": "code",
   "execution_count": 1161,
   "id": "de22f83b",
   "metadata": {},
   "outputs": [],
   "source": [
    "# instantiating our independent and dependent variables \n",
    "X_train = hotel_df.drop(columns=\"rating\")\n",
    "y_train = hotel_df[\"rating\"]"
   ]
  },
  {
   "cell_type": "code",
   "execution_count": 1162,
   "id": "9abe10a3",
   "metadata": {},
   "outputs": [],
   "source": [
    "# instantiating our independent and dependent variables \n",
    "X_test = test_df.drop(columns=\"rating\")\n",
    "y_test = test_df[\"rating\"]"
   ]
  },
  {
   "cell_type": "markdown",
   "id": "285fc46f",
   "metadata": {},
   "source": [
    "Since we are dealing with KNN model which calculates the distance between the points, scaling is important before we make model."
   ]
  },
  {
   "cell_type": "markdown",
   "id": "1f9110b3",
   "metadata": {},
   "source": [
    "#### Standard Scaler"
   ]
  },
  {
   "cell_type": "code",
   "execution_count": 1163,
   "id": "de56c391",
   "metadata": {},
   "outputs": [],
   "source": [
    "# Instantiate the scaler\n",
    "SS = StandardScaler()\n",
    "\n",
    "# Fit the scaler and transform both data subsets\n",
    "X_train_ss = SS.fit_transform(X_train)\n",
    "X_test_ss = SS.transform(X_test)"
   ]
  },
  {
   "cell_type": "markdown",
   "id": "2630dccd",
   "metadata": {},
   "source": [
    "#### 2.a Fit a KNN model to this data. What is the accuracy score on the test set?\n",
    "<a class ='anchor' id = 'Que2.a' ></a>"
   ]
  },
  {
   "cell_type": "code",
   "execution_count": 1164,
   "id": "408e15a6",
   "metadata": {},
   "outputs": [],
   "source": [
    "from sklearn.metrics import accuracy_score"
   ]
  },
  {
   "cell_type": "markdown",
   "id": "22a26d5c",
   "metadata": {},
   "source": [
    "__Note:__ As KNN model deals with the distance of the data points, so it's necessary to use __the scaled train set while running the model.__"
   ]
  },
  {
   "cell_type": "markdown",
   "id": "fc302d85",
   "metadata": {},
   "source": [
    "By default, number of neighbors in the classifier is 5, same as below."
   ]
  },
  {
   "cell_type": "markdown",
   "id": "96905665",
   "metadata": {},
   "source": [
    "The model below takes a lot of time, as we classifying the whole ~12k rows of the dataset."
   ]
  },
  {
   "cell_type": "code",
   "execution_count": 1165,
   "id": "609d54e4",
   "metadata": {},
   "outputs": [
    {
     "name": "stdout",
     "output_type": "stream",
     "text": [
      "Test set accuracy: 0.6367471291305367\n",
      "Train set accuracy: 0.751211126738553\n"
     ]
    }
   ],
   "source": [
    "# Instantiate the model & fit it to our data\n",
    "KNN_model = KNeighborsClassifier()\n",
    "KNN_model.fit(X_train_ss, y_train)\n",
    "\n",
    "# Score the model on the test set\n",
    "test_predictions = KNN_model.predict(X_test_ss)\n",
    "\n",
    "test_accuracy = accuracy_score(test_predictions, y_test)\n",
    "\n",
    "train_predictions = KNN_model.predict(X_train_ss)\n",
    "\n",
    "train_accuracy = accuracy_score(train_predictions, y_train)\n",
    "\n",
    "print(f\"Test set accuracy: {test_accuracy}\")\n",
    "print(f\"Train set accuracy: {train_accuracy}\")"
   ]
  },
  {
   "cell_type": "markdown",
   "id": "46c412b0",
   "metadata": {},
   "source": [
    "__Overfitting can be seen__ from the above model as the difference between the accuaracy of train set and test set is huge."
   ]
  },
  {
   "cell_type": "markdown",
   "id": "c2554f94",
   "metadata": {},
   "source": [
    "Let's see how much time does it take to run."
   ]
  },
  {
   "cell_type": "code",
   "execution_count": 1166,
   "id": "14c184e2",
   "metadata": {},
   "outputs": [
    {
     "name": "stdout",
     "output_type": "stream",
     "text": [
      "30.5 ms ± 619 µs per loop (mean ± std. dev. of 7 runs, 10 loops each)\n"
     ]
    }
   ],
   "source": [
    "%%timeit\n",
    "KNN_model.fit(X_train_ss, y_train)"
   ]
  },
  {
   "cell_type": "markdown",
   "id": "ebceaefc",
   "metadata": {},
   "source": [
    "Overfitting can be seen here too, alot but I think better than Logistic regression.\n"
   ]
  },
  {
   "cell_type": "markdown",
   "id": "67871ae9",
   "metadata": {},
   "source": [
    "Above function takes a very long time which was expected as train and test sets are huge."
   ]
  },
  {
   "cell_type": "markdown",
   "id": "c05d5ebc",
   "metadata": {},
   "source": [
    "Let's reduce the size of the dataset and then see the relation between the size of the dataset and the run-time. By this we can have really good conclutions."
   ]
  },
  {
   "cell_type": "markdown",
   "id": "6dfa3332",
   "metadata": {},
   "source": [
    "---"
   ]
  },
  {
   "cell_type": "markdown",
   "id": "120d13c8",
   "metadata": {},
   "source": [
    "#### 2.b KNN is a computationally expensive model. Reduce the number of observations (data points) in the dataset. What is the relationship between the number of observations and run-time for KNN?\n",
    "<a class ='anchor' id = 'Que2.b' ></a>"
   ]
  },
  {
   "cell_type": "markdown",
   "id": "3846a65c",
   "metadata": {},
   "source": [
    "As we have see that KNN classifier takes a lot of time to run, the optimal way to prevent this to take a subset out of the main dataset."
   ]
  },
  {
   "cell_type": "code",
   "execution_count": 1237,
   "id": "913c4945",
   "metadata": {},
   "outputs": [],
   "source": [
    "# takeing 60% sample from the dataset\n",
    "hotel2_df = hotel_df.sample(frac=0.6, random_state=1)"
   ]
  },
  {
   "cell_type": "code",
   "execution_count": 1238,
   "id": "33e4bb61",
   "metadata": {},
   "outputs": [
    {
     "data": {
      "text/plain": [
       "(12798, 2744)"
      ]
     },
     "execution_count": 1238,
     "metadata": {},
     "output_type": "execute_result"
    }
   ],
   "source": [
    "# checking shape\n",
    "hotel_df.shape"
   ]
  },
  {
   "cell_type": "code",
   "execution_count": 1239,
   "id": "0c215a9a",
   "metadata": {},
   "outputs": [
    {
     "data": {
      "text/plain": [
       "(7679, 2744)"
      ]
     },
     "execution_count": 1239,
     "metadata": {},
     "output_type": "execute_result"
    }
   ],
   "source": [
    "# checking shape \n",
    "hotel2_df.shape"
   ]
  },
  {
   "cell_type": "markdown",
   "id": "1370b1af",
   "metadata": {},
   "source": [
    "Let's define independent and dependent variable for this new `hotel2_df` dataset."
   ]
  },
  {
   "cell_type": "code",
   "execution_count": 1240,
   "id": "11236ffe",
   "metadata": {},
   "outputs": [],
   "source": [
    "# instantiating our independent and dependent variables on train set\n",
    "X_train = hotel2_df.drop(columns=\"rating\")\n",
    "y_train = hotel2_df[\"rating\"]"
   ]
  },
  {
   "cell_type": "code",
   "execution_count": 1241,
   "id": "6a705bf7",
   "metadata": {},
   "outputs": [],
   "source": [
    "# instantiating our independent and dependent variables on test set\n",
    "X_test = test_df.drop(columns=\"rating\")\n",
    "y_test = test_df[\"rating\"]"
   ]
  },
  {
   "cell_type": "markdown",
   "id": "3e81d94a",
   "metadata": {},
   "source": [
    "Basically we have to repeat the steps as we have done in the previous question and thus, scale the data before fitting the model."
   ]
  },
  {
   "cell_type": "code",
   "execution_count": 1242,
   "id": "5e454b8b",
   "metadata": {},
   "outputs": [],
   "source": [
    "# scale the data \n",
    "SS = StandardScaler()\n",
    "\n",
    "# Fit the scaler and transform both data subsets\n",
    "X_train_ss = SS.fit_transform(X_train)\n",
    "X_test_ss = SS.transform(X_test)"
   ]
  },
  {
   "cell_type": "markdown",
   "id": "71b6aa5d",
   "metadata": {},
   "source": [
    "Now, finally let's make the model."
   ]
  },
  {
   "cell_type": "code",
   "execution_count": 1243,
   "id": "67664aa7",
   "metadata": {},
   "outputs": [
    {
     "name": "stdout",
     "output_type": "stream",
     "text": [
      "Test set accuracy: 0.6416686196390907\n",
      "Train set accuracy: 0.7491860919390546\n"
     ]
    }
   ],
   "source": [
    "# Instantiate the model & fit it to our data\n",
    "KNN_model = KNeighborsClassifier()\n",
    "KNN_model.fit(X_train_ss, y_train)\n",
    "\n",
    "# Score the model on the test set\n",
    "test_predictions = KNN_model.predict(X_test_ss)\n",
    "\n",
    "test_accuracy = accuracy_score(test_predictions, y_test)\n",
    "\n",
    "train_predictions = KNN_model.predict(X_train_ss)\n",
    "\n",
    "train_accuracy = accuracy_score(train_predictions, y_train)\n",
    "\n",
    "print(f\"Test set accuracy: {test_accuracy}\")\n",
    "print(f\"Train set accuracy: {train_accuracy}\")"
   ]
  },
  {
   "cell_type": "markdown",
   "id": "27ffc7a5",
   "metadata": {},
   "source": [
    "After taking a fraction out of the main dataframe test accuracy has increased to small extent, but this was not our target to achieve, it should be almost same anyways, if the distribution is same."
   ]
  },
  {
   "cell_type": "markdown",
   "id": "f6173106",
   "metadata": {},
   "source": [
    "Now let's see how much time does it take for KNN model to run on 60% of the total dataset."
   ]
  },
  {
   "cell_type": "code",
   "execution_count": 1244,
   "id": "3c4c08f8",
   "metadata": {},
   "outputs": [
    {
     "name": "stdout",
     "output_type": "stream",
     "text": [
      "49.2 ms ± 3.61 ms per loop (mean ± std. dev. of 7 runs, 10 loops each)\n"
     ]
    }
   ],
   "source": [
    "%%timeit\n",
    "KNN_model.fit(X_train_ss, y_train)"
   ]
  },
  {
   "cell_type": "markdown",
   "id": "90922c04",
   "metadata": {},
   "source": [
    "As expected the runtime has decreased in case of running KNN with a smaller set of data as of the original data.\n",
    "\n",
    "\n",
    "\n",
    "It was in seconds before and now it's in milli (10^(-3)) seconds, it has decreased a lot."
   ]
  },
  {
   "cell_type": "markdown",
   "id": "b8743b80",
   "metadata": {},
   "source": [
    "So as expected that smaller the size of the dataset, less time KNN classifer model takes to run on the training set. On the backend, less are number of points in the data space, less are the computations and calculations of distances between the new point and existing points and less is the time taken by the model to fit the data and vice versa."
   ]
  },
  {
   "cell_type": "markdown",
   "id": "8768c9e6",
   "metadata": {},
   "source": [
    "Below function can be used to grapg between sample size and runtime of KNN. Some alterations need to be done to change sizes one by one of both X_train_ss and y_train in a loop simultaneously."
   ]
  },
  {
   "cell_type": "code",
   "execution_count": 1265,
   "id": "782b2713",
   "metadata": {},
   "outputs": [],
   "source": [
    "def data_size_scaling(KNN_model, X_train_ss, y_train, sizes=[7679], n_runs=5):\n",
    "    result = []\n",
    "    for size in sizes:\n",
    "        for run in range(n_runs):\n",
    "            subsample = resample(X_train_ss, n_samples=size)\n",
    "            start_time = time.time()\n",
    "            KNN_model.fit(subsample, y_train)\n",
    "            elapsed_time = time.time() - start_time\n",
    "            del subsample\n",
    "            result.append((size, elapsed_time))\n",
    "    return pd.DataFrame(result, columns=('dataset size', 'runtime (s)'))"
   ]
  },
  {
   "cell_type": "code",
   "execution_count": 1267,
   "id": "0487b758",
   "metadata": {},
   "outputs": [],
   "source": [
    "all_algorithms = [\n",
    "    PCA(),\n",
    "]\n",
    "performance_data = {}\n",
    "for algorithm in all_algorithms:\n",
    "    alg_name = str(algorithm)\n",
    "    if 'MulticoreTSNE' in alg_name:\n",
    "        alg_name = 'MulticoreTSNE'\n",
    "    else:\n",
    "        alg_name = alg_name.split('(')[0]\n",
    "\n",
    "    performance_data[alg_name] = data_size_scaling(KNN_model, X_train_ss, y_train, n_runs=3)"
   ]
  },
  {
   "cell_type": "code",
   "execution_count": 1268,
   "id": "96a59cfb",
   "metadata": {
    "scrolled": true
   },
   "outputs": [
    {
     "data": {
      "text/plain": [
       "''"
      ]
     },
     "execution_count": 1268,
     "metadata": {},
     "output_type": "execute_result"
    },
    {
     "data": {
      "image/png": "[encoded data removed]",
      "text/plain": [
       "<Figure size 432x288 with 1 Axes>"
      ]
     },
     "metadata": {
      "needs_background": "light"
     },
     "output_type": "display_data"
    }
   ],
   "source": [
    "for alg_name, perf_data in performance_data.items():\n",
    "    sns.regplot('dataset size', 'runtime (s)', perf_data, order=2)\n",
    ";"
   ]
  },
  {
   "cell_type": "markdown",
   "id": "ca963c29",
   "metadata": {},
   "source": [
    "Just for one sample size, is not success :{"
   ]
  },
  {
   "cell_type": "markdown",
   "id": "f8bd3462",
   "metadata": {},
   "source": [
    "---"
   ]
  },
  {
   "cell_type": "markdown",
   "id": "5eb1f4a1",
   "metadata": {},
   "source": [
    "#### 2.c List one advantage and one disadvantage of reducing the number of observations.\n",
    "<a class ='anchor' id = 'Que2.c' ></a>"
   ]
  },
  {
   "cell_type": "markdown",
   "id": "e5970764",
   "metadata": {},
   "source": [
    "__Advantage:__ Decreasing the data points will decrease the number of calculations of distances between the new point and existing points which eventually __decrease the time of running the model__ in the backend."
   ]
  },
  {
   "cell_type": "markdown",
   "id": "dc49defa",
   "metadata": {},
   "source": [
    "__Disadvantage:__ ___Loss of information___ occurs to some extent while reducing the size of the dataset which affects the performance of the model.\n",
    "\n",
    "\n",
    "Also `Dataframe.sample` does not care about the distribution of the sub-dataset and dataset. Unfortunately `stratify` cannot be used in this function and randomly chooses the fraction of rows we want. However, to avoid this train-test split can be done with `stratify`."
   ]
  },
  {
   "cell_type": "markdown",
   "id": "21073e59",
   "metadata": {},
   "source": [
    "---"
   ]
  },
  {
   "cell_type": "markdown",
   "id": "c6cbb22b",
   "metadata": {},
   "source": [
    "#### 2.d Use the dataset to find an optimal value for K in the KNN algorithm. You will need to split your dataset into train and validation sets.\n",
    "<a class ='anchor' id = 'Que2.d' ></a>"
   ]
  },
  {
   "cell_type": "markdown",
   "id": "f8c7f50d",
   "metadata": {},
   "source": [
    "#### Splitting the dataset"
   ]
  },
  {
   "cell_type": "code",
   "execution_count": 1175,
   "id": "01aab8b7",
   "metadata": {
    "scrolled": true
   },
   "outputs": [
    {
     "data": {
      "text/plain": [
       "(7679, 2743)"
      ]
     },
     "execution_count": 1175,
     "metadata": {},
     "output_type": "execute_result"
    }
   ],
   "source": [
    "# checking shape\n",
    "X_train.shape"
   ]
  },
  {
   "cell_type": "code",
   "execution_count": 1176,
   "id": "a49c90e3",
   "metadata": {},
   "outputs": [
    {
     "data": {
      "text/plain": [
       "(7679,)"
      ]
     },
     "execution_count": 1176,
     "metadata": {},
     "output_type": "execute_result"
    }
   ],
   "source": [
    "# checking shape\n",
    "y_train.shape"
   ]
  },
  {
   "cell_type": "markdown",
   "id": "13e55e57",
   "metadata": {},
   "source": [
    "__Note:__ As splitting of the train set is required into remainder and validation sets, original ___unscaled Xtrain___ is used for splitting into 2 sets to prevent the leakage of the data amongst the 2 splitted sets."
   ]
  },
  {
   "cell_type": "code",
   "execution_count": 1177,
   "id": "c1e0e067",
   "metadata": {},
   "outputs": [],
   "source": [
    "# splitting our data into train and test sets\n",
    "from sklearn.model_selection import train_test_split\n",
    "\n",
    "X_remainder, X_validation, y_remainder, y_validation = train_test_split(X_train, y_train, test_size=0.33, random_state=1, stratify=y_train)"
   ]
  },
  {
   "cell_type": "markdown",
   "id": "7ebb2cf6",
   "metadata": {},
   "source": [
    "Now, after splitting let's scale the data for our KNN model."
   ]
  },
  {
   "cell_type": "markdown",
   "id": "1612d63c",
   "metadata": {},
   "source": [
    "Note: We are still using subset of the main dataset to optimize the value of the hyperparameter."
   ]
  },
  {
   "cell_type": "markdown",
   "id": "df21c00d",
   "metadata": {},
   "source": [
    "#### Scaling the dataset"
   ]
  },
  {
   "cell_type": "code",
   "execution_count": 1178,
   "id": "0ffb9db5",
   "metadata": {},
   "outputs": [],
   "source": [
    "# Instantiate the scaler\n",
    "SS = StandardScaler()\n",
    "\n",
    "# Fit the scaler and transform both data subsets\n",
    "X_remainder_ss = SS.fit_transform(X_remainder)\n",
    "X_validation_ss = SS.transform(X_validation)"
   ]
  },
  {
   "cell_type": "markdown",
   "id": "b5555b46",
   "metadata": {},
   "source": [
    "By random choice let's choose the range of the k-nearest neighbors to be limited to 100, as can be seen below. \n",
    "\n",
    "\n",
    "Reason for this is because more are number of k's model takes more time to run and it makes no sense."
   ]
  },
  {
   "cell_type": "code",
   "execution_count": 1179,
   "id": "1e980ba9",
   "metadata": {},
   "outputs": [
    {
     "name": "stdout",
     "output_type": "stream",
     "text": [
      "Working on my model with 99 neighbors...\r"
     ]
    }
   ],
   "source": [
    "n_neighbors = range(1, 100, 2)\n",
    "# range is a list iterator\n",
    "# [0] = working in the first dimension of the array\n",
    "# 2 = step size so only odd numbers appear\n",
    "\n",
    "remainder_acc = []\n",
    "validation_acc = []\n",
    "\n",
    "for n in n_neighbors: \n",
    "    print(f\"Working on my model with {n} neighbors...\", end=\"\\r\")\n",
    "    \n",
    "    #Instantiate and fit\n",
    "    KNN_model = KNeighborsClassifier(n_neighbors=n)\n",
    "    KNN_model.fit(X_remainder_ss, y_remainder)\n",
    "    \n",
    "    #Score model\n",
    "    remainder_accuracy = KNN_model.score(X_remainder_ss, y_remainder)\n",
    "    validation_accuracy = KNN_model.score(X_validation_ss, y_validation)\n",
    "    \n",
    "    #Append accurary\n",
    "    remainder_acc.append(remainder_accuracy)\n",
    "    validation_acc.append(validation_accuracy)"
   ]
  },
  {
   "cell_type": "markdown",
   "id": "2dd77187",
   "metadata": {},
   "source": [
    "Now our model is ready and let's visualise the performance on remainder and validation sets."
   ]
  },
  {
   "cell_type": "code",
   "execution_count": 1180,
   "id": "608bb965",
   "metadata": {},
   "outputs": [
    {
     "data": {
      "image/png": "[encoded data removed]",
      "text/plain": [
       "<Figure size 432x432 with 1 Axes>"
      ]
     },
     "metadata": {
      "needs_background": "light"
     },
     "output_type": "display_data"
    }
   ],
   "source": [
    "#plot the graph\n",
    "plt.figure(figsize=(6,6))\n",
    "plt.plot(n_neighbors, validation_acc, color=\"red\", label=\"validation\")\n",
    "plt.plot(n_neighbors, remainder_acc, color=\"blue\", label=\"remainder\")\n",
    "plt.ylabel(\"Accuracy Score\")\n",
    "plt.xlabel(\"Number of Neighbors\")\n",
    "plt.title(\"KNN model for different number of neighbors\")\n",
    "plt.legend()\n",
    "plt.show()"
   ]
  },
  {
   "cell_type": "markdown",
   "id": "c7fe59bc",
   "metadata": {},
   "source": [
    "__Observation:__\n",
    "- we see heavy overfitting for small values of k (below 10);\n",
    "- the best values when train and test accuracy are close and test is maximal are __around k=12..17__ (there is some variation there);\n",
    "- for higher values of k, both train and test accuracy drops significantly and approach to almost 50% accuracy"
   ]
  },
  {
   "cell_type": "markdown",
   "id": "bb768722",
   "metadata": {},
   "source": [
    "Best k cannot be find with the above graph as it is very unclear.\n"
   ]
  },
  {
   "cell_type": "markdown",
   "id": "8c12ca45",
   "metadata": {},
   "source": [
    "Let's see what is the optimal value of k in the range of 1 to 99 neighbors."
   ]
  },
  {
   "cell_type": "code",
   "execution_count": 1181,
   "id": "ddf25cce",
   "metadata": {},
   "outputs": [
    {
     "data": {
      "text/plain": [
       "11"
      ]
     },
     "execution_count": 1181,
     "metadata": {},
     "output_type": "execute_result"
    }
   ],
   "source": [
    "#trick to estimate the ideal k value: \n",
    "\n",
    "#index the value that is the largest in the test accuracy\n",
    "index_of_max = np.argmax(validation_acc)\n",
    "\n",
    "#print the corresponding k value\n",
    "best_k = n_neighbors[index_of_max]\n",
    "\n",
    "best_k"
   ]
  },
  {
   "cell_type": "markdown",
   "id": "71dc5b5c",
   "metadata": {},
   "source": [
    "We can see visually also that the k=11 is the best number of neighbors when we have the maximum accuracy for the validation set."
   ]
  },
  {
   "cell_type": "markdown",
   "id": "dbd9a17e",
   "metadata": {},
   "source": [
    "Let's try running accuracy for the test set with k=11."
   ]
  },
  {
   "cell_type": "code",
   "execution_count": 1182,
   "id": "5fd575cf",
   "metadata": {},
   "outputs": [
    {
     "name": "stdout",
     "output_type": "stream",
     "text": [
      "Test set accuracy: 0.6714319193812983\n",
      "Train set accuracy: 0.7318661284021357\n"
     ]
    }
   ],
   "source": [
    "# Instantiate the model & fit it to our data\n",
    "KNN_model = KNeighborsClassifier(n_neighbors=11)\n",
    "KNN_model.fit(X_train_ss, y_train)\n",
    "\n",
    "# Score the model on the test set\n",
    "test_predictions = KNN_model.predict(X_test_ss)\n",
    "\n",
    "test_accuracy = accuracy_score(test_predictions, y_test)\n",
    "\n",
    "train_predictions = KNN_model.predict(X_train_ss)\n",
    "\n",
    "train_accuracy = accuracy_score(train_predictions, y_train)\n",
    "\n",
    "print(f\"Test set accuracy: {test_accuracy}\")\n",
    "print(f\"Train set accuracy: {train_accuracy}\")"
   ]
  },
  {
   "cell_type": "markdown",
   "id": "d4b5f1f7",
   "metadata": {},
   "source": [
    "From above we can see that we have improved the time period of the model to fit and also increased the accuracy by almost ~4%."
   ]
  },
  {
   "cell_type": "markdown",
   "id": "9327518a",
   "metadata": {},
   "source": [
    "__Important:__ So basically from the above model we can see that there is no overfitting of the model on the data. What made this possible?? It's the k value which is limited now and is limiting the multi-collinearity also.\n",
    "\n",
    "\n",
    "So, the point is it's not always necessary to decrease the features by PCA or selecting features by KBest or dropping columns by forward and backward approach. It's just that while running the model use the right hyperparameter and parameter while fitting the model."
   ]
  },
  {
   "cell_type": "markdown",
   "id": "420cee25",
   "metadata": {},
   "source": [
    "Let's see if there is any change in runtime of the model from before. But it is expected that it should decrease as the number of neighbors is limited in this case."
   ]
  },
  {
   "cell_type": "code",
   "execution_count": 1183,
   "id": "82c7f55f",
   "metadata": {},
   "outputs": [
    {
     "name": "stdout",
     "output_type": "stream",
     "text": [
      "18.3 ms ± 452 µs per loop (mean ± std. dev. of 7 runs, 100 loops each)\n"
     ]
    }
   ],
   "source": [
    "%%timeit\n",
    "KNN_model.fit(X_train_ss, y_train)"
   ]
  },
  {
   "cell_type": "markdown",
   "id": "eb62cda2",
   "metadata": {},
   "source": [
    "Yes, runtime has descresed from before."
   ]
  },
  {
   "cell_type": "markdown",
   "id": "86319fcb",
   "metadata": {},
   "source": [
    "But this model was run on the 60% of the whole dataset. Let's see the accuracy score on the whole dataset."
   ]
  },
  {
   "cell_type": "code",
   "execution_count": 1184,
   "id": "14c18d40",
   "metadata": {},
   "outputs": [],
   "source": [
    "# instantiating our independent and dependent variables on train set\n",
    "X_train = hotel_df.drop(columns=\"rating\")\n",
    "y_train = hotel_df[\"rating\"]"
   ]
  },
  {
   "cell_type": "code",
   "execution_count": 1185,
   "id": "1bcd2887",
   "metadata": {},
   "outputs": [],
   "source": [
    "# instantiating our independent and dependent variables on train set\n",
    "X_test = test_df.drop(columns=\"rating\")\n",
    "y_test = test_df[\"rating\"]"
   ]
  },
  {
   "cell_type": "code",
   "execution_count": 1186,
   "id": "d43b7f0f",
   "metadata": {},
   "outputs": [],
   "source": [
    "# scale the data \n",
    "SS = StandardScaler()\n",
    "\n",
    "# Fit the scaler and transform both data subsets\n",
    "X_train_ss = SS.fit_transform(X_train)\n",
    "X_test_ss = SS.transform(X_test)"
   ]
  },
  {
   "cell_type": "code",
   "execution_count": 1187,
   "id": "157ea5d9",
   "metadata": {},
   "outputs": [
    {
     "name": "stdout",
     "output_type": "stream",
     "text": [
      "Test set accuracy: 0.6625263651277244\n",
      "Train set accuracy: 0.7205032036255665\n"
     ]
    }
   ],
   "source": [
    "# Instantiate the model & fit it to our data\n",
    "KNN_model = KNeighborsClassifier(n_neighbors=11)\n",
    "KNN_model.fit(X_train_ss, y_train)\n",
    "\n",
    "# Score the model on the test set\n",
    "test_predictions = KNN_model.predict(X_test_ss)\n",
    "\n",
    "test_accuracy = accuracy_score(test_predictions, y_test)\n",
    "\n",
    "train_predictions = KNN_model.predict(X_train_ss)\n",
    "\n",
    "train_accuracy = accuracy_score(train_predictions, y_train)\n",
    "\n",
    "print(f\"Test set accuracy: {test_accuracy}\")\n",
    "print(f\"Train set accuracy: {train_accuracy}\")"
   ]
  },
  {
   "cell_type": "markdown",
   "id": "0ec4cc4f",
   "metadata": {},
   "source": [
    "Accuracies are quite same but I would consider this slightly overfitting for k_neigbors equal to 11."
   ]
  },
  {
   "cell_type": "markdown",
   "id": "15441da9",
   "metadata": {},
   "source": [
    "__So we have achieved 66.2% accuracy with the KNN model.__"
   ]
  },
  {
   "cell_type": "markdown",
   "id": "838e1fe4",
   "metadata": {},
   "source": [
    "---"
   ]
  },
  {
   "cell_type": "markdown",
   "id": "5737186b",
   "metadata": {},
   "source": [
    "#### 2.e What is the issue with splitting the data into train and validation sets after performing vectorization?\n",
    "<a class ='anchor' id = 'Que2.e' ></a>"
   ]
  },
  {
   "cell_type": "markdown",
   "id": "8680c888",
   "metadata": {},
   "source": [
    "There is __data leakage__ between the remainder and validation sets when vectorization is done before the test-train split. Some of the information gets transfered between the train and validation sets if vectorization is done prior to the split."
   ]
  },
  {
   "cell_type": "markdown",
   "id": "91c6fd62",
   "metadata": {},
   "source": [
    "---"
   ]
  },
  {
   "cell_type": "markdown",
   "id": "af20e858",
   "metadata": {},
   "source": [
    "---"
   ]
  },
  {
   "cell_type": "markdown",
   "id": "17a9cded",
   "metadata": {},
   "source": [
    "### Question 3: Employ a Decision Tree classifier on this dataset:\n",
    "<a class ='anchor' id = 'Que3' ></a>"
   ]
  },
  {
   "cell_type": "code",
   "execution_count": 1188,
   "id": "784c91a1",
   "metadata": {},
   "outputs": [],
   "source": [
    "# loading the train dataset\n",
    "hotel_df = pd.read_csv('clean_train_dataframe.csv')"
   ]
  },
  {
   "cell_type": "code",
   "execution_count": 1189,
   "id": "c7cd249e",
   "metadata": {},
   "outputs": [],
   "source": [
    "# loading the test dataset\n",
    "test_df = pd.read_csv('clean_test_dataframe.csv')"
   ]
  },
  {
   "cell_type": "code",
   "execution_count": 1190,
   "id": "71af8202",
   "metadata": {},
   "outputs": [],
   "source": [
    "# instantiating our independent and dependent variables \n",
    "X_train = hotel_df.drop(columns=\"rating\")\n",
    "y_train = hotel_df[\"rating\"]"
   ]
  },
  {
   "cell_type": "code",
   "execution_count": 1191,
   "id": "709e71f9",
   "metadata": {},
   "outputs": [],
   "source": [
    "# instantiating our independent and dependent variables \n",
    "X_test = test_df.drop(columns=\"rating\")\n",
    "y_test = test_df[\"rating\"]"
   ]
  },
  {
   "cell_type": "markdown",
   "id": "5ec45e8f",
   "metadata": {},
   "source": [
    "#### 3.a Fit a decision tree model to this data. What is the accuracy score on the test set?\n",
    "<a class ='anchor' id = 'Que3.a' ></a>"
   ]
  },
  {
   "cell_type": "markdown",
   "id": "f5bb1000",
   "metadata": {},
   "source": [
    "Since the model results do not change either __we scale the data or not__, so let's make the model without scaling the independent variables."
   ]
  },
  {
   "cell_type": "code",
   "execution_count": 1192,
   "id": "e6357ee1",
   "metadata": {},
   "outputs": [
    {
     "name": "stdout",
     "output_type": "stream",
     "text": [
      "DT accuracy score on training set: 1.000\n",
      "DT accuracy score on test set: 0.697\n"
     ]
    }
   ],
   "source": [
    "# running a decision tree model\n",
    "DTmodel = DecisionTreeClassifier()\n",
    "DTmodel.fit(X_train, y_train)\n",
    "\n",
    "print(f\"DT accuracy score on training set: {DTmodel.score(X_train, y_train):0.3f}\")\n",
    "print(f\"DT accuracy score on test set: {DTmodel.score(X_test, y_test):0.3f}\")"
   ]
  },
  {
   "cell_type": "markdown",
   "id": "87e70579",
   "metadata": {},
   "source": [
    "Decision tree model __highly overfits__ the data which is not a good sign. A good combination of parameter and hyperparameter is required to optimize and perfectly fit the model.\n",
    "\n",
    "\n",
    "One more thing to note is that DT classifier model generally overfits when the dataset is quite huge, like in this case."
   ]
  },
  {
   "cell_type": "markdown",
   "id": "0724afa5",
   "metadata": {},
   "source": [
    "---"
   ]
  },
  {
   "cell_type": "markdown",
   "id": "b9f3ca70",
   "metadata": {},
   "source": [
    "#### 3.b Use the data set (or a subsample) to find an optimal value for the maximum depth of the decision tree. You will need to split your data set into train and validation.\n",
    "<a class ='anchor' id = 'Que3.b' ></a>"
   ]
  },
  {
   "cell_type": "code",
   "execution_count": 1193,
   "id": "882f6d0e",
   "metadata": {},
   "outputs": [],
   "source": [
    "# takeing 60% sample from the dataset\n",
    "hotel2_df = hotel_df.sample(frac=0.6, random_state=1)"
   ]
  },
  {
   "cell_type": "code",
   "execution_count": 1194,
   "id": "8ce2de95",
   "metadata": {},
   "outputs": [
    {
     "data": {
      "text/plain": [
       "(7679, 2744)"
      ]
     },
     "execution_count": 1194,
     "metadata": {},
     "output_type": "execute_result"
    }
   ],
   "source": [
    "# checking shape \n",
    "hotel2_df.shape"
   ]
  },
  {
   "cell_type": "code",
   "execution_count": 1195,
   "id": "eaf840b3",
   "metadata": {},
   "outputs": [],
   "source": [
    "# instantiating our independent and dependent variables on train set\n",
    "X_train = hotel2_df.drop(columns=\"rating\")\n",
    "y_train = hotel2_df[\"rating\"]"
   ]
  },
  {
   "cell_type": "code",
   "execution_count": 1196,
   "id": "4e96fc5d",
   "metadata": {},
   "outputs": [],
   "source": [
    "# instantiating our independent and dependent variables on test set\n",
    "X_test = test_df.drop(columns=\"rating\")\n",
    "y_test = test_df[\"rating\"]"
   ]
  },
  {
   "cell_type": "markdown",
   "id": "963a645c",
   "metadata": {},
   "source": [
    "Let's split the data into remainder and validation sets."
   ]
  },
  {
   "cell_type": "code",
   "execution_count": 1197,
   "id": "85392bed",
   "metadata": {},
   "outputs": [],
   "source": [
    "# splitting our data into remainder and validation sets\n",
    "from sklearn.model_selection import train_test_split\n",
    "\n",
    "X_remainder, X_validation, y_remainder, y_validation = train_test_split(X_train, y_train, test_size=0.33, random_state=1, stratify=y_train)"
   ]
  },
  {
   "cell_type": "code",
   "execution_count": 1198,
   "id": "41f408f8",
   "metadata": {},
   "outputs": [],
   "source": [
    "import warnings\n",
    "warnings.filterwarnings('ignore')"
   ]
  },
  {
   "cell_type": "code",
   "execution_count": 1199,
   "id": "9ce11873",
   "metadata": {},
   "outputs": [
    {
     "name": "stdout",
     "output_type": "stream",
     "text": [
      "My best score is: 0.7384615384615385\n",
      "   Depth  Remainder Score  Validation Score\n",
      "4    5.0         0.762247          0.738462\n"
     ]
    }
   ],
   "source": [
    "# iterating over a range of hyperparameters\n",
    "scores = pd.DataFrame()\n",
    "\n",
    "depth_range = 21\n",
    "\n",
    "for max_depth in range(1, depth_range):\n",
    "    dt_model = DecisionTreeClassifier(max_depth=max_depth)\n",
    "    dt_model.fit(X_remainder, y_remainder)\n",
    "    \n",
    "    # Scoring\n",
    "    remainder_score = dt_model.score(X_remainder, y_remainder)\n",
    "    validation_score = dt_model.score(X_validation, y_validation)\n",
    "    \n",
    "\n",
    "    scores = scores.append({'Depth': max_depth, 'Remainder Score': remainder_score, 'Validation Score': validation_score}, ignore_index=True)\n",
    "    \n",
    "best_score = scores['Validation Score'].max()\n",
    "\n",
    "print(\"My best score is:\", best_score)\n",
    "print(scores[scores['Validation Score'] == best_score])"
   ]
  },
  {
   "cell_type": "markdown",
   "id": "947c72d5",
   "metadata": {},
   "source": [
    "The range of the `max_depth`, that is, 21 is good in this case as after `max_depth` of 7, model starts highly overfitting the data as can be seen from the below graph. The accuracy scores of both the sets become wider and wider with increase in value of `max_depth` "
   ]
  },
  {
   "cell_type": "code",
   "execution_count": 1200,
   "id": "31fc203d",
   "metadata": {
    "scrolled": true
   },
   "outputs": [
    {
     "data": {
      "image/png": "[encoded data removed]",
      "text/plain": [
       "<Figure size 720x360 with 1 Axes>"
      ]
     },
     "metadata": {
      "needs_background": "light"
     },
     "output_type": "display_data"
    }
   ],
   "source": [
    "# comparison plot\n",
    "plt.figure(figsize=(10,5))\n",
    "plt.plot('Depth', 'Remainder Score', data=scores)\n",
    "plt.plot('Depth', 'Validation Score', data=scores)\n",
    "plt.title('Accuracies as Depth Changes')\n",
    "plt.xlabel('Depth')\n",
    "plt.xticks(range(1,depth_range, 2))\n",
    "plt.ylabel('Accuracy Score')\n",
    "plt.legend()\n",
    "plt.show()"
   ]
  },
  {
   "cell_type": "markdown",
   "id": "958dc27b",
   "metadata": {},
   "source": [
    "As we can interpret from the above graph that optimal `max_depth` is 5 and score for validation set is also just below the remainder set, which means that this model fits perfectly to the data."
   ]
  },
  {
   "cell_type": "markdown",
   "id": "2bdb4aef",
   "metadata": {},
   "source": [
    "Let's calculate the accuracy on the decision tree model when `max_depth` = 5"
   ]
  },
  {
   "cell_type": "code",
   "execution_count": 1201,
   "id": "8df097db",
   "metadata": {},
   "outputs": [
    {
     "name": "stdout",
     "output_type": "stream",
     "text": [
      "DT accuracy score on training set: 0.761\n",
      "DT accuracy score on test set: 0.743\n"
     ]
    }
   ],
   "source": [
    "# running a decision tree model\n",
    "DTmodel = DecisionTreeClassifier(max_depth=5)\n",
    "DTmodel.fit(X_train, y_train)\n",
    "\n",
    "print(f\"DT accuracy score on training set: {DTmodel.score(X_train, y_train):0.3f}\")\n",
    "print(f\"DT accuracy score on test set: {DTmodel.score(X_test, y_test):0.3f}\")"
   ]
  },
  {
   "cell_type": "markdown",
   "id": "8afb9734",
   "metadata": {},
   "source": [
    "From above we can see that accuracy of the model has increased and it also is not overfitting the data."
   ]
  },
  {
   "cell_type": "markdown",
   "id": "e63a638c",
   "metadata": {},
   "source": [
    "Let's see how much time does the decision tree model takes to run."
   ]
  },
  {
   "cell_type": "code",
   "execution_count": 1202,
   "id": "994ca649",
   "metadata": {},
   "outputs": [
    {
     "name": "stdout",
     "output_type": "stream",
     "text": [
      "397 ms ± 18.4 ms per loop (mean ± std. dev. of 7 runs, 1 loop each)\n"
     ]
    }
   ],
   "source": [
    "%%timeit\n",
    "DTmodel.fit(X_train, y_train)"
   ]
  },
  {
   "cell_type": "markdown",
   "id": "f2385b9f",
   "metadata": {},
   "source": [
    "Let's run the model on the original dataset now."
   ]
  },
  {
   "cell_type": "code",
   "execution_count": 1203,
   "id": "195ac2f3",
   "metadata": {},
   "outputs": [],
   "source": [
    "# instantiating our independent and dependent variables on train set\n",
    "X_train = hotel_df.drop(columns=\"rating\")\n",
    "y_train = hotel_df[\"rating\"]"
   ]
  },
  {
   "cell_type": "code",
   "execution_count": 1204,
   "id": "b7afca53",
   "metadata": {},
   "outputs": [
    {
     "name": "stdout",
     "output_type": "stream",
     "text": [
      "DT accuracy score on training set: 0.755\n",
      "DT accuracy score on test set: 0.740\n"
     ]
    }
   ],
   "source": [
    "# running a decision tree model\n",
    "DTmodel = DecisionTreeClassifier(max_depth=5)\n",
    "DTmodel.fit(X_train, y_train)\n",
    "\n",
    "print(f\"DT accuracy score on training set: {DTmodel.score(X_train, y_train):0.3f}\")\n",
    "print(f\"DT accuracy score on test set: {DTmodel.score(X_test, y_test):0.3f}\")"
   ]
  },
  {
   "cell_type": "markdown",
   "id": "9c89152a",
   "metadata": {},
   "source": [
    "So by decision tree model we got the __accuracy of 74%__ and there are no chances of overfitting at all."
   ]
  },
  {
   "cell_type": "code",
   "execution_count": 1205,
   "id": "874e35b8",
   "metadata": {},
   "outputs": [
    {
     "name": "stdout",
     "output_type": "stream",
     "text": [
      "697 ms ± 25.4 ms per loop (mean ± std. dev. of 7 runs, 1 loop each)\n"
     ]
    }
   ],
   "source": [
    "%%timeit\n",
    "DTmodel.fit(X_train, y_train)"
   ]
  },
  {
   "cell_type": "markdown",
   "id": "efedfc1e",
   "metadata": {},
   "source": [
    "---"
   ]
  },
  {
   "cell_type": "markdown",
   "id": "649c110b",
   "metadata": {},
   "source": [
    "#### Question 3.c Provide two advantages of decision trees over KNN. Provide two weaknesses of decision trees (classification or regression trees)\n",
    "<a class ='anchor' id = 'Que3.c' ></a>"
   ]
  },
  {
   "cell_type": "markdown",
   "id": "88b3a37c",
   "metadata": {},
   "source": [
    "__Advantages:__ \n",
    "1. As we have that KNN model is computational extensive model and thus takes a lot of time to run, whereas Decision Tree is relatively much faster.\n"
   ]
  },
  {
   "cell_type": "markdown",
   "id": "51d3db06",
   "metadata": {},
   "source": [
    "2. Decision Tree model works in a way that it goes point by point and then keeps on classifying whereas in KNN, unit distance is measured between points, which means that data should be scaled for KNN. However, decision tree model does not require this condition."
   ]
  },
  {
   "cell_type": "markdown",
   "id": "38bceef9",
   "metadata": {},
   "source": [
    "__Weeknesses of Decision tress:__\n",
    "1. Decision trees performs very poorly in terms of classification trees as it mostly overfits the data"
   ]
  },
  {
   "cell_type": "markdown",
   "id": "20a9df66",
   "metadata": {},
   "source": [
    "\n",
    "2. Tree structure prone to sampling – While Decision Trees are generally robust to outliers, due to their tendency to overfit, they are prone to sampling errors. If sampled training data is somewhat different than evaluation or scoring data, then Decision Trees tend not to produce great results.\n"
   ]
  },
  {
   "cell_type": "markdown",
   "id": "635baebc",
   "metadata": {},
   "source": [
    "3. It can't be used in big data: If the size of data is too big, then one single tree may grow a lot of nodes which might result in complexity and leads to overfitting. There is no guarantee to return the 100% efficient decision tree."
   ]
  },
  {
   "cell_type": "markdown",
   "id": "a2cc8142",
   "metadata": {},
   "source": [
    "4. They are unstable, meaning that a small change in the data can lead to a large change in the structure of the optimal decision tree. They are often relatively inaccurate. Many other predictors perform better with similar data."
   ]
  },
  {
   "cell_type": "markdown",
   "id": "e2855f98",
   "metadata": {},
   "source": [
    "---"
   ]
  },
  {
   "cell_type": "markdown",
   "id": "c6671a96",
   "metadata": {},
   "source": [
    "---"
   ]
  },
  {
   "cell_type": "markdown",
   "id": "65afcea3",
   "metadata": {},
   "source": [
    "### Question 4: What is the purpose of the validation set, i.e., how is it different than the test set?\n",
    "<a class ='anchor' id = 'Que4' ></a>"
   ]
  },
  {
   "cell_type": "markdown",
   "id": "3b189777",
   "metadata": {},
   "source": [
    "1. **Validation**: Used to tune a model's hyperparameters, such as the regularization penalty in logistic regression. This serves as a somewhat unbiased estimate of the model's performance. Since the model is not fitted on this data it should not overfit when using the `fit` parameter to it. But since we are adjusting the hyperparameters on this set we still implicitly overfit to it.\n",
    "2. **Test**: Used to provide a totally unbiased estimate of the model's performance. This is data the model has never seen; it should serve as a good predictor for the model's performance once deployed and making prediction on new data.\n"
   ]
  },
  {
   "cell_type": "markdown",
   "id": "339a6e7a",
   "metadata": {},
   "source": [
    "<img src = \"http://drive.google.com/uc?export=view&id=1qUP76zVM-zyePrTcl3PGVefNBTfVKWWw\" width = 500>\n",
    "<center> <i><a href=\"https://miro.medium.com/max/1400/1*Nv2NNALuokZEcV6hYEHdGA.png\">Image Source</a></i></center>\n"
   ]
  },
  {
   "cell_type": "markdown",
   "id": "da061ffe",
   "metadata": {},
   "source": [
    "---\n"
   ]
  },
  {
   "cell_type": "markdown",
   "id": "b2416e0d",
   "metadata": {},
   "source": [
    "---"
   ]
  },
  {
   "cell_type": "markdown",
   "id": "a57789a5",
   "metadata": {},
   "source": [
    "### Question 5: Re-run a decision tree or logistic regression on the data again:\n",
    "<a class ='anchor' id = 'Que5' ></a>"
   ]
  },
  {
   "cell_type": "markdown",
   "id": "4f9c932f",
   "metadata": {},
   "source": [
    "#### Question 5.a Perform a 5-fold cross validation to optimize the hyperparameters of your model.\n",
    "<a class ='anchor' id = 'Que5.a' ></a>"
   ]
  },
  {
   "cell_type": "markdown",
   "id": "1bdd23d7",
   "metadata": {},
   "source": [
    "Do scaling here first, then implement the model.\n"
   ]
  },
  {
   "cell_type": "code",
   "execution_count": 1221,
   "id": "d1c9cf8c",
   "metadata": {},
   "outputs": [],
   "source": [
    "# takeing 60% sample from the dataset\n",
    "hotel2_df = hotel_df.sample(frac=0.6, random_state=1)"
   ]
  },
  {
   "cell_type": "code",
   "execution_count": 1222,
   "id": "10a38bd6",
   "metadata": {},
   "outputs": [],
   "source": [
    "# instantiating our independent and dependent variables \n",
    "X_train = hotel2_df.drop(columns=\"rating\")\n",
    "y_train = hotel2_df[\"rating\"]"
   ]
  },
  {
   "cell_type": "code",
   "execution_count": 1223,
   "id": "d0f8450c",
   "metadata": {},
   "outputs": [],
   "source": [
    "# instantiating our independent and dependent variables \n",
    "X_test = test_df.drop(columns=\"rating\")\n",
    "y_test = test_df[\"rating\"]"
   ]
  },
  {
   "cell_type": "code",
   "execution_count": 1209,
   "id": "1ef25bcc",
   "metadata": {},
   "outputs": [],
   "source": [
    "X_remainder, X_validation, y_remainder, y_validation = train_test_split(X_train, y_train, test_size=0.1, random_state=1, stratify=y_train)"
   ]
  },
  {
   "cell_type": "code",
   "execution_count": 1210,
   "id": "2429e3c4",
   "metadata": {},
   "outputs": [],
   "source": [
    "# scale the data \n",
    "SS = StandardScaler()\n",
    "\n",
    "# Fit the scaler and transform both data subsets\n",
    "X_remainder_ss = SS.fit_transform(X_remainder)\n",
    "X_validation_ss = SS.transform(X_validation)"
   ]
  },
  {
   "cell_type": "markdown",
   "id": "65bf4bf5",
   "metadata": {},
   "source": [
    "Now our reminder and validation sets are scaled, let's find the best hypermeters for our logistic regression model."
   ]
  },
  {
   "cell_type": "code",
   "execution_count": 1211,
   "id": "c8ff2227",
   "metadata": {},
   "outputs": [],
   "source": [
    "from sklearn.model_selection import cross_val_score"
   ]
  },
  {
   "cell_type": "code",
   "execution_count": 1212,
   "id": "219ca853",
   "metadata": {
    "scrolled": true
   },
   "outputs": [
    {
     "data": {
      "image/png": "[encoded data removed]",
      "text/plain": [
       "<Figure size 432x288 with 1 Axes>"
      ]
     },
     "metadata": {
      "needs_background": "light"
     },
     "output_type": "display_data"
    }
   ],
   "source": [
    "#Store the results\n",
    "cross_validation_scores = []\n",
    "\n",
    "C_range = np.array([.00000001,.0000001,.000001,.00001,.0001,.001,.1,\\\n",
    "                1,10,100,1000,10000,100000,1000000,10000000,100000000,1000000000])\n",
    "\n",
    "#Do some cross validation\n",
    "for c in C_range:\n",
    "    LR_model = LogisticRegression(C=c,random_state=1)\n",
    "    \n",
    "    # the cross validation score (mean of scores from all folds)\n",
    "    cv_score = np.mean(cross_val_score(LR_model, X_remainder_ss, y_remainder, cv = 5))\n",
    "    \n",
    "    cross_validation_scores.append(cv_score)\n",
    "\n",
    "plt.figure()\n",
    "plt.plot(C_range, cross_validation_scores,label=\"Cross Validation Score\",marker='.')\n",
    "plt.legend()\n",
    "plt.xscale(\"log\")\n",
    "plt.xlabel('Regularization Parameter: C')\n",
    "plt.ylabel('Cross Validation Score')\n",
    "plt.grid()\n",
    "plt.show();"
   ]
  },
  {
   "cell_type": "markdown",
   "id": "0300b040",
   "metadata": {},
   "source": [
    "Best C: 0.001"
   ]
  },
  {
   "cell_type": "markdown",
   "id": "85e1d1d6",
   "metadata": {},
   "source": [
    "Now let's test this on the main dataset and check the accuracy on the test set."
   ]
  },
  {
   "cell_type": "code",
   "execution_count": 1213,
   "id": "a0f7a381",
   "metadata": {},
   "outputs": [],
   "source": [
    "# instantiating our independent and dependent variables \n",
    "X_train = hotel_df.drop(columns=\"rating\")\n",
    "y_train = hotel_df[\"rating\"]"
   ]
  },
  {
   "cell_type": "code",
   "execution_count": 1214,
   "id": "be4baa3e",
   "metadata": {},
   "outputs": [],
   "source": [
    "# scale the data \n",
    "SS = StandardScaler()\n",
    "\n",
    "# Fit the scaler and transform both data subsets\n",
    "X_train_ss = SS.fit_transform(X_train)\n",
    "X_test_ss = SS.transform(X_test)"
   ]
  },
  {
   "cell_type": "code",
   "execution_count": 1215,
   "id": "35459892",
   "metadata": {},
   "outputs": [
    {
     "name": "stdout",
     "output_type": "stream",
     "text": [
      "Accuracy score of the TRAIN set: 0.8537271448663853\n",
      "Accuracy score of the TEST set: 0.777595500351535\n"
     ]
    }
   ],
   "source": [
    "# Fitting a model with C=0.001\n",
    "logreg = LogisticRegression(solver='lbfgs', C=0.001)\n",
    "logreg.fit(X_train_ss, y_train)\n",
    "\n",
    "# Training and test score\n",
    "print(f\"Accuracy score of the TRAIN set: {logreg.score(X_train_ss, y_train)}\")\n",
    "print(f\"Accuracy score of the TEST set: {logreg.score(X_test_ss, y_test)}\")"
   ]
  },
  {
   "cell_type": "markdown",
   "id": "d4cb71e8",
   "metadata": {},
   "source": [
    "Little bit of overfitting can be seen from thr above result, however this is the best accuracy achieved with the logreg model."
   ]
  },
  {
   "cell_type": "markdown",
   "id": "3f2e7d0b",
   "metadata": {},
   "source": [
    "---"
   ]
  },
  {
   "cell_type": "markdown",
   "id": "828d7e29",
   "metadata": {},
   "source": [
    "#### Another way of doing the problem but this has a lot of runtime"
   ]
  },
  {
   "cell_type": "code",
   "execution_count": 1216,
   "id": "7dedce6c",
   "metadata": {},
   "outputs": [],
   "source": [
    "from sklearn import decomposition, datasets\n",
    "from sklearn import tree\n",
    "from sklearn.pipeline import Pipeline\n",
    "from sklearn.model_selection import GridSearchCV\n",
    "from sklearn.decomposition import KernelPCA"
   ]
  },
  {
   "cell_type": "code",
   "execution_count": 1224,
   "id": "b61a3613",
   "metadata": {},
   "outputs": [],
   "source": [
    "# Create placeholders for all three steps\n",
    "estimators = [\n",
    "    ('scaler', StandardScaler()),\n",
    "    ('dim_reducer', PCA()), # NOTE: You can't use TSNE here since it doesn't have a .transform method\n",
    "    ('model', DecisionTreeClassifier())\n",
    "]\n",
    "\n",
    "my_pipe = Pipeline(estimators)"
   ]
  },
  {
   "cell_type": "markdown",
   "id": "871fe603",
   "metadata": {},
   "source": [
    "The following program has a lot of runtime."
   ]
  },
  {
   "cell_type": "code",
   "execution_count": 1226,
   "id": "fc833b1c",
   "metadata": {},
   "outputs": [
    {
     "ename": "KeyboardInterrupt",
     "evalue": "",
     "output_type": "error",
     "traceback": [
      "\u001b[1;31m---------------------------------------------------------------------------\u001b[0m",
      "\u001b[1;31mKeyboardInterrupt\u001b[0m                         Traceback (most recent call last)",
      "Input \u001b[1;32mIn [1226]\u001b[0m, in \u001b[0;36m<cell line: 15>\u001b[1;34m()\u001b[0m\n\u001b[0;32m      1\u001b[0m param_grid \u001b[38;5;241m=\u001b[39m [\n\u001b[0;32m      2\u001b[0m     {\n\u001b[0;32m      3\u001b[0m         \u001b[38;5;124m'\u001b[39m\u001b[38;5;124mmodel\u001b[39m\u001b[38;5;124m'\u001b[39m: [DecisionTreeClassifier()], \n\u001b[1;32m   (...)\u001b[0m\n\u001b[0;32m     10\u001b[0m     }\n\u001b[0;32m     11\u001b[0m ]\n\u001b[0;32m     13\u001b[0m grid \u001b[38;5;241m=\u001b[39m GridSearchCV(my_pipe, param_grid, cv\u001b[38;5;241m=\u001b[39m\u001b[38;5;241m5\u001b[39m)\n\u001b[1;32m---> 15\u001b[0m fittedgrid \u001b[38;5;241m=\u001b[39m \u001b[43mgrid\u001b[49m\u001b[38;5;241;43m.\u001b[39;49m\u001b[43mfit\u001b[49m\u001b[43m(\u001b[49m\u001b[43mX_train\u001b[49m\u001b[43m,\u001b[49m\u001b[43m \u001b[49m\u001b[43my_train\u001b[49m\u001b[43m)\u001b[49m\n",
      "File \u001b[1;32m~\\anaconda3\\lib\\site-packages\\sklearn\\model_selection\\_search.py:891\u001b[0m, in \u001b[0;36mBaseSearchCV.fit\u001b[1;34m(self, X, y, groups, **fit_params)\u001b[0m\n\u001b[0;32m    885\u001b[0m     results \u001b[38;5;241m=\u001b[39m \u001b[38;5;28mself\u001b[39m\u001b[38;5;241m.\u001b[39m_format_results(\n\u001b[0;32m    886\u001b[0m         all_candidate_params, n_splits, all_out, all_more_results\n\u001b[0;32m    887\u001b[0m     )\n\u001b[0;32m    889\u001b[0m     \u001b[38;5;28;01mreturn\u001b[39;00m results\n\u001b[1;32m--> 891\u001b[0m \u001b[38;5;28;43mself\u001b[39;49m\u001b[38;5;241;43m.\u001b[39;49m\u001b[43m_run_search\u001b[49m\u001b[43m(\u001b[49m\u001b[43mevaluate_candidates\u001b[49m\u001b[43m)\u001b[49m\n\u001b[0;32m    893\u001b[0m \u001b[38;5;66;03m# multimetric is determined here because in the case of a callable\u001b[39;00m\n\u001b[0;32m    894\u001b[0m \u001b[38;5;66;03m# self.scoring the return type is only known after calling\u001b[39;00m\n\u001b[0;32m    895\u001b[0m first_test_score \u001b[38;5;241m=\u001b[39m all_out[\u001b[38;5;241m0\u001b[39m][\u001b[38;5;124m\"\u001b[39m\u001b[38;5;124mtest_scores\u001b[39m\u001b[38;5;124m\"\u001b[39m]\n",
      "File \u001b[1;32m~\\anaconda3\\lib\\site-packages\\sklearn\\model_selection\\_search.py:1392\u001b[0m, in \u001b[0;36mGridSearchCV._run_search\u001b[1;34m(self, evaluate_candidates)\u001b[0m\n\u001b[0;32m   1390\u001b[0m \u001b[38;5;28;01mdef\u001b[39;00m \u001b[38;5;21m_run_search\u001b[39m(\u001b[38;5;28mself\u001b[39m, evaluate_candidates):\n\u001b[0;32m   1391\u001b[0m     \u001b[38;5;124;03m\"\"\"Search all candidates in param_grid\"\"\"\u001b[39;00m\n\u001b[1;32m-> 1392\u001b[0m     \u001b[43mevaluate_candidates\u001b[49m\u001b[43m(\u001b[49m\u001b[43mParameterGrid\u001b[49m\u001b[43m(\u001b[49m\u001b[38;5;28;43mself\u001b[39;49m\u001b[38;5;241;43m.\u001b[39;49m\u001b[43mparam_grid\u001b[49m\u001b[43m)\u001b[49m\u001b[43m)\u001b[49m\n",
      "File \u001b[1;32m~\\anaconda3\\lib\\site-packages\\sklearn\\model_selection\\_search.py:838\u001b[0m, in \u001b[0;36mBaseSearchCV.fit.<locals>.evaluate_candidates\u001b[1;34m(candidate_params, cv, more_results)\u001b[0m\n\u001b[0;32m    830\u001b[0m \u001b[38;5;28;01mif\u001b[39;00m \u001b[38;5;28mself\u001b[39m\u001b[38;5;241m.\u001b[39mverbose \u001b[38;5;241m>\u001b[39m \u001b[38;5;241m0\u001b[39m:\n\u001b[0;32m    831\u001b[0m     \u001b[38;5;28mprint\u001b[39m(\n\u001b[0;32m    832\u001b[0m         \u001b[38;5;124m\"\u001b[39m\u001b[38;5;124mFitting \u001b[39m\u001b[38;5;132;01m{0}\u001b[39;00m\u001b[38;5;124m folds for each of \u001b[39m\u001b[38;5;132;01m{1}\u001b[39;00m\u001b[38;5;124m candidates,\u001b[39m\u001b[38;5;124m\"\u001b[39m\n\u001b[0;32m    833\u001b[0m         \u001b[38;5;124m\"\u001b[39m\u001b[38;5;124m totalling \u001b[39m\u001b[38;5;132;01m{2}\u001b[39;00m\u001b[38;5;124m fits\u001b[39m\u001b[38;5;124m\"\u001b[39m\u001b[38;5;241m.\u001b[39mformat(\n\u001b[0;32m    834\u001b[0m             n_splits, n_candidates, n_candidates \u001b[38;5;241m*\u001b[39m n_splits\n\u001b[0;32m    835\u001b[0m         )\n\u001b[0;32m    836\u001b[0m     )\n\u001b[1;32m--> 838\u001b[0m out \u001b[38;5;241m=\u001b[39m \u001b[43mparallel\u001b[49m\u001b[43m(\u001b[49m\n\u001b[0;32m    839\u001b[0m \u001b[43m    \u001b[49m\u001b[43mdelayed\u001b[49m\u001b[43m(\u001b[49m\u001b[43m_fit_and_score\u001b[49m\u001b[43m)\u001b[49m\u001b[43m(\u001b[49m\n\u001b[0;32m    840\u001b[0m \u001b[43m        \u001b[49m\u001b[43mclone\u001b[49m\u001b[43m(\u001b[49m\u001b[43mbase_estimator\u001b[49m\u001b[43m)\u001b[49m\u001b[43m,\u001b[49m\n\u001b[0;32m    841\u001b[0m \u001b[43m        \u001b[49m\u001b[43mX\u001b[49m\u001b[43m,\u001b[49m\n\u001b[0;32m    842\u001b[0m \u001b[43m        \u001b[49m\u001b[43my\u001b[49m\u001b[43m,\u001b[49m\n\u001b[0;32m    843\u001b[0m \u001b[43m        \u001b[49m\u001b[43mtrain\u001b[49m\u001b[38;5;241;43m=\u001b[39;49m\u001b[43mtrain\u001b[49m\u001b[43m,\u001b[49m\n\u001b[0;32m    844\u001b[0m \u001b[43m        \u001b[49m\u001b[43mtest\u001b[49m\u001b[38;5;241;43m=\u001b[39;49m\u001b[43mtest\u001b[49m\u001b[43m,\u001b[49m\n\u001b[0;32m    845\u001b[0m \u001b[43m        \u001b[49m\u001b[43mparameters\u001b[49m\u001b[38;5;241;43m=\u001b[39;49m\u001b[43mparameters\u001b[49m\u001b[43m,\u001b[49m\n\u001b[0;32m    846\u001b[0m \u001b[43m        \u001b[49m\u001b[43msplit_progress\u001b[49m\u001b[38;5;241;43m=\u001b[39;49m\u001b[43m(\u001b[49m\u001b[43msplit_idx\u001b[49m\u001b[43m,\u001b[49m\u001b[43m \u001b[49m\u001b[43mn_splits\u001b[49m\u001b[43m)\u001b[49m\u001b[43m,\u001b[49m\n\u001b[0;32m    847\u001b[0m \u001b[43m        \u001b[49m\u001b[43mcandidate_progress\u001b[49m\u001b[38;5;241;43m=\u001b[39;49m\u001b[43m(\u001b[49m\u001b[43mcand_idx\u001b[49m\u001b[43m,\u001b[49m\u001b[43m \u001b[49m\u001b[43mn_candidates\u001b[49m\u001b[43m)\u001b[49m\u001b[43m,\u001b[49m\n\u001b[0;32m    848\u001b[0m \u001b[43m        \u001b[49m\u001b[38;5;241;43m*\u001b[39;49m\u001b[38;5;241;43m*\u001b[39;49m\u001b[43mfit_and_score_kwargs\u001b[49m\u001b[43m,\u001b[49m\n\u001b[0;32m    849\u001b[0m \u001b[43m    \u001b[49m\u001b[43m)\u001b[49m\n\u001b[0;32m    850\u001b[0m \u001b[43m    \u001b[49m\u001b[38;5;28;43;01mfor\u001b[39;49;00m\u001b[43m \u001b[49m\u001b[43m(\u001b[49m\u001b[43mcand_idx\u001b[49m\u001b[43m,\u001b[49m\u001b[43m \u001b[49m\u001b[43mparameters\u001b[49m\u001b[43m)\u001b[49m\u001b[43m,\u001b[49m\u001b[43m \u001b[49m\u001b[43m(\u001b[49m\u001b[43msplit_idx\u001b[49m\u001b[43m,\u001b[49m\u001b[43m \u001b[49m\u001b[43m(\u001b[49m\u001b[43mtrain\u001b[49m\u001b[43m,\u001b[49m\u001b[43m \u001b[49m\u001b[43mtest\u001b[49m\u001b[43m)\u001b[49m\u001b[43m)\u001b[49m\u001b[43m \u001b[49m\u001b[38;5;129;43;01min\u001b[39;49;00m\u001b[43m \u001b[49m\u001b[43mproduct\u001b[49m\u001b[43m(\u001b[49m\n\u001b[0;32m    851\u001b[0m \u001b[43m        \u001b[49m\u001b[38;5;28;43menumerate\u001b[39;49m\u001b[43m(\u001b[49m\u001b[43mcandidate_params\u001b[49m\u001b[43m)\u001b[49m\u001b[43m,\u001b[49m\u001b[43m \u001b[49m\u001b[38;5;28;43menumerate\u001b[39;49m\u001b[43m(\u001b[49m\u001b[43mcv\u001b[49m\u001b[38;5;241;43m.\u001b[39;49m\u001b[43msplit\u001b[49m\u001b[43m(\u001b[49m\u001b[43mX\u001b[49m\u001b[43m,\u001b[49m\u001b[43m \u001b[49m\u001b[43my\u001b[49m\u001b[43m,\u001b[49m\u001b[43m \u001b[49m\u001b[43mgroups\u001b[49m\u001b[43m)\u001b[49m\u001b[43m)\u001b[49m\n\u001b[0;32m    852\u001b[0m \u001b[43m    \u001b[49m\u001b[43m)\u001b[49m\n\u001b[0;32m    853\u001b[0m \u001b[43m\u001b[49m\u001b[43m)\u001b[49m\n\u001b[0;32m    855\u001b[0m \u001b[38;5;28;01mif\u001b[39;00m \u001b[38;5;28mlen\u001b[39m(out) \u001b[38;5;241m<\u001b[39m \u001b[38;5;241m1\u001b[39m:\n\u001b[0;32m    856\u001b[0m     \u001b[38;5;28;01mraise\u001b[39;00m \u001b[38;5;167;01mValueError\u001b[39;00m(\n\u001b[0;32m    857\u001b[0m         \u001b[38;5;124m\"\u001b[39m\u001b[38;5;124mNo fits were performed. \u001b[39m\u001b[38;5;124m\"\u001b[39m\n\u001b[0;32m    858\u001b[0m         \u001b[38;5;124m\"\u001b[39m\u001b[38;5;124mWas the CV iterator empty? \u001b[39m\u001b[38;5;124m\"\u001b[39m\n\u001b[0;32m    859\u001b[0m         \u001b[38;5;124m\"\u001b[39m\u001b[38;5;124mWere there no candidates?\u001b[39m\u001b[38;5;124m\"\u001b[39m\n\u001b[0;32m    860\u001b[0m     )\n",
      "File \u001b[1;32m~\\anaconda3\\lib\\site-packages\\joblib\\parallel.py:1046\u001b[0m, in \u001b[0;36mParallel.__call__\u001b[1;34m(self, iterable)\u001b[0m\n\u001b[0;32m   1043\u001b[0m \u001b[38;5;28;01mif\u001b[39;00m \u001b[38;5;28mself\u001b[39m\u001b[38;5;241m.\u001b[39mdispatch_one_batch(iterator):\n\u001b[0;32m   1044\u001b[0m     \u001b[38;5;28mself\u001b[39m\u001b[38;5;241m.\u001b[39m_iterating \u001b[38;5;241m=\u001b[39m \u001b[38;5;28mself\u001b[39m\u001b[38;5;241m.\u001b[39m_original_iterator \u001b[38;5;129;01mis\u001b[39;00m \u001b[38;5;129;01mnot\u001b[39;00m \u001b[38;5;28;01mNone\u001b[39;00m\n\u001b[1;32m-> 1046\u001b[0m \u001b[38;5;28;01mwhile\u001b[39;00m \u001b[38;5;28;43mself\u001b[39;49m\u001b[38;5;241;43m.\u001b[39;49m\u001b[43mdispatch_one_batch\u001b[49m\u001b[43m(\u001b[49m\u001b[43miterator\u001b[49m\u001b[43m)\u001b[49m:\n\u001b[0;32m   1047\u001b[0m     \u001b[38;5;28;01mpass\u001b[39;00m\n\u001b[0;32m   1049\u001b[0m \u001b[38;5;28;01mif\u001b[39;00m pre_dispatch \u001b[38;5;241m==\u001b[39m \u001b[38;5;124m\"\u001b[39m\u001b[38;5;124mall\u001b[39m\u001b[38;5;124m\"\u001b[39m \u001b[38;5;129;01mor\u001b[39;00m n_jobs \u001b[38;5;241m==\u001b[39m \u001b[38;5;241m1\u001b[39m:\n\u001b[0;32m   1050\u001b[0m     \u001b[38;5;66;03m# The iterable was consumed all at once by the above for loop.\u001b[39;00m\n\u001b[0;32m   1051\u001b[0m     \u001b[38;5;66;03m# No need to wait for async callbacks to trigger to\u001b[39;00m\n\u001b[0;32m   1052\u001b[0m     \u001b[38;5;66;03m# consumption.\u001b[39;00m\n",
      "File \u001b[1;32m~\\anaconda3\\lib\\site-packages\\joblib\\parallel.py:861\u001b[0m, in \u001b[0;36mParallel.dispatch_one_batch\u001b[1;34m(self, iterator)\u001b[0m\n\u001b[0;32m    859\u001b[0m     \u001b[38;5;28;01mreturn\u001b[39;00m \u001b[38;5;28;01mFalse\u001b[39;00m\n\u001b[0;32m    860\u001b[0m \u001b[38;5;28;01melse\u001b[39;00m:\n\u001b[1;32m--> 861\u001b[0m     \u001b[38;5;28;43mself\u001b[39;49m\u001b[38;5;241;43m.\u001b[39;49m\u001b[43m_dispatch\u001b[49m\u001b[43m(\u001b[49m\u001b[43mtasks\u001b[49m\u001b[43m)\u001b[49m\n\u001b[0;32m    862\u001b[0m     \u001b[38;5;28;01mreturn\u001b[39;00m \u001b[38;5;28;01mTrue\u001b[39;00m\n",
      "File \u001b[1;32m~\\anaconda3\\lib\\site-packages\\joblib\\parallel.py:779\u001b[0m, in \u001b[0;36mParallel._dispatch\u001b[1;34m(self, batch)\u001b[0m\n\u001b[0;32m    777\u001b[0m \u001b[38;5;28;01mwith\u001b[39;00m \u001b[38;5;28mself\u001b[39m\u001b[38;5;241m.\u001b[39m_lock:\n\u001b[0;32m    778\u001b[0m     job_idx \u001b[38;5;241m=\u001b[39m \u001b[38;5;28mlen\u001b[39m(\u001b[38;5;28mself\u001b[39m\u001b[38;5;241m.\u001b[39m_jobs)\n\u001b[1;32m--> 779\u001b[0m     job \u001b[38;5;241m=\u001b[39m \u001b[38;5;28;43mself\u001b[39;49m\u001b[38;5;241;43m.\u001b[39;49m\u001b[43m_backend\u001b[49m\u001b[38;5;241;43m.\u001b[39;49m\u001b[43mapply_async\u001b[49m\u001b[43m(\u001b[49m\u001b[43mbatch\u001b[49m\u001b[43m,\u001b[49m\u001b[43m \u001b[49m\u001b[43mcallback\u001b[49m\u001b[38;5;241;43m=\u001b[39;49m\u001b[43mcb\u001b[49m\u001b[43m)\u001b[49m\n\u001b[0;32m    780\u001b[0m     \u001b[38;5;66;03m# A job can complete so quickly than its callback is\u001b[39;00m\n\u001b[0;32m    781\u001b[0m     \u001b[38;5;66;03m# called before we get here, causing self._jobs to\u001b[39;00m\n\u001b[0;32m    782\u001b[0m     \u001b[38;5;66;03m# grow. To ensure correct results ordering, .insert is\u001b[39;00m\n\u001b[0;32m    783\u001b[0m     \u001b[38;5;66;03m# used (rather than .append) in the following line\u001b[39;00m\n\u001b[0;32m    784\u001b[0m     \u001b[38;5;28mself\u001b[39m\u001b[38;5;241m.\u001b[39m_jobs\u001b[38;5;241m.\u001b[39minsert(job_idx, job)\n",
      "File \u001b[1;32m~\\anaconda3\\lib\\site-packages\\joblib\\_parallel_backends.py:208\u001b[0m, in \u001b[0;36mSequentialBackend.apply_async\u001b[1;34m(self, func, callback)\u001b[0m\n\u001b[0;32m    206\u001b[0m \u001b[38;5;28;01mdef\u001b[39;00m \u001b[38;5;21mapply_async\u001b[39m(\u001b[38;5;28mself\u001b[39m, func, callback\u001b[38;5;241m=\u001b[39m\u001b[38;5;28;01mNone\u001b[39;00m):\n\u001b[0;32m    207\u001b[0m     \u001b[38;5;124;03m\"\"\"Schedule a func to be run\"\"\"\u001b[39;00m\n\u001b[1;32m--> 208\u001b[0m     result \u001b[38;5;241m=\u001b[39m \u001b[43mImmediateResult\u001b[49m\u001b[43m(\u001b[49m\u001b[43mfunc\u001b[49m\u001b[43m)\u001b[49m\n\u001b[0;32m    209\u001b[0m     \u001b[38;5;28;01mif\u001b[39;00m callback:\n\u001b[0;32m    210\u001b[0m         callback(result)\n",
      "File \u001b[1;32m~\\anaconda3\\lib\\site-packages\\joblib\\_parallel_backends.py:572\u001b[0m, in \u001b[0;36mImmediateResult.__init__\u001b[1;34m(self, batch)\u001b[0m\n\u001b[0;32m    569\u001b[0m \u001b[38;5;28;01mdef\u001b[39;00m \u001b[38;5;21m__init__\u001b[39m(\u001b[38;5;28mself\u001b[39m, batch):\n\u001b[0;32m    570\u001b[0m     \u001b[38;5;66;03m# Don't delay the application, to avoid keeping the input\u001b[39;00m\n\u001b[0;32m    571\u001b[0m     \u001b[38;5;66;03m# arguments in memory\u001b[39;00m\n\u001b[1;32m--> 572\u001b[0m     \u001b[38;5;28mself\u001b[39m\u001b[38;5;241m.\u001b[39mresults \u001b[38;5;241m=\u001b[39m \u001b[43mbatch\u001b[49m\u001b[43m(\u001b[49m\u001b[43m)\u001b[49m\n",
      "File \u001b[1;32m~\\anaconda3\\lib\\site-packages\\joblib\\parallel.py:262\u001b[0m, in \u001b[0;36mBatchedCalls.__call__\u001b[1;34m(self)\u001b[0m\n\u001b[0;32m    258\u001b[0m \u001b[38;5;28;01mdef\u001b[39;00m \u001b[38;5;21m__call__\u001b[39m(\u001b[38;5;28mself\u001b[39m):\n\u001b[0;32m    259\u001b[0m     \u001b[38;5;66;03m# Set the default nested backend to self._backend but do not set the\u001b[39;00m\n\u001b[0;32m    260\u001b[0m     \u001b[38;5;66;03m# change the default number of processes to -1\u001b[39;00m\n\u001b[0;32m    261\u001b[0m     \u001b[38;5;28;01mwith\u001b[39;00m parallel_backend(\u001b[38;5;28mself\u001b[39m\u001b[38;5;241m.\u001b[39m_backend, n_jobs\u001b[38;5;241m=\u001b[39m\u001b[38;5;28mself\u001b[39m\u001b[38;5;241m.\u001b[39m_n_jobs):\n\u001b[1;32m--> 262\u001b[0m         \u001b[38;5;28;01mreturn\u001b[39;00m [func(\u001b[38;5;241m*\u001b[39margs, \u001b[38;5;241m*\u001b[39m\u001b[38;5;241m*\u001b[39mkwargs)\n\u001b[0;32m    263\u001b[0m                 \u001b[38;5;28;01mfor\u001b[39;00m func, args, kwargs \u001b[38;5;129;01min\u001b[39;00m \u001b[38;5;28mself\u001b[39m\u001b[38;5;241m.\u001b[39mitems]\n",
      "File \u001b[1;32m~\\anaconda3\\lib\\site-packages\\joblib\\parallel.py:262\u001b[0m, in \u001b[0;36m<listcomp>\u001b[1;34m(.0)\u001b[0m\n\u001b[0;32m    258\u001b[0m \u001b[38;5;28;01mdef\u001b[39;00m \u001b[38;5;21m__call__\u001b[39m(\u001b[38;5;28mself\u001b[39m):\n\u001b[0;32m    259\u001b[0m     \u001b[38;5;66;03m# Set the default nested backend to self._backend but do not set the\u001b[39;00m\n\u001b[0;32m    260\u001b[0m     \u001b[38;5;66;03m# change the default number of processes to -1\u001b[39;00m\n\u001b[0;32m    261\u001b[0m     \u001b[38;5;28;01mwith\u001b[39;00m parallel_backend(\u001b[38;5;28mself\u001b[39m\u001b[38;5;241m.\u001b[39m_backend, n_jobs\u001b[38;5;241m=\u001b[39m\u001b[38;5;28mself\u001b[39m\u001b[38;5;241m.\u001b[39m_n_jobs):\n\u001b[1;32m--> 262\u001b[0m         \u001b[38;5;28;01mreturn\u001b[39;00m [func(\u001b[38;5;241m*\u001b[39margs, \u001b[38;5;241m*\u001b[39m\u001b[38;5;241m*\u001b[39mkwargs)\n\u001b[0;32m    263\u001b[0m                 \u001b[38;5;28;01mfor\u001b[39;00m func, args, kwargs \u001b[38;5;129;01min\u001b[39;00m \u001b[38;5;28mself\u001b[39m\u001b[38;5;241m.\u001b[39mitems]\n",
      "File \u001b[1;32m~\\anaconda3\\lib\\site-packages\\sklearn\\utils\\fixes.py:216\u001b[0m, in \u001b[0;36m_FuncWrapper.__call__\u001b[1;34m(self, *args, **kwargs)\u001b[0m\n\u001b[0;32m    214\u001b[0m \u001b[38;5;28;01mdef\u001b[39;00m \u001b[38;5;21m__call__\u001b[39m(\u001b[38;5;28mself\u001b[39m, \u001b[38;5;241m*\u001b[39margs, \u001b[38;5;241m*\u001b[39m\u001b[38;5;241m*\u001b[39mkwargs):\n\u001b[0;32m    215\u001b[0m     \u001b[38;5;28;01mwith\u001b[39;00m config_context(\u001b[38;5;241m*\u001b[39m\u001b[38;5;241m*\u001b[39m\u001b[38;5;28mself\u001b[39m\u001b[38;5;241m.\u001b[39mconfig):\n\u001b[1;32m--> 216\u001b[0m         \u001b[38;5;28;01mreturn\u001b[39;00m \u001b[38;5;28mself\u001b[39m\u001b[38;5;241m.\u001b[39mfunction(\u001b[38;5;241m*\u001b[39margs, \u001b[38;5;241m*\u001b[39m\u001b[38;5;241m*\u001b[39mkwargs)\n",
      "File \u001b[1;32m~\\anaconda3\\lib\\site-packages\\sklearn\\model_selection\\_validation.py:680\u001b[0m, in \u001b[0;36m_fit_and_score\u001b[1;34m(estimator, X, y, scorer, train, test, verbose, parameters, fit_params, return_train_score, return_parameters, return_n_test_samples, return_times, return_estimator, split_progress, candidate_progress, error_score)\u001b[0m\n\u001b[0;32m    678\u001b[0m         estimator\u001b[38;5;241m.\u001b[39mfit(X_train, \u001b[38;5;241m*\u001b[39m\u001b[38;5;241m*\u001b[39mfit_params)\n\u001b[0;32m    679\u001b[0m     \u001b[38;5;28;01melse\u001b[39;00m:\n\u001b[1;32m--> 680\u001b[0m         estimator\u001b[38;5;241m.\u001b[39mfit(X_train, y_train, \u001b[38;5;241m*\u001b[39m\u001b[38;5;241m*\u001b[39mfit_params)\n\u001b[0;32m    682\u001b[0m \u001b[38;5;28;01mexcept\u001b[39;00m \u001b[38;5;167;01mException\u001b[39;00m:\n\u001b[0;32m    683\u001b[0m     \u001b[38;5;66;03m# Note fit time as time until error\u001b[39;00m\n\u001b[0;32m    684\u001b[0m     fit_time \u001b[38;5;241m=\u001b[39m time\u001b[38;5;241m.\u001b[39mtime() \u001b[38;5;241m-\u001b[39m start_time\n",
      "File \u001b[1;32m~\\anaconda3\\lib\\site-packages\\sklearn\\pipeline.py:390\u001b[0m, in \u001b[0;36mPipeline.fit\u001b[1;34m(self, X, y, **fit_params)\u001b[0m\n\u001b[0;32m    364\u001b[0m \u001b[38;5;124;03m\"\"\"Fit the model.\u001b[39;00m\n\u001b[0;32m    365\u001b[0m \n\u001b[0;32m    366\u001b[0m \u001b[38;5;124;03mFit all the transformers one after the other and transform the\u001b[39;00m\n\u001b[1;32m   (...)\u001b[0m\n\u001b[0;32m    387\u001b[0m \u001b[38;5;124;03m    Pipeline with fitted steps.\u001b[39;00m\n\u001b[0;32m    388\u001b[0m \u001b[38;5;124;03m\"\"\"\u001b[39;00m\n\u001b[0;32m    389\u001b[0m fit_params_steps \u001b[38;5;241m=\u001b[39m \u001b[38;5;28mself\u001b[39m\u001b[38;5;241m.\u001b[39m_check_fit_params(\u001b[38;5;241m*\u001b[39m\u001b[38;5;241m*\u001b[39mfit_params)\n\u001b[1;32m--> 390\u001b[0m Xt \u001b[38;5;241m=\u001b[39m \u001b[38;5;28mself\u001b[39m\u001b[38;5;241m.\u001b[39m_fit(X, y, \u001b[38;5;241m*\u001b[39m\u001b[38;5;241m*\u001b[39mfit_params_steps)\n\u001b[0;32m    391\u001b[0m \u001b[38;5;28;01mwith\u001b[39;00m _print_elapsed_time(\u001b[38;5;124m\"\u001b[39m\u001b[38;5;124mPipeline\u001b[39m\u001b[38;5;124m\"\u001b[39m, \u001b[38;5;28mself\u001b[39m\u001b[38;5;241m.\u001b[39m_log_message(\u001b[38;5;28mlen\u001b[39m(\u001b[38;5;28mself\u001b[39m\u001b[38;5;241m.\u001b[39msteps) \u001b[38;5;241m-\u001b[39m \u001b[38;5;241m1\u001b[39m)):\n\u001b[0;32m    392\u001b[0m     \u001b[38;5;28;01mif\u001b[39;00m \u001b[38;5;28mself\u001b[39m\u001b[38;5;241m.\u001b[39m_final_estimator \u001b[38;5;241m!=\u001b[39m \u001b[38;5;124m\"\u001b[39m\u001b[38;5;124mpassthrough\u001b[39m\u001b[38;5;124m\"\u001b[39m:\n",
      "File \u001b[1;32m~\\anaconda3\\lib\\site-packages\\sklearn\\pipeline.py:348\u001b[0m, in \u001b[0;36mPipeline._fit\u001b[1;34m(self, X, y, **fit_params_steps)\u001b[0m\n\u001b[0;32m    346\u001b[0m     cloned_transformer \u001b[38;5;241m=\u001b[39m clone(transformer)\n\u001b[0;32m    347\u001b[0m \u001b[38;5;66;03m# Fit or load from cache the current transformer\u001b[39;00m\n\u001b[1;32m--> 348\u001b[0m X, fitted_transformer \u001b[38;5;241m=\u001b[39m fit_transform_one_cached(\n\u001b[0;32m    349\u001b[0m     cloned_transformer,\n\u001b[0;32m    350\u001b[0m     X,\n\u001b[0;32m    351\u001b[0m     y,\n\u001b[0;32m    352\u001b[0m     \u001b[38;5;28;01mNone\u001b[39;00m,\n\u001b[0;32m    353\u001b[0m     message_clsname\u001b[38;5;241m=\u001b[39m\u001b[38;5;124m\"\u001b[39m\u001b[38;5;124mPipeline\u001b[39m\u001b[38;5;124m\"\u001b[39m,\n\u001b[0;32m    354\u001b[0m     message\u001b[38;5;241m=\u001b[39m\u001b[38;5;28mself\u001b[39m\u001b[38;5;241m.\u001b[39m_log_message(step_idx),\n\u001b[0;32m    355\u001b[0m     \u001b[38;5;241m*\u001b[39m\u001b[38;5;241m*\u001b[39mfit_params_steps[name],\n\u001b[0;32m    356\u001b[0m )\n\u001b[0;32m    357\u001b[0m \u001b[38;5;66;03m# Replace the transformer of the step with the fitted\u001b[39;00m\n\u001b[0;32m    358\u001b[0m \u001b[38;5;66;03m# transformer. This is necessary when loading the transformer\u001b[39;00m\n\u001b[0;32m    359\u001b[0m \u001b[38;5;66;03m# from the cache.\u001b[39;00m\n\u001b[0;32m    360\u001b[0m \u001b[38;5;28mself\u001b[39m\u001b[38;5;241m.\u001b[39msteps[step_idx] \u001b[38;5;241m=\u001b[39m (name, fitted_transformer)\n",
      "File \u001b[1;32m~\\anaconda3\\lib\\site-packages\\joblib\\memory.py:349\u001b[0m, in \u001b[0;36mNotMemorizedFunc.__call__\u001b[1;34m(self, *args, **kwargs)\u001b[0m\n\u001b[0;32m    348\u001b[0m \u001b[38;5;28;01mdef\u001b[39;00m \u001b[38;5;21m__call__\u001b[39m(\u001b[38;5;28mself\u001b[39m, \u001b[38;5;241m*\u001b[39margs, \u001b[38;5;241m*\u001b[39m\u001b[38;5;241m*\u001b[39mkwargs):\n\u001b[1;32m--> 349\u001b[0m     \u001b[38;5;28;01mreturn\u001b[39;00m \u001b[38;5;28mself\u001b[39m\u001b[38;5;241m.\u001b[39mfunc(\u001b[38;5;241m*\u001b[39margs, \u001b[38;5;241m*\u001b[39m\u001b[38;5;241m*\u001b[39mkwargs)\n",
      "File \u001b[1;32m~\\anaconda3\\lib\\site-packages\\sklearn\\pipeline.py:893\u001b[0m, in \u001b[0;36m_fit_transform_one\u001b[1;34m(transformer, X, y, weight, message_clsname, message, **fit_params)\u001b[0m\n\u001b[0;32m    891\u001b[0m \u001b[38;5;28;01mwith\u001b[39;00m _print_elapsed_time(message_clsname, message):\n\u001b[0;32m    892\u001b[0m     \u001b[38;5;28;01mif\u001b[39;00m \u001b[38;5;28mhasattr\u001b[39m(transformer, \u001b[38;5;124m\"\u001b[39m\u001b[38;5;124mfit_transform\u001b[39m\u001b[38;5;124m\"\u001b[39m):\n\u001b[1;32m--> 893\u001b[0m         res \u001b[38;5;241m=\u001b[39m transformer\u001b[38;5;241m.\u001b[39mfit_transform(X, y, \u001b[38;5;241m*\u001b[39m\u001b[38;5;241m*\u001b[39mfit_params)\n\u001b[0;32m    894\u001b[0m     \u001b[38;5;28;01melse\u001b[39;00m:\n\u001b[0;32m    895\u001b[0m         res \u001b[38;5;241m=\u001b[39m transformer\u001b[38;5;241m.\u001b[39mfit(X, y, \u001b[38;5;241m*\u001b[39m\u001b[38;5;241m*\u001b[39mfit_params)\u001b[38;5;241m.\u001b[39mtransform(X)\n",
      "File \u001b[1;32m~\\anaconda3\\lib\\site-packages\\sklearn\\decomposition\\_pca.py:407\u001b[0m, in \u001b[0;36mPCA.fit_transform\u001b[1;34m(self, X, y)\u001b[0m\n\u001b[0;32m    385\u001b[0m \u001b[38;5;28;01mdef\u001b[39;00m \u001b[38;5;21mfit_transform\u001b[39m(\u001b[38;5;28mself\u001b[39m, X, y\u001b[38;5;241m=\u001b[39m\u001b[38;5;28;01mNone\u001b[39;00m):\n\u001b[0;32m    386\u001b[0m     \u001b[38;5;124;03m\"\"\"Fit the model with X and apply the dimensionality reduction on X.\u001b[39;00m\n\u001b[0;32m    387\u001b[0m \n\u001b[0;32m    388\u001b[0m \u001b[38;5;124;03m    Parameters\u001b[39;00m\n\u001b[1;32m   (...)\u001b[0m\n\u001b[0;32m    405\u001b[0m \u001b[38;5;124;03m    C-ordered array, use 'np.ascontiguousarray'.\u001b[39;00m\n\u001b[0;32m    406\u001b[0m \u001b[38;5;124;03m    \"\"\"\u001b[39;00m\n\u001b[1;32m--> 407\u001b[0m     U, S, Vt \u001b[38;5;241m=\u001b[39m \u001b[38;5;28;43mself\u001b[39;49m\u001b[38;5;241;43m.\u001b[39;49m\u001b[43m_fit\u001b[49m\u001b[43m(\u001b[49m\u001b[43mX\u001b[49m\u001b[43m)\u001b[49m\n\u001b[0;32m    408\u001b[0m     U \u001b[38;5;241m=\u001b[39m U[:, : \u001b[38;5;28mself\u001b[39m\u001b[38;5;241m.\u001b[39mn_components_]\n\u001b[0;32m    410\u001b[0m     \u001b[38;5;28;01mif\u001b[39;00m \u001b[38;5;28mself\u001b[39m\u001b[38;5;241m.\u001b[39mwhiten:\n\u001b[0;32m    411\u001b[0m         \u001b[38;5;66;03m# X_new = X * V / S * sqrt(n_samples) = U * sqrt(n_samples)\u001b[39;00m\n",
      "File \u001b[1;32m~\\anaconda3\\lib\\site-packages\\sklearn\\decomposition\\_pca.py:459\u001b[0m, in \u001b[0;36mPCA._fit\u001b[1;34m(self, X)\u001b[0m\n\u001b[0;32m    457\u001b[0m     \u001b[38;5;28;01mreturn\u001b[39;00m \u001b[38;5;28mself\u001b[39m\u001b[38;5;241m.\u001b[39m_fit_full(X, n_components)\n\u001b[0;32m    458\u001b[0m \u001b[38;5;28;01melif\u001b[39;00m \u001b[38;5;28mself\u001b[39m\u001b[38;5;241m.\u001b[39m_fit_svd_solver \u001b[38;5;129;01min\u001b[39;00m [\u001b[38;5;124m\"\u001b[39m\u001b[38;5;124marpack\u001b[39m\u001b[38;5;124m\"\u001b[39m, \u001b[38;5;124m\"\u001b[39m\u001b[38;5;124mrandomized\u001b[39m\u001b[38;5;124m\"\u001b[39m]:\n\u001b[1;32m--> 459\u001b[0m     \u001b[38;5;28;01mreturn\u001b[39;00m \u001b[38;5;28;43mself\u001b[39;49m\u001b[38;5;241;43m.\u001b[39;49m\u001b[43m_fit_truncated\u001b[49m\u001b[43m(\u001b[49m\u001b[43mX\u001b[49m\u001b[43m,\u001b[49m\u001b[43m \u001b[49m\u001b[43mn_components\u001b[49m\u001b[43m,\u001b[49m\u001b[43m \u001b[49m\u001b[38;5;28;43mself\u001b[39;49m\u001b[38;5;241;43m.\u001b[39;49m\u001b[43m_fit_svd_solver\u001b[49m\u001b[43m)\u001b[49m\n\u001b[0;32m    460\u001b[0m \u001b[38;5;28;01melse\u001b[39;00m:\n\u001b[0;32m    461\u001b[0m     \u001b[38;5;28;01mraise\u001b[39;00m \u001b[38;5;167;01mValueError\u001b[39;00m(\n\u001b[0;32m    462\u001b[0m         \u001b[38;5;124m\"\u001b[39m\u001b[38;5;124mUnrecognized svd_solver=\u001b[39m\u001b[38;5;124m'\u001b[39m\u001b[38;5;132;01m{0}\u001b[39;00m\u001b[38;5;124m'\u001b[39m\u001b[38;5;124m\"\u001b[39m\u001b[38;5;241m.\u001b[39mformat(\u001b[38;5;28mself\u001b[39m\u001b[38;5;241m.\u001b[39m_fit_svd_solver)\n\u001b[0;32m    463\u001b[0m     )\n",
      "File \u001b[1;32m~\\anaconda3\\lib\\site-packages\\sklearn\\decomposition\\_pca.py:594\u001b[0m, in \u001b[0;36mPCA._fit_truncated\u001b[1;34m(self, X, n_components, svd_solver)\u001b[0m\n\u001b[0;32m    592\u001b[0m \u001b[38;5;66;03m# Get variance explained by singular values\u001b[39;00m\n\u001b[0;32m    593\u001b[0m \u001b[38;5;28mself\u001b[39m\u001b[38;5;241m.\u001b[39mexplained_variance_ \u001b[38;5;241m=\u001b[39m (S \u001b[38;5;241m*\u001b[39m\u001b[38;5;241m*\u001b[39m \u001b[38;5;241m2\u001b[39m) \u001b[38;5;241m/\u001b[39m (n_samples \u001b[38;5;241m-\u001b[39m \u001b[38;5;241m1\u001b[39m)\n\u001b[1;32m--> 594\u001b[0m total_var \u001b[38;5;241m=\u001b[39m \u001b[43mnp\u001b[49m\u001b[38;5;241;43m.\u001b[39;49m\u001b[43mvar\u001b[49m\u001b[43m(\u001b[49m\u001b[43mX\u001b[49m\u001b[43m,\u001b[49m\u001b[43m \u001b[49m\u001b[43mddof\u001b[49m\u001b[38;5;241;43m=\u001b[39;49m\u001b[38;5;241;43m1\u001b[39;49m\u001b[43m,\u001b[49m\u001b[43m \u001b[49m\u001b[43maxis\u001b[49m\u001b[38;5;241;43m=\u001b[39;49m\u001b[38;5;241;43m0\u001b[39;49m\u001b[43m)\u001b[49m\n\u001b[0;32m    595\u001b[0m \u001b[38;5;28mself\u001b[39m\u001b[38;5;241m.\u001b[39mexplained_variance_ratio_ \u001b[38;5;241m=\u001b[39m \u001b[38;5;28mself\u001b[39m\u001b[38;5;241m.\u001b[39mexplained_variance_ \u001b[38;5;241m/\u001b[39m total_var\u001b[38;5;241m.\u001b[39msum()\n\u001b[0;32m    596\u001b[0m \u001b[38;5;28mself\u001b[39m\u001b[38;5;241m.\u001b[39msingular_values_ \u001b[38;5;241m=\u001b[39m S\u001b[38;5;241m.\u001b[39mcopy()  \u001b[38;5;66;03m# Store the singular values.\u001b[39;00m\n",
      "File \u001b[1;32m<__array_function__ internals>:5\u001b[0m, in \u001b[0;36mvar\u001b[1;34m(*args, **kwargs)\u001b[0m\n",
      "\u001b[1;31mKeyboardInterrupt\u001b[0m: "
     ]
    }
   ],
   "source": [
    "param_grid = [\n",
    "    {\n",
    "        'model': [DecisionTreeClassifier()], \n",
    "        'model__max_depth': [5, 6, 7],\n",
    "        'model__min_samples_leaf': [2, 10],\n",
    "        'dim_reducer__n_components': [2, 3, 4],\n",
    "        'model__min_samples_split': [2, 3],\n",
    "        'model__min_weight_fraction_leaf': [0.0],\n",
    "        'model__max_features': [\"auto\", \"sqrt\", \"log2\"]\n",
    "    }\n",
    "]\n",
    "\n",
    "grid = GridSearchCV(my_pipe, param_grid, cv=5)\n",
    "\n",
    "fittedgrid = grid.fit(X_train, y_train)"
   ]
  },
  {
   "cell_type": "code",
   "execution_count": 1219,
   "id": "90783767",
   "metadata": {},
   "outputs": [
    {
     "data": {
      "text/plain": [
       "Pipeline(steps=[('scaler', StandardScaler()),\n",
       "                ('dim_reducer', PCA(n_components=3)),\n",
       "                ('model',\n",
       "                 DecisionTreeClassifier(max_depth=6, min_samples_leaf=2))])"
      ]
     },
     "execution_count": 1219,
     "metadata": {},
     "output_type": "execute_result"
    }
   ],
   "source": [
    "# Best estimator object\n",
    "fittedgrid.best_estimator_"
   ]
  },
  {
   "cell_type": "code",
   "execution_count": 1220,
   "id": "20cca8e5",
   "metadata": {},
   "outputs": [
    {
     "data": {
      "text/plain": [
       "{'dim_reducer__n_components': 3,\n",
       " 'model': DecisionTreeClassifier(max_depth=6, min_samples_leaf=2),\n",
       " 'model__max_depth': 6,\n",
       " 'model__min_samples_leaf': 2}"
      ]
     },
     "execution_count": 1220,
     "metadata": {},
     "output_type": "execute_result"
    }
   ],
   "source": [
    "# Best hyperparameters\n",
    "fittedgrid.best_params_"
   ]
  },
  {
   "cell_type": "markdown",
   "id": "d624e761",
   "metadata": {},
   "source": [
    "The above function returns best `max_depth` for the decision tree model using 5 fold cross validation."
   ]
  },
  {
   "cell_type": "markdown",
   "id": "599de85f",
   "metadata": {},
   "source": [
    "---"
   ]
  },
  {
   "cell_type": "markdown",
   "id": "ea683955",
   "metadata": {},
   "source": [
    "---"
   ]
  },
  {
   "cell_type": "markdown",
   "id": "0797af91",
   "metadata": {},
   "source": [
    "#### Question 5.b What does your confusion matrix look like for your best model on the test set?\n",
    "<a class ='anchor' id = 'Que5.b' ></a>"
   ]
  },
  {
   "cell_type": "markdown",
   "id": "7744783f",
   "metadata": {},
   "source": [
    "Let's make a confusion matrix with the logreg model which had C=0.001"
   ]
  },
  {
   "cell_type": "code",
   "execution_count": 961,
   "id": "3140567d",
   "metadata": {},
   "outputs": [],
   "source": [
    "from sklearn.metrics import plot_confusion_matrix, confusion_matrix\n",
    "from sklearn.metrics import classification_report\n",
    "\n",
    "# Get class predictions\n",
    "y_train_pred = logreg.predict(X_train_ss)\n",
    "y_test_pred = logreg.predict(X_test_ss)"
   ]
  },
  {
   "cell_type": "code",
   "execution_count": 1090,
   "id": "4d9f701b",
   "metadata": {},
   "outputs": [
    {
     "data": {
      "text/plain": [
       "<sklearn.metrics._plot.confusion_matrix.ConfusionMatrixDisplay at 0x2835b690d30>"
      ]
     },
     "execution_count": 1090,
     "metadata": {},
     "output_type": "execute_result"
    },
    {
     "data": {
      "image/png": "[encoded data removed]",
      "text/plain": [
       "<Figure size 432x288 with 2 Axes>"
      ]
     },
     "metadata": {
      "needs_background": "light"
     },
     "output_type": "display_data"
    }
   ],
   "source": [
    "conf_matrix = confusion_matrix(y_test, y_test_pred)\n",
    "ConfusionMatrixDisplay(conf_matrix).plot()"
   ]
  },
  {
   "cell_type": "markdown",
   "id": "7400a767",
   "metadata": {},
   "source": [
    "Let's interpret these numbers, specifically the first row of the confusion matrix first:\n",
    "* **TN**: The vast majority of data points are from class 0 that were correctly predicted as BAD rating \n",
    "* **FP**: There was a small number of reviews that we incorrectly classified as GOOD rating"
   ]
  },
  {
   "cell_type": "markdown",
   "id": "5212e5b1",
   "metadata": {},
   "source": [
    "Let's interpret these numbers, specifically the first row of the confusion matrix first:\n",
    "* **FN**: There was a small number of reviews that we incorrectly classified as BAD rating \n",
    "* **TP**: The vast majority of data points are from class 1 that were correctly predicted as GOOD rating"
   ]
  },
  {
   "cell_type": "code",
   "execution_count": 1092,
   "id": "c229211c",
   "metadata": {},
   "outputs": [
    {
     "name": "stdout",
     "output_type": "stream",
     "text": [
      "              precision    recall  f1-score   support\n",
      "\n",
      "           0       0.75      0.71      0.73      1809\n",
      "           1       0.80      0.82      0.81      2458\n",
      "\n",
      "    accuracy                           0.78      4267\n",
      "   macro avg       0.77      0.77      0.77      4267\n",
      "weighted avg       0.78      0.78      0.78      4267\n",
      "\n"
     ]
    }
   ],
   "source": [
    "print(classification_report(y_test, y_test_pred))"
   ]
  },
  {
   "cell_type": "markdown",
   "id": "ee8e5342",
   "metadata": {},
   "source": [
    "---"
   ]
  },
  {
   "cell_type": "markdown",
   "id": "f2878976",
   "metadata": {},
   "source": [
    "---"
   ]
  },
  {
   "cell_type": "markdown",
   "id": "401a500c",
   "metadata": {},
   "source": [
    "### Question 6: Create one new feature of your choice:\n",
    "<a class ='anchor' id = 'Que6' ></a>"
   ]
  },
  {
   "cell_type": "markdown",
   "id": "541ce16f",
   "metadata": {},
   "source": [
    "#### Question 6.a Explain your new feature and why you consider it will improve accuracy.\n",
    "<a class ='anchor' id = 'Que6.a' ></a>"
   ]
  },
  {
   "cell_type": "code",
   "execution_count": 1027,
   "id": "e8e04272",
   "metadata": {
    "scrolled": false
   },
   "outputs": [
    {
     "data": {
      "text/plain": [
       "['Additional_Number_of_Scoring',\n",
       " 'Average_Score',\n",
       " 'Review_Total_Negative_Word_Counts',\n",
       " 'Total_Number_of_Reviews',\n",
       " 'Review_Total_Positive_Word_Counts',\n",
       " 'Total_Number_of_Reviews_Reviewer_Has_Given',\n",
       " 'days_since_review',\n",
       " 'lat',\n",
       " 'lng',\n",
       " 'weekday_of_review',\n",
       " 'month_of_review',\n",
       " 'year_of_review',\n",
       " 'bed_single',\n",
       " 'bed_double',\n",
       " 'bed_queen',\n",
       " 'bed_king',\n",
       " 'trip_leisure',\n",
       " 'trip_biz',\n",
       " 'group_solo',\n",
       " 'group_couple',\n",
       " 'group_family',\n",
       " 'rating']"
      ]
     },
     "execution_count": 1027,
     "metadata": {},
     "output_type": "execute_result"
    }
   ],
   "source": [
    "# peeking into the columns which could be played with\n",
    "list(not_new.columns)"
   ]
  },
  {
   "cell_type": "markdown",
   "id": "5deb7093",
   "metadata": {},
   "source": [
    "There can be lot of features that can be created from the ones shown above. Starting from the last, we have our dependent variable, then there are 9 tags columns and so on. "
   ]
  },
  {
   "cell_type": "markdown",
   "id": "850852ff",
   "metadata": {},
   "source": [
    "One important thong that is to be considered is that feature engineering does not make a feature out of nowhere. Features are made with the available material we have. But to improve the accuracy of the model, a direct fecture will surely not help. This is because features can be cretaed from direct relationship by making some operations done by computer also on those columns. This will no doubt take more time but will not change the accuracy.\n",
    "\n",
    "\n",
    "So new features should be created such that it broadens the category in which the model is classifying. This will help model avoid looking into minute details of the data and focus on a broader view. However, this can decrease the accuracy of the model as well.\n",
    "\n",
    "\n",
    "For eg: In a dataset, if number of items are multiplied by the cost price of all the items, this would generate a sales column. But for sure this feature will not help in improving accuracy of the model. This feature can be done by the machine itself as it is as direct for human to so. On the flip side, if, for example, months of the year are converted into seasons and generated a new column, then it would change the accuracy of the model.\n",
    "\n",
    "\n",
    "ANd we are overfitting. "
   ]
  },
  {
   "cell_type": "code",
   "execution_count": 1028,
   "id": "6c45e4c6",
   "metadata": {},
   "outputs": [
    {
     "data": {
      "text/plain": [
       "array([9. , 9.4, 8.1, 8.4, 8.7, 7.8, 8.8, 8.6, 7.7, 9.6, 8.5, 8.2, 9.1,\n",
       "       6.4, 8.3, 7. , 9.2, 7.1, 8.9, 7.4, 7.6, 9.3, 8. , 7.5, 6.8, 7.9,\n",
       "       6.7, 6.9, 7.3, 9.5, 6.6])"
      ]
     },
     "execution_count": 1028,
     "metadata": {},
     "output_type": "execute_result"
    }
   ],
   "source": [
    "not_new['Average_Score'].unique() "
   ]
  },
  {
   "cell_type": "code",
   "execution_count": 1029,
   "id": "ac74e514",
   "metadata": {},
   "outputs": [
    {
     "data": {
      "text/plain": [
       "31"
      ]
     },
     "execution_count": 1029,
     "metadata": {},
     "output_type": "execute_result"
    }
   ],
   "source": [
    "len(not_new['Average_Score'].unique()) "
   ]
  },
  {
   "cell_type": "markdown",
   "id": "a301f6e4",
   "metadata": {},
   "source": [
    "__Features that can be made:__\n",
    "1. Bedroom can be added into one column\n",
    "2. `month_of_review` can be converted to seasons\n",
    "3. `weekday_of_review` can be converted to workdays and weekends.\n",
    "4. There are 390 unique number of hotels, `lat` and `lng`. `lat` and `lng` can be put down to clusters by unsupervised learning.\n",
    "5. There are 31 unique number of `Average_Score` which cab be rounded off or can be converted to catgeories\n",
    "6. total positve and negative word counts can be converted to some catgories by analysing the unique values and the trends and the distribution.\n",
    "7. `Review_Total_Negative_Word_Counts` and `Review_Total_Negative_Word_Counts` can also be converted into other small categories by seeing the trend and the distribution"
   ]
  },
  {
   "cell_type": "markdown",
   "id": "ddd0797f",
   "metadata": {},
   "source": [
    "Out of all the columns, I would the last option. Do some EDA and then make one extra column and eventually compute the accuracy."
   ]
  },
  {
   "cell_type": "code",
   "execution_count": 1030,
   "id": "3b8c40bf",
   "metadata": {},
   "outputs": [
    {
     "data": {
      "text/plain": [
       "3     1192\n",
       "2     1192\n",
       "12    1146\n",
       "1     1105\n",
       "8     1097\n",
       "4     1095\n",
       "5     1049\n",
       "7     1030\n",
       "6     1011\n",
       "10     992\n",
       "11     965\n",
       "9      924\n",
       "Name: month_of_review, dtype: int64"
      ]
     },
     "execution_count": 1030,
     "metadata": {},
     "output_type": "execute_result"
    }
   ],
   "source": [
    "not_new['month_of_review'].value_counts()"
   ]
  },
  {
   "cell_type": "markdown",
   "id": "c2d3411e",
   "metadata": {},
   "source": [
    "From above it can be seen that the distribution is quite balanced."
   ]
  },
  {
   "cell_type": "code",
   "execution_count": 1031,
   "id": "804dc9cc",
   "metadata": {},
   "outputs": [
    {
     "data": {
      "image/png": "[encoded data removed]",
      "text/plain": [
       "<Figure size 432x288 with 1 Axes>"
      ]
     },
     "metadata": {
      "needs_background": "light"
     },
     "output_type": "display_data"
    }
   ],
   "source": [
    "# plotting distribution\n",
    "plt.figure()\n",
    "plt.bar(not_new['month_of_review'].value_counts().index,\n",
    "        not_new['month_of_review'].value_counts().values)\n",
    "plt.xlabel('Month number')\n",
    "plt.ylabel('frequency')\n",
    "plt.title('Distribution of rating given in different months')\n",
    "plt.grid()\n",
    "plt.show()"
   ]
  },
  {
   "cell_type": "markdown",
   "id": "0f570dcf",
   "metadata": {},
   "source": [
    "From the above graph it can be seen that most number of reviews were made in the winter season, which could be assumed that people were travelling more in winters which is weird."
   ]
  },
  {
   "cell_type": "markdown",
   "id": "aca3d3ae",
   "metadata": {},
   "source": [
    "Let's divide the months into 3 categories of 4 months, winter, summer and fall."
   ]
  },
  {
   "cell_type": "code",
   "execution_count": 1065,
   "id": "6055a547",
   "metadata": {},
   "outputs": [],
   "source": [
    "# loading the dataset\n",
    "hotel_df = pd.read_csv('clean_train_dataframe.csv')"
   ]
  },
  {
   "cell_type": "code",
   "execution_count": 1066,
   "id": "75b821a7",
   "metadata": {},
   "outputs": [],
   "source": [
    "hotel_df['month_of_review'] = hotel_df['month_of_review'].astype('str')"
   ]
  },
  {
   "cell_type": "code",
   "execution_count": 1067,
   "id": "01d4c043",
   "metadata": {},
   "outputs": [
    {
     "data": {
      "text/plain": [
       "3     1192\n",
       "2     1192\n",
       "12    1146\n",
       "1     1105\n",
       "8     1097\n",
       "4     1095\n",
       "5     1049\n",
       "7     1030\n",
       "6     1011\n",
       "10     992\n",
       "11     965\n",
       "9      924\n",
       "Name: month_of_review, dtype: int64"
      ]
     },
     "execution_count": 1067,
     "metadata": {},
     "output_type": "execute_result"
    }
   ],
   "source": [
    "hotel_df['month_of_review'].value_counts()"
   ]
  },
  {
   "cell_type": "markdown",
   "id": "26c2e9af",
   "metadata": {},
   "source": [
    "Considering winter as 0, summer as 1 and fall as 2."
   ]
  },
  {
   "cell_type": "code",
   "execution_count": 1068,
   "id": "3d122d7e",
   "metadata": {},
   "outputs": [],
   "source": [
    "x = {'1':'0', '2':'0', '3':'0','4':'0', '5':'1', '6':'1', '7':'1', '8':'1','9':'2', '10':'2', '11':'2', '12':'2'}\n",
    "\n",
    "hotel_df['month_of_review'] = hotel_df['month_of_review'].map(x)"
   ]
  },
  {
   "cell_type": "code",
   "execution_count": 1069,
   "id": "00a58b10",
   "metadata": {},
   "outputs": [
    {
     "data": {
      "text/plain": [
       "0    4584\n",
       "1    4187\n",
       "2    4027\n",
       "Name: month_of_review, dtype: int64"
      ]
     },
     "execution_count": 1069,
     "metadata": {},
     "output_type": "execute_result"
    }
   ],
   "source": [
    "hotel_df['month_of_review'].value_counts()"
   ]
  },
  {
   "cell_type": "code",
   "execution_count": 1070,
   "id": "3aa3e22a",
   "metadata": {},
   "outputs": [],
   "source": [
    "hotel_df = hotel_df.rename(columns={'month_of_review': 'season_of_review'})"
   ]
  },
  {
   "cell_type": "code",
   "execution_count": 1071,
   "id": "298d2741",
   "metadata": {},
   "outputs": [
    {
     "data": {
      "text/plain": [
       "0    4584\n",
       "1    4187\n",
       "2    4027\n",
       "Name: season_of_review, dtype: int64"
      ]
     },
     "execution_count": 1071,
     "metadata": {},
     "output_type": "execute_result"
    }
   ],
   "source": [
    "# sanity check\n",
    "hotel_df['season_of_review'].value_counts()"
   ]
  },
  {
   "cell_type": "code",
   "execution_count": 1073,
   "id": "b74fba94",
   "metadata": {},
   "outputs": [],
   "source": [
    "hotel_df['season_of_review'] = hotel_df['season_of_review'].astype(int)"
   ]
  },
  {
   "cell_type": "markdown",
   "id": "56cd9a8c",
   "metadata": {},
   "source": [
    "From above we can see that most of the ratings were given in the month of winter and it keeps on decreasing through the whole year."
   ]
  },
  {
   "cell_type": "markdown",
   "id": "d6e7c992",
   "metadata": {},
   "source": [
    "Important thing to note here is that feature engineering involves a lot of types like new columns can be made or change of the existing column can be done like as we did."
   ]
  },
  {
   "cell_type": "markdown",
   "id": "f88fc526",
   "metadata": {},
   "source": [
    "As test set is different from the train set, let's transform the `month_of_review`column to `season_of_review` column."
   ]
  },
  {
   "cell_type": "code",
   "execution_count": 1074,
   "id": "88e47ade",
   "metadata": {},
   "outputs": [],
   "source": [
    "# loading the dataset\n",
    "test_df = pd.read_csv('clean_test_dataframe.csv')"
   ]
  },
  {
   "cell_type": "code",
   "execution_count": 1075,
   "id": "e81fd0c4",
   "metadata": {},
   "outputs": [],
   "source": [
    "test_df['month_of_review'] = test_df['month_of_review'].astype('str')"
   ]
  },
  {
   "cell_type": "code",
   "execution_count": 1076,
   "id": "de71d611",
   "metadata": {},
   "outputs": [],
   "source": [
    "x = {'1':'0', '2':'0', '3':'0','4':'0', '5':'1', '6':'1', '7':'1', '8':'1','9':'2', '10':'2', '11':'2', '12':'2'}\n",
    "\n",
    "test_df['month_of_review'] = test_df['month_of_review'].map(x)"
   ]
  },
  {
   "cell_type": "code",
   "execution_count": 1077,
   "id": "2af36a7c",
   "metadata": {},
   "outputs": [],
   "source": [
    "test_df = test_df.rename(columns={'month_of_review': 'season_of_review'})"
   ]
  },
  {
   "cell_type": "code",
   "execution_count": 1078,
   "id": "c6da4087",
   "metadata": {},
   "outputs": [
    {
     "data": {
      "text/plain": [
       "0    1524\n",
       "1    1417\n",
       "2    1326\n",
       "Name: season_of_review, dtype: int64"
      ]
     },
     "execution_count": 1078,
     "metadata": {},
     "output_type": "execute_result"
    }
   ],
   "source": [
    "# sanity check\n",
    "test_df['season_of_review'].value_counts()"
   ]
  },
  {
   "cell_type": "code",
   "execution_count": 1079,
   "id": "e29e7a39",
   "metadata": {},
   "outputs": [],
   "source": [
    "test_df['season_of_review'] = test_df['season_of_review'].astype(int)"
   ]
  },
  {
   "cell_type": "markdown",
   "id": "eaed82f8",
   "metadata": {},
   "source": [
    "New feature, that is, `season_of_review` is created and let's test this on our model and see the accuracy.\n"
   ]
  },
  {
   "cell_type": "markdown",
   "id": "28d86574",
   "metadata": {},
   "source": [
    "---"
   ]
  },
  {
   "cell_type": "markdown",
   "id": "e0c3f81d",
   "metadata": {},
   "source": [
    "#### Question 6.b Run the model from question 5 again. You will have to re-optimize your hyperparameters. Has the accuracy score of your best model improved on the test set after adding the new feature you created?\n",
    "<a class ='anchor' id = 'Que6.b' ></a>"
   ]
  },
  {
   "cell_type": "code",
   "execution_count": 1080,
   "id": "cf8f5f1e",
   "metadata": {},
   "outputs": [],
   "source": [
    "# takeing 60% sample from the dataset\n",
    "hotel2_df = hotel_df.sample(frac=0.6, random_state=1)"
   ]
  },
  {
   "cell_type": "code",
   "execution_count": 1081,
   "id": "ce6449e1",
   "metadata": {},
   "outputs": [],
   "source": [
    "# instantiating our independent and dependent variables \n",
    "X_train = hotel2_df.drop(columns=\"rating\")\n",
    "y_train = hotel2_df[\"rating\"]"
   ]
  },
  {
   "cell_type": "code",
   "execution_count": 1082,
   "id": "d0b35ce4",
   "metadata": {},
   "outputs": [],
   "source": [
    "# instantiating our independent and dependent variables \n",
    "X_test = test_df.drop(columns=\"rating\")\n",
    "y_test = test_df[\"rating\"]"
   ]
  },
  {
   "cell_type": "markdown",
   "id": "ad059bce",
   "metadata": {},
   "source": [
    "Our sets are ready for scaling and modelling."
   ]
  },
  {
   "cell_type": "markdown",
   "id": "8d0591b1",
   "metadata": {},
   "source": [
    "To calculate the right hyperparameter for this model, split of train set is needed to remainder and validation sets."
   ]
  },
  {
   "cell_type": "code",
   "execution_count": 1083,
   "id": "7a2d6621",
   "metadata": {},
   "outputs": [],
   "source": [
    "# splitting our data into train and test sets\n",
    "from sklearn.model_selection import train_test_split\n",
    "\n",
    "X_remainder, X_validation, y_remainder, y_validation = train_test_split(X_train, y_train, test_size=0.40, random_state=1, stratify=y_train)"
   ]
  },
  {
   "cell_type": "code",
   "execution_count": 1084,
   "id": "dc9b28d6",
   "metadata": {},
   "outputs": [
    {
     "data": {
      "text/plain": [
       "(4607, 2743)"
      ]
     },
     "execution_count": 1084,
     "metadata": {},
     "output_type": "execute_result"
    }
   ],
   "source": [
    "X_remainder.shape"
   ]
  },
  {
   "cell_type": "code",
   "execution_count": 1085,
   "id": "2b9792f5",
   "metadata": {},
   "outputs": [
    {
     "data": {
      "text/plain": [
       "(3072, 2743)"
      ]
     },
     "execution_count": 1085,
     "metadata": {},
     "output_type": "execute_result"
    }
   ],
   "source": [
    "X_validation.shape"
   ]
  },
  {
   "cell_type": "code",
   "execution_count": 1086,
   "id": "319b48b6",
   "metadata": {},
   "outputs": [],
   "source": [
    "# scale the data \n",
    "SS = StandardScaler()\n",
    "\n",
    "# Fit the scaler and transform both data subsets\n",
    "X_remainder_ss = SS.fit_transform(X_remainder)\n",
    "X_validation_ss = SS.transform(X_validation)"
   ]
  },
  {
   "cell_type": "code",
   "execution_count": 1061,
   "id": "e9741d2c",
   "metadata": {},
   "outputs": [
    {
     "data": {
      "image/png": "[encoded data removed]",
      "text/plain": [
       "<Figure size 432x288 with 1 Axes>"
      ]
     },
     "metadata": {
      "needs_background": "light"
     },
     "output_type": "display_data"
    }
   ],
   "source": [
    "#Store the results\n",
    "cross_validation_scores = []\n",
    "\n",
    "C_range = np.array([.00000001,.0000001,.000001,.00001,.0001,.001,.1,\\\n",
    "                1,10,100,1000,10000,100000,1000000,10000000,100000000,1000000000])\n",
    "\n",
    "#Do some cross validation\n",
    "for c in C_range:\n",
    "    LR_model = LogisticRegression(C=c,random_state=1)\n",
    "    \n",
    "    # the cross validation score (mean of scores from all folds)\n",
    "    cv_score = np.mean(cross_val_score(LR_model, X_remainder_ss, y_remainder, cv = 5))\n",
    "    \n",
    "    cross_validation_scores.append(cv_score)\n",
    "\n",
    "plt.figure()\n",
    "plt.plot(C_range, cross_validation_scores,label=\"Cross Validation Score\",marker='.')\n",
    "plt.legend()\n",
    "plt.xscale(\"log\")\n",
    "plt.xlabel('Regularization Parameter: C')\n",
    "plt.ylabel('Cross Validation Score')\n",
    "plt.grid()\n",
    "plt.show();"
   ]
  },
  {
   "cell_type": "markdown",
   "id": "369c89b2",
   "metadata": {},
   "source": [
    "Best C: 0.001"
   ]
  },
  {
   "cell_type": "markdown",
   "id": "deb9ec5c",
   "metadata": {},
   "source": [
    "Now let's test this on the main dataset and check the accuracy on the test set."
   ]
  },
  {
   "cell_type": "code",
   "execution_count": 1087,
   "id": "e2ec15a4",
   "metadata": {},
   "outputs": [],
   "source": [
    "# instantiating our independent and dependent variables \n",
    "X_train = hotel_df.drop(columns=\"rating\")\n",
    "y_train = hotel_df[\"rating\"]"
   ]
  },
  {
   "cell_type": "code",
   "execution_count": 1088,
   "id": "034f1090",
   "metadata": {},
   "outputs": [],
   "source": [
    "# scale the data \n",
    "SS = StandardScaler()\n",
    "\n",
    "# Fit the scaler and transform both data subsets\n",
    "X_train_ss = SS.fit_transform(X_train)\n",
    "X_test_ss = SS.transform(X_test)"
   ]
  },
  {
   "cell_type": "code",
   "execution_count": 1089,
   "id": "7793a445",
   "metadata": {},
   "outputs": [
    {
     "name": "stdout",
     "output_type": "stream",
     "text": [
      "Accuracy score of the TRAIN set: 0.853258321612752\n",
      "Accuracy score of the TEST set: 0.777126786969768\n"
     ]
    }
   ],
   "source": [
    "# Fitting a model with C=0.001\n",
    "logreg = LogisticRegression(solver='lbfgs', C=0.001)\n",
    "logreg.fit(X_train_ss, y_train)\n",
    "\n",
    "# Training and test score\n",
    "print(f\"Accuracy score of the TRAIN set: {logreg.score(X_train_ss, y_train)}\")\n",
    "print(f\"Accuracy score of the TEST set: {logreg.score(X_test_ss, y_test)}\")"
   ]
  },
  {
   "cell_type": "markdown",
   "id": "0a09e20a",
   "metadata": {},
   "source": [
    "Unfortunately, our accuracies don't change that much and infact both test and train accuracies got decreased by smal 10^(-3) margins."
   ]
  },
  {
   "cell_type": "markdown",
   "id": "4fa6dccd",
   "metadata": {},
   "source": [
    "---"
   ]
  },
  {
   "cell_type": "markdown",
   "id": "9847a791",
   "metadata": {},
   "source": [
    "### SUMMARY:\n",
    "<a class ='anchor' id = 'summary' ></a>"
   ]
  },
  {
   "cell_type": "markdown",
   "id": "2b7e838d",
   "metadata": {},
   "source": [
    "The best model so far created is the logistic regression model with c value of 0.001 as done in que5a. However, other models can be improved with continuous tuning of hyperparameters on the validation sets. Also decision tree model is fastest of all, but also depends on the number of hyperparameters used."
   ]
  },
  {
   "cell_type": "markdown",
   "id": "3d533dbb",
   "metadata": {},
   "source": [
    "__The highest accuracy achieved by `logreg` model is 77.759%__"
   ]
  },
  {
   "cell_type": "markdown",
   "id": "e1ca0b6f",
   "metadata": {},
   "source": [
    "---"
   ]
  },
  {
   "cell_type": "markdown",
   "id": "2101e0dd",
   "metadata": {},
   "source": [
    "### THANK YOU!!"
   ]
  }
 ],
 "metadata": {
  "kernelspec": {
   "display_name": "myenv",
   "language": "python",
   "name": "myenv"
  },
  "language_info": {
   "codemirror_mode": {
    "name": "ipython",
    "version": 3
   },
   "file_extension": ".py",
   "mimetype": "text/x-python",
   "name": "python",
   "nbconvert_exporter": "python",
   "pygments_lexer": "ipython3",
   "version": "3.9.12"
  }
 },
 "nbformat": 4,
 "nbformat_minor": 5
}
